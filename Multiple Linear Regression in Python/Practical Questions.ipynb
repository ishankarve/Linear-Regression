{
 "cells": [
  {
   "cell_type": "markdown",
   "id": "e418bfce",
   "metadata": {},
   "source": [
    "#### Mapping Variables\n",
    "#### Description\n",
    "You're given two lists, the first of which contains the name of some people and the second contains their corresponding 'response'. These lists have been converted to a dataframe.\n",
    "Now, the values that the 'response' variable can take are ‘Yes’, ‘No’, and ‘Maybe’. Write a code to map these variables to the values ‘1.0’, ‘0.0’, and ‘0.5’.\n",
    "\n",
    "Note: It also might happen the the first letter of the three responses are not in uppercase, i.e. you might also have the values 'yes', 'no', and 'maybe' in the dataframe. So make sure you handle that in your code.\n",
    "\n",
    "##### input\n",
    "[['Reetesh', 'Shruti', 'Kaustubh', 'Vikas', 'Mahima', 'Akshay'], ['No', 'Maybe', 'yes', 'Yes', 'maybe', 'Yes']]"
   ]
  },
  {
   "cell_type": "code",
   "execution_count": 6,
   "id": "1a7b686d",
   "metadata": {},
   "outputs": [],
   "source": [
    "# Reading the input\n",
    "import ast,sys\n",
    "input_str = \"[['Reetesh', 'Shruti', 'Kaustubh', 'Vikas', 'Mahima', 'Akshay'], ['No', 'Maybe', 'yes', 'Yes', 'maybe', 'Yes']]\"\n"
   ]
  },
  {
   "cell_type": "code",
   "execution_count": 7,
   "id": "14b5a8ed",
   "metadata": {},
   "outputs": [],
   "source": [
    "input_list = ast.literal_eval(input_str)\n",
    "# Storing the names in a variable 'name'\n",
    "name = input_list[0]\n",
    "# Storing the responses in a variable 'repsonse'\n",
    "response = input_list[1]"
   ]
  },
  {
   "cell_type": "code",
   "execution_count": 8,
   "id": "90bd5f01",
   "metadata": {},
   "outputs": [],
   "source": [
    "import pandas as pd \n",
    "df = pd.DataFrame({'Name': name,'Response': response})"
   ]
  },
  {
   "cell_type": "code",
   "execution_count": 11,
   "id": "bf78fe0f",
   "metadata": {},
   "outputs": [],
   "source": [
    "#change to lower case to maintain uniformity\n",
    "df['Response']=df['Response'].str.lower()"
   ]
  },
  {
   "cell_type": "code",
   "execution_count": 26,
   "id": "96356e61",
   "metadata": {},
   "outputs": [
    {
     "data": {
      "text/plain": [
       "yes      3\n",
       "maybe    2\n",
       "no       1\n",
       "Name: Response, dtype: int64"
      ]
     },
     "execution_count": 26,
     "metadata": {},
     "output_type": "execute_result"
    }
   ],
   "source": [
    "df.Response.value_counts()"
   ]
  },
  {
   "cell_type": "code",
   "execution_count": 30,
   "id": "1aa59073",
   "metadata": {},
   "outputs": [],
   "source": [
    "# Applying the function to the response\n",
    "df['Response'] = df['Response'].map({\"yes\": 1.0, \"no\": 0.0, \"maybe\": 0.5})"
   ]
  },
  {
   "cell_type": "code",
   "execution_count": 31,
   "id": "35ff1a1d",
   "metadata": {},
   "outputs": [
    {
     "data": {
      "text/plain": [
       "1.0    3\n",
       "0.5    2\n",
       "0.0    1\n",
       "Name: Response, dtype: int64"
      ]
     },
     "execution_count": 31,
     "metadata": {},
     "output_type": "execute_result"
    }
   ],
   "source": [
    "df.Response.value_counts()"
   ]
  },
  {
   "cell_type": "code",
   "execution_count": 32,
   "id": "e17422fa",
   "metadata": {},
   "outputs": [
    {
     "name": "stdout",
     "output_type": "stream",
     "text": [
      "       Name  Response\n",
      "0   Reetesh       0.0\n",
      "1    Shruti       0.5\n",
      "2  Kaustubh       1.0\n",
      "3     Vikas       1.0\n",
      "4    Mahima       0.5\n",
      "5    Akshay       1.0\n"
     ]
    }
   ],
   "source": [
    "print(df)"
   ]
  },
  {
   "cell_type": "code",
   "execution_count": null,
   "id": "09e89dc4",
   "metadata": {},
   "outputs": [],
   "source": []
  }
 ],
 "metadata": {
  "kernelspec": {
   "display_name": "Python 3 (ipykernel)",
   "language": "python",
   "name": "python3"
  },
  "language_info": {
   "codemirror_mode": {
    "name": "ipython",
    "version": 3
   },
   "file_extension": ".py",
   "mimetype": "text/x-python",
   "name": "python",
   "nbconvert_exporter": "python",
   "pygments_lexer": "ipython3",
   "version": "3.10.1"
  }
 },
 "nbformat": 4,
 "nbformat_minor": 5
}
