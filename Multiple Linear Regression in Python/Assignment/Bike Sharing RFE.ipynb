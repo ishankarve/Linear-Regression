{
  "cells": [
    {
      "cell_type": "markdown",
      "metadata": {
        "id": "view-in-github",
        "colab_type": "text"
      },
      "source": [
        "<a href=\"https://colab.research.google.com/github/ishankarve/Linear-Regression/blob/main/Multiple%20Linear%20Regression%20in%20Python/Assignment/Bike%20Sharing%20RFE.ipynb\" target=\"_parent\"><img src=\"https://colab.research.google.com/assets/colab-badge.svg\" alt=\"Open In Colab\"/></a>"
      ]
    },
    {
      "cell_type": "markdown",
      "id": "b_VG-5Olq5dU",
      "metadata": {
        "id": "b_VG-5Olq5dU"
      },
      "source": [
        "### **Objective**\n",
        "Build a multiple linear regression model for the prediction of demand for shared bikes using `RFE`. "
      ]
    },
    {
      "cell_type": "markdown",
      "id": "WaIRRUrZrPpr",
      "metadata": {
        "id": "WaIRRUrZrPpr"
      },
      "source": [
        "### **Problem Statement**\n",
        "\n",
        "A US bike-sharing provider **BoomBikes** has recently suffered considerable dips in their revenues due to the ongoing Corona pandemic. The company is finding it very difficult to sustain in the current market scenario. So, it has decided to come up with a mindful business plan to be able to accelerate its revenue as soon as the ongoing lockdown comes to an end, and the economy restores to a healthy state. \n",
        "\n",
        "In such an attempt, BoomBikes aspires to understand the demand for shared bikes among the people after this ongoing quarantine situation ends across the nation due to Covid-19. \n"
      ]
    },
    {
      "cell_type": "markdown",
      "id": "lxOJfPdkruVw",
      "metadata": {
        "id": "lxOJfPdkruVw"
      },
      "source": [
        "### **Business Goal**\n",
        "\n",
        "Find variables are significant in predicting the demand for shared bikes and how well those variables describe the bike demands\n",
        "Based on various **meteorological surveys** and people's styles, the service provider firm has gathered a large dataset on daily bike demands across the American market based on some factors. \n",
        "\n",
        "Based on the goal mentioned above, model the demand for shared bikes with the available independent variables."
      ]
    },
    {
      "cell_type": "markdown",
      "id": "Ub-N2bKNsHjN",
      "metadata": {
        "id": "Ub-N2bKNsHjN"
      },
      "source": [
        "### **Data Caveats**\n",
        "\n",
        "1.   In the dataset that some of the variables like 'weathersit' and 'season' have values as 1, 2, 3, 4 which have specific labels associated with them (as described in the data dictionary). These numeric values associated with the labels may indicate that there is some order to them - which is actually not the case. So, it is advisable to convert such feature values into categorical string values before proceeding with model building.\n",
        "\n",
        "2.  The column 'yr' has two values 0 and 1 indicating the years 2018 and 2019 respectively. Since these bike-sharing systems are slowly gaining popularity, the demand for these bikes is increasing every year proving that the column 'yr' might be a good variable for prediction. So think twice before dropping it. \n"
      ]
    },
    {
      "cell_type": "markdown",
      "id": "KOt0RHQBtJ31",
      "metadata": {
        "id": "KOt0RHQBtJ31"
      },
      "source": [
        "### **Model Building**\n",
        "\n",
        "In the dataset provided,there are three columns named 'casual', 'registered', and 'cnt'. The variable 'casual' indicates the number casual users who have made a rental. The variable 'registered' on the other hand shows the total number of registered users who have made a booking on a given day. Finally, the 'cnt' variable indicates the total number of bike rentals, including both casual and registered. ***The model should be built taking this 'cnt' as the target variable.***"
      ]
    },
    {
      "cell_type": "markdown",
      "id": "Vf4xgMYGurn0",
      "metadata": {
        "id": "Vf4xgMYGurn0"
      },
      "source": [
        "### **Step 1: Import Libraries**\n"
      ]
    },
    {
      "cell_type": "code",
      "execution_count": 6,
      "id": "vwwbhT8LrMpN",
      "metadata": {
        "id": "vwwbhT8LrMpN"
      },
      "outputs": [],
      "source": [
        "import pandas as pd\n",
        "import numpy as np\n",
        "import seaborn as sns\n",
        "import matplotlib.pyplot as plt\n",
        "from sklearn.model_selection import train_test_split\n",
        "from sklearn.preprocessing import MinMaxScaler\n",
        "import statsmodels.api as sm\n",
        "from statsmodels.stats.outliers_influence import variance_inflation_factor\n"
      ]
    },
    {
      "cell_type": "code",
      "execution_count": 7,
      "id": "eAMQL2kdu_FL",
      "metadata": {
        "id": "eAMQL2kdu_FL"
      },
      "outputs": [],
      "source": [
        "# Supress Warnings\n",
        "import warnings\n",
        "warnings.filterwarnings('ignore')"
      ]
    },
    {
      "cell_type": "markdown",
      "id": "F0Ruu2jnvnsf",
      "metadata": {
        "id": "F0Ruu2jnvnsf"
      },
      "source": [
        "### **Step 2: Import Data**"
      ]
    },
    {
      "cell_type": "code",
      "execution_count": 8,
      "id": "swiTOr5EvMZC",
      "metadata": {
        "id": "swiTOr5EvMZC"
      },
      "outputs": [],
      "source": [
        "#import data from gihub link\n",
        "df_bikeshare=pd.read_csv(\"https://raw.githubusercontent.com/ishankarve/Linear-Regression/main/Multiple%20Linear%20Regression%20in%20Python/Assignment/day.csv\")"
      ]
    },
    {
      "cell_type": "code",
      "execution_count": 9,
      "id": "-JBs9HxrwImf",
      "metadata": {
        "colab": {
          "base_uri": "https://localhost:8080/",
          "height": 661
        },
        "id": "-JBs9HxrwImf",
        "outputId": "68fad518-2700-4363-a346-05df23fb375f"
      },
      "outputs": [
        {
          "output_type": "execute_result",
          "data": {
            "text/plain": [
              "     instant      dteday  season  yr  mnth  holiday  weekday  workingday  \\\n",
              "0          1  01-01-2018       1   0     1        0        6           0   \n",
              "1          2  02-01-2018       1   0     1        0        0           0   \n",
              "2          3  03-01-2018       1   0     1        0        1           1   \n",
              "3          4  04-01-2018       1   0     1        0        2           1   \n",
              "4          5  05-01-2018       1   0     1        0        3           1   \n",
              "..       ...         ...     ...  ..   ...      ...      ...         ...   \n",
              "725      726  27-12-2019       1   1    12        0        4           1   \n",
              "726      727  28-12-2019       1   1    12        0        5           1   \n",
              "727      728  29-12-2019       1   1    12        0        6           0   \n",
              "728      729  30-12-2019       1   1    12        0        0           0   \n",
              "729      730  31-12-2019       1   1    12        0        1           1   \n",
              "\n",
              "     weathersit       temp     atemp      hum  windspeed  casual  registered  \\\n",
              "0             2  14.110847  18.18125  80.5833  10.749882     331         654   \n",
              "1             2  14.902598  17.68695  69.6087  16.652113     131         670   \n",
              "2             1   8.050924   9.47025  43.7273  16.636703     120        1229   \n",
              "3             1   8.200000  10.60610  59.0435  10.739832     108        1454   \n",
              "4             1   9.305237  11.46350  43.6957  12.522300      82        1518   \n",
              "..          ...        ...       ...      ...        ...     ...         ...   \n",
              "725           2  10.420847  11.33210  65.2917  23.458911     247        1867   \n",
              "726           2  10.386653  12.75230  59.0000  10.416557     644        2451   \n",
              "727           2  10.386653  12.12000  75.2917   8.333661     159        1182   \n",
              "728           1  10.489153  11.58500  48.3333  23.500518     364        1432   \n",
              "729           2   8.849153  11.17435  57.7500  10.374682     439        2290   \n",
              "\n",
              "      cnt  \n",
              "0     985  \n",
              "1     801  \n",
              "2    1349  \n",
              "3    1562  \n",
              "4    1600  \n",
              "..    ...  \n",
              "725  2114  \n",
              "726  3095  \n",
              "727  1341  \n",
              "728  1796  \n",
              "729  2729  \n",
              "\n",
              "[730 rows x 16 columns]"
            ],
            "text/html": [
              "\n",
              "  <div id=\"df-9791baf7-fcb7-4cb9-9b49-bfa080b0fa34\">\n",
              "    <div class=\"colab-df-container\">\n",
              "      <div>\n",
              "<style scoped>\n",
              "    .dataframe tbody tr th:only-of-type {\n",
              "        vertical-align: middle;\n",
              "    }\n",
              "\n",
              "    .dataframe tbody tr th {\n",
              "        vertical-align: top;\n",
              "    }\n",
              "\n",
              "    .dataframe thead th {\n",
              "        text-align: right;\n",
              "    }\n",
              "</style>\n",
              "<table border=\"1\" class=\"dataframe\">\n",
              "  <thead>\n",
              "    <tr style=\"text-align: right;\">\n",
              "      <th></th>\n",
              "      <th>instant</th>\n",
              "      <th>dteday</th>\n",
              "      <th>season</th>\n",
              "      <th>yr</th>\n",
              "      <th>mnth</th>\n",
              "      <th>holiday</th>\n",
              "      <th>weekday</th>\n",
              "      <th>workingday</th>\n",
              "      <th>weathersit</th>\n",
              "      <th>temp</th>\n",
              "      <th>atemp</th>\n",
              "      <th>hum</th>\n",
              "      <th>windspeed</th>\n",
              "      <th>casual</th>\n",
              "      <th>registered</th>\n",
              "      <th>cnt</th>\n",
              "    </tr>\n",
              "  </thead>\n",
              "  <tbody>\n",
              "    <tr>\n",
              "      <th>0</th>\n",
              "      <td>1</td>\n",
              "      <td>01-01-2018</td>\n",
              "      <td>1</td>\n",
              "      <td>0</td>\n",
              "      <td>1</td>\n",
              "      <td>0</td>\n",
              "      <td>6</td>\n",
              "      <td>0</td>\n",
              "      <td>2</td>\n",
              "      <td>14.110847</td>\n",
              "      <td>18.18125</td>\n",
              "      <td>80.5833</td>\n",
              "      <td>10.749882</td>\n",
              "      <td>331</td>\n",
              "      <td>654</td>\n",
              "      <td>985</td>\n",
              "    </tr>\n",
              "    <tr>\n",
              "      <th>1</th>\n",
              "      <td>2</td>\n",
              "      <td>02-01-2018</td>\n",
              "      <td>1</td>\n",
              "      <td>0</td>\n",
              "      <td>1</td>\n",
              "      <td>0</td>\n",
              "      <td>0</td>\n",
              "      <td>0</td>\n",
              "      <td>2</td>\n",
              "      <td>14.902598</td>\n",
              "      <td>17.68695</td>\n",
              "      <td>69.6087</td>\n",
              "      <td>16.652113</td>\n",
              "      <td>131</td>\n",
              "      <td>670</td>\n",
              "      <td>801</td>\n",
              "    </tr>\n",
              "    <tr>\n",
              "      <th>2</th>\n",
              "      <td>3</td>\n",
              "      <td>03-01-2018</td>\n",
              "      <td>1</td>\n",
              "      <td>0</td>\n",
              "      <td>1</td>\n",
              "      <td>0</td>\n",
              "      <td>1</td>\n",
              "      <td>1</td>\n",
              "      <td>1</td>\n",
              "      <td>8.050924</td>\n",
              "      <td>9.47025</td>\n",
              "      <td>43.7273</td>\n",
              "      <td>16.636703</td>\n",
              "      <td>120</td>\n",
              "      <td>1229</td>\n",
              "      <td>1349</td>\n",
              "    </tr>\n",
              "    <tr>\n",
              "      <th>3</th>\n",
              "      <td>4</td>\n",
              "      <td>04-01-2018</td>\n",
              "      <td>1</td>\n",
              "      <td>0</td>\n",
              "      <td>1</td>\n",
              "      <td>0</td>\n",
              "      <td>2</td>\n",
              "      <td>1</td>\n",
              "      <td>1</td>\n",
              "      <td>8.200000</td>\n",
              "      <td>10.60610</td>\n",
              "      <td>59.0435</td>\n",
              "      <td>10.739832</td>\n",
              "      <td>108</td>\n",
              "      <td>1454</td>\n",
              "      <td>1562</td>\n",
              "    </tr>\n",
              "    <tr>\n",
              "      <th>4</th>\n",
              "      <td>5</td>\n",
              "      <td>05-01-2018</td>\n",
              "      <td>1</td>\n",
              "      <td>0</td>\n",
              "      <td>1</td>\n",
              "      <td>0</td>\n",
              "      <td>3</td>\n",
              "      <td>1</td>\n",
              "      <td>1</td>\n",
              "      <td>9.305237</td>\n",
              "      <td>11.46350</td>\n",
              "      <td>43.6957</td>\n",
              "      <td>12.522300</td>\n",
              "      <td>82</td>\n",
              "      <td>1518</td>\n",
              "      <td>1600</td>\n",
              "    </tr>\n",
              "    <tr>\n",
              "      <th>...</th>\n",
              "      <td>...</td>\n",
              "      <td>...</td>\n",
              "      <td>...</td>\n",
              "      <td>...</td>\n",
              "      <td>...</td>\n",
              "      <td>...</td>\n",
              "      <td>...</td>\n",
              "      <td>...</td>\n",
              "      <td>...</td>\n",
              "      <td>...</td>\n",
              "      <td>...</td>\n",
              "      <td>...</td>\n",
              "      <td>...</td>\n",
              "      <td>...</td>\n",
              "      <td>...</td>\n",
              "      <td>...</td>\n",
              "    </tr>\n",
              "    <tr>\n",
              "      <th>725</th>\n",
              "      <td>726</td>\n",
              "      <td>27-12-2019</td>\n",
              "      <td>1</td>\n",
              "      <td>1</td>\n",
              "      <td>12</td>\n",
              "      <td>0</td>\n",
              "      <td>4</td>\n",
              "      <td>1</td>\n",
              "      <td>2</td>\n",
              "      <td>10.420847</td>\n",
              "      <td>11.33210</td>\n",
              "      <td>65.2917</td>\n",
              "      <td>23.458911</td>\n",
              "      <td>247</td>\n",
              "      <td>1867</td>\n",
              "      <td>2114</td>\n",
              "    </tr>\n",
              "    <tr>\n",
              "      <th>726</th>\n",
              "      <td>727</td>\n",
              "      <td>28-12-2019</td>\n",
              "      <td>1</td>\n",
              "      <td>1</td>\n",
              "      <td>12</td>\n",
              "      <td>0</td>\n",
              "      <td>5</td>\n",
              "      <td>1</td>\n",
              "      <td>2</td>\n",
              "      <td>10.386653</td>\n",
              "      <td>12.75230</td>\n",
              "      <td>59.0000</td>\n",
              "      <td>10.416557</td>\n",
              "      <td>644</td>\n",
              "      <td>2451</td>\n",
              "      <td>3095</td>\n",
              "    </tr>\n",
              "    <tr>\n",
              "      <th>727</th>\n",
              "      <td>728</td>\n",
              "      <td>29-12-2019</td>\n",
              "      <td>1</td>\n",
              "      <td>1</td>\n",
              "      <td>12</td>\n",
              "      <td>0</td>\n",
              "      <td>6</td>\n",
              "      <td>0</td>\n",
              "      <td>2</td>\n",
              "      <td>10.386653</td>\n",
              "      <td>12.12000</td>\n",
              "      <td>75.2917</td>\n",
              "      <td>8.333661</td>\n",
              "      <td>159</td>\n",
              "      <td>1182</td>\n",
              "      <td>1341</td>\n",
              "    </tr>\n",
              "    <tr>\n",
              "      <th>728</th>\n",
              "      <td>729</td>\n",
              "      <td>30-12-2019</td>\n",
              "      <td>1</td>\n",
              "      <td>1</td>\n",
              "      <td>12</td>\n",
              "      <td>0</td>\n",
              "      <td>0</td>\n",
              "      <td>0</td>\n",
              "      <td>1</td>\n",
              "      <td>10.489153</td>\n",
              "      <td>11.58500</td>\n",
              "      <td>48.3333</td>\n",
              "      <td>23.500518</td>\n",
              "      <td>364</td>\n",
              "      <td>1432</td>\n",
              "      <td>1796</td>\n",
              "    </tr>\n",
              "    <tr>\n",
              "      <th>729</th>\n",
              "      <td>730</td>\n",
              "      <td>31-12-2019</td>\n",
              "      <td>1</td>\n",
              "      <td>1</td>\n",
              "      <td>12</td>\n",
              "      <td>0</td>\n",
              "      <td>1</td>\n",
              "      <td>1</td>\n",
              "      <td>2</td>\n",
              "      <td>8.849153</td>\n",
              "      <td>11.17435</td>\n",
              "      <td>57.7500</td>\n",
              "      <td>10.374682</td>\n",
              "      <td>439</td>\n",
              "      <td>2290</td>\n",
              "      <td>2729</td>\n",
              "    </tr>\n",
              "  </tbody>\n",
              "</table>\n",
              "<p>730 rows × 16 columns</p>\n",
              "</div>\n",
              "      <button class=\"colab-df-convert\" onclick=\"convertToInteractive('df-9791baf7-fcb7-4cb9-9b49-bfa080b0fa34')\"\n",
              "              title=\"Convert this dataframe to an interactive table.\"\n",
              "              style=\"display:none;\">\n",
              "        \n",
              "  <svg xmlns=\"http://www.w3.org/2000/svg\" height=\"24px\"viewBox=\"0 0 24 24\"\n",
              "       width=\"24px\">\n",
              "    <path d=\"M0 0h24v24H0V0z\" fill=\"none\"/>\n",
              "    <path d=\"M18.56 5.44l.94 2.06.94-2.06 2.06-.94-2.06-.94-.94-2.06-.94 2.06-2.06.94zm-11 1L8.5 8.5l.94-2.06 2.06-.94-2.06-.94L8.5 2.5l-.94 2.06-2.06.94zm10 10l.94 2.06.94-2.06 2.06-.94-2.06-.94-.94-2.06-.94 2.06-2.06.94z\"/><path d=\"M17.41 7.96l-1.37-1.37c-.4-.4-.92-.59-1.43-.59-.52 0-1.04.2-1.43.59L10.3 9.45l-7.72 7.72c-.78.78-.78 2.05 0 2.83L4 21.41c.39.39.9.59 1.41.59.51 0 1.02-.2 1.41-.59l7.78-7.78 2.81-2.81c.8-.78.8-2.07 0-2.86zM5.41 20L4 18.59l7.72-7.72 1.47 1.35L5.41 20z\"/>\n",
              "  </svg>\n",
              "      </button>\n",
              "      \n",
              "  <style>\n",
              "    .colab-df-container {\n",
              "      display:flex;\n",
              "      flex-wrap:wrap;\n",
              "      gap: 12px;\n",
              "    }\n",
              "\n",
              "    .colab-df-convert {\n",
              "      background-color: #E8F0FE;\n",
              "      border: none;\n",
              "      border-radius: 50%;\n",
              "      cursor: pointer;\n",
              "      display: none;\n",
              "      fill: #1967D2;\n",
              "      height: 32px;\n",
              "      padding: 0 0 0 0;\n",
              "      width: 32px;\n",
              "    }\n",
              "\n",
              "    .colab-df-convert:hover {\n",
              "      background-color: #E2EBFA;\n",
              "      box-shadow: 0px 1px 2px rgba(60, 64, 67, 0.3), 0px 1px 3px 1px rgba(60, 64, 67, 0.15);\n",
              "      fill: #174EA6;\n",
              "    }\n",
              "\n",
              "    [theme=dark] .colab-df-convert {\n",
              "      background-color: #3B4455;\n",
              "      fill: #D2E3FC;\n",
              "    }\n",
              "\n",
              "    [theme=dark] .colab-df-convert:hover {\n",
              "      background-color: #434B5C;\n",
              "      box-shadow: 0px 1px 3px 1px rgba(0, 0, 0, 0.15);\n",
              "      filter: drop-shadow(0px 1px 2px rgba(0, 0, 0, 0.3));\n",
              "      fill: #FFFFFF;\n",
              "    }\n",
              "  </style>\n",
              "\n",
              "      <script>\n",
              "        const buttonEl =\n",
              "          document.querySelector('#df-9791baf7-fcb7-4cb9-9b49-bfa080b0fa34 button.colab-df-convert');\n",
              "        buttonEl.style.display =\n",
              "          google.colab.kernel.accessAllowed ? 'block' : 'none';\n",
              "\n",
              "        async function convertToInteractive(key) {\n",
              "          const element = document.querySelector('#df-9791baf7-fcb7-4cb9-9b49-bfa080b0fa34');\n",
              "          const dataTable =\n",
              "            await google.colab.kernel.invokeFunction('convertToInteractive',\n",
              "                                                     [key], {});\n",
              "          if (!dataTable) return;\n",
              "\n",
              "          const docLinkHtml = 'Like what you see? Visit the ' +\n",
              "            '<a target=\"_blank\" href=https://colab.research.google.com/notebooks/data_table.ipynb>data table notebook</a>'\n",
              "            + ' to learn more about interactive tables.';\n",
              "          element.innerHTML = '';\n",
              "          dataTable['output_type'] = 'display_data';\n",
              "          await google.colab.output.renderOutput(dataTable, element);\n",
              "          const docLink = document.createElement('div');\n",
              "          docLink.innerHTML = docLinkHtml;\n",
              "          element.appendChild(docLink);\n",
              "        }\n",
              "      </script>\n",
              "    </div>\n",
              "  </div>\n",
              "  "
            ]
          },
          "metadata": {},
          "execution_count": 9
        }
      ],
      "source": [
        "df_bikeshare.head(730)"
      ]
    },
    {
      "cell_type": "raw",
      "id": "b8620568",
      "metadata": {
        "id": "b8620568",
        "outputId": "a429d2f1-9e0c-47a5-db0f-6af525aa9be3"
      },
      "source": [
        "#check dataframe information\n",
        "df_bikeshare.describe()"
      ]
    },
    {
      "cell_type": "markdown",
      "id": "714701ac",
      "metadata": {
        "id": "714701ac"
      },
      "source": [
        "# **Data Dictionary**\n",
        "- instant: record index\n",
        "- dteday : date\n",
        "- season : season (1:spring, 2:summer, 3:fall, 4:winter)\n",
        "- yr : year (0: 2018, 1:2019)\n",
        "- mnth : month ( 1 to 12)\n",
        "- holiday : whether day is a holiday or not (extracted from http://dchr.dc.gov/page/holiday-schedule)\n",
        "- weekday : day of the week\n",
        "- workingday : if day is neither weekend nor holiday is 1, otherwise is 0.\n",
        "+ weathersit : \n",
        "\t\t- 1: Clear, Few clouds, Partly cloudy, Partly cloudy\n",
        "\t\t- 2: Mist + Cloudy, Mist + Broken clouds, Mist + Few clouds, Mist\n",
        "\t\t- 3: Light Snow, Light Rain + Thunderstorm + Scattered clouds, Light Rain + Scattered clouds\n",
        "\t\t- 4: Heavy Rain + Ice Pallets + Thunderstorm + Mist, Snow + Fog\n",
        "- temp : temperature in Celsius\n",
        "- atemp: feeling temperature in Celsius\n",
        "- hum: humidity\n",
        "- windspeed: wind speed\n",
        "- casual: count of casual users\n",
        "- registered: count of registered users\n",
        "- cnt: count of total rental bikes including both casual and registered"
      ]
    },
    {
      "cell_type": "markdown",
      "id": "Q3bhnm3CxHZu",
      "metadata": {
        "id": "Q3bhnm3CxHZu"
      },
      "source": [
        "### **Step 3: Undertake sanity checks on data**"
      ]
    },
    {
      "cell_type": "code",
      "execution_count": 10,
      "id": "I3ZMrjszxVhp",
      "metadata": {
        "colab": {
          "base_uri": "https://localhost:8080/"
        },
        "id": "I3ZMrjszxVhp",
        "outputId": "55d763ab-6062-41db-de0e-b10a34348a33",
        "scrolled": true
      },
      "outputs": [
        {
          "output_type": "execute_result",
          "data": {
            "text/plain": [
              "(730, 16)"
            ]
          },
          "metadata": {},
          "execution_count": 10
        }
      ],
      "source": [
        "#get shape of the dataframe\n",
        "df_bikeshare.shape"
      ]
    },
    {
      "cell_type": "code",
      "execution_count": 11,
      "id": "TLHrx4IbwR5A",
      "metadata": {
        "colab": {
          "base_uri": "https://localhost:8080/"
        },
        "id": "TLHrx4IbwR5A",
        "outputId": "3425060d-0486-4aa6-849f-88e43d665b72"
      },
      "outputs": [
        {
          "output_type": "stream",
          "name": "stdout",
          "text": [
            "<class 'pandas.core.frame.DataFrame'>\n",
            "RangeIndex: 730 entries, 0 to 729\n",
            "Data columns (total 16 columns):\n",
            " #   Column      Non-Null Count  Dtype  \n",
            "---  ------      --------------  -----  \n",
            " 0   instant     730 non-null    int64  \n",
            " 1   dteday      730 non-null    object \n",
            " 2   season      730 non-null    int64  \n",
            " 3   yr          730 non-null    int64  \n",
            " 4   mnth        730 non-null    int64  \n",
            " 5   holiday     730 non-null    int64  \n",
            " 6   weekday     730 non-null    int64  \n",
            " 7   workingday  730 non-null    int64  \n",
            " 8   weathersit  730 non-null    int64  \n",
            " 9   temp        730 non-null    float64\n",
            " 10  atemp       730 non-null    float64\n",
            " 11  hum         730 non-null    float64\n",
            " 12  windspeed   730 non-null    float64\n",
            " 13  casual      730 non-null    int64  \n",
            " 14  registered  730 non-null    int64  \n",
            " 15  cnt         730 non-null    int64  \n",
            "dtypes: float64(4), int64(11), object(1)\n",
            "memory usage: 91.4+ KB\n"
          ]
        }
      ],
      "source": [
        "#check column dtypes\n",
        "df_bikeshare.info()"
      ]
    },
    {
      "cell_type": "code",
      "execution_count": 12,
      "id": "bbw9KCcqx6BX",
      "metadata": {
        "colab": {
          "base_uri": "https://localhost:8080/"
        },
        "id": "bbw9KCcqx6BX",
        "outputId": "15718d6a-1346-4db2-c293-eee69c323d47"
      },
      "outputs": [
        {
          "output_type": "stream",
          "name": "stdout",
          "text": [
            "instant       730\n",
            "dteday        730\n",
            "season          4\n",
            "yr              2\n",
            "mnth           12\n",
            "holiday         2\n",
            "weekday         7\n",
            "workingday      2\n",
            "weathersit      3\n",
            "temp          498\n",
            "atemp         689\n",
            "hum           594\n",
            "windspeed     649\n",
            "casual        605\n",
            "registered    678\n",
            "cnt           695\n",
            "dtype: int64\n"
          ]
        }
      ],
      "source": [
        "#get list of unique variables per column\n",
        "print(df_bikeshare.nunique())"
      ]
    },
    {
      "cell_type": "code",
      "execution_count": 13,
      "id": "1NhV8r64yHHH",
      "metadata": {
        "colab": {
          "base_uri": "https://localhost:8080/"
        },
        "id": "1NhV8r64yHHH",
        "outputId": "d2d7d581-33fb-438b-9bf5-feb50e0b0442"
      },
      "outputs": [
        {
          "output_type": "execute_result",
          "data": {
            "text/plain": [
              "instant       730\n",
              "dteday        730\n",
              "season        730\n",
              "yr            730\n",
              "mnth          730\n",
              "holiday       730\n",
              "weekday       730\n",
              "workingday    730\n",
              "weathersit    730\n",
              "temp          730\n",
              "atemp         730\n",
              "hum           730\n",
              "windspeed     730\n",
              "casual        730\n",
              "registered    730\n",
              "cnt           730\n",
              "dtype: int64"
            ]
          },
          "metadata": {},
          "execution_count": 13
        }
      ],
      "source": [
        "# get count of non-na values across all columns\n",
        "df_bikeshare.apply(lambda x: x.count(), axis=0)"
      ]
    },
    {
      "cell_type": "code",
      "execution_count": 14,
      "id": "-F5tMULqyrH4",
      "metadata": {
        "id": "-F5tMULqyrH4"
      },
      "outputs": [],
      "source": [
        "# convert 'dteday' from 'object' to 'datetime'\n",
        "df_bikeshare['dteday'] = pd.to_datetime(df_bikeshare['dteday'], format='%d-%m-%Y') #date is in 01-01-2018 format"
      ]
    },
    {
      "cell_type": "code",
      "execution_count": 15,
      "id": "xUYDeKrU0auO",
      "metadata": {
        "colab": {
          "base_uri": "https://localhost:8080/",
          "height": 364
        },
        "id": "xUYDeKrU0auO",
        "outputId": "4a11e93e-3645-4e6e-9166-2d0a9767364f"
      },
      "outputs": [
        {
          "output_type": "execute_result",
          "data": {
            "text/plain": [
              "          instant      season          yr        mnth     holiday     weekday  \\\n",
              "count  730.000000  730.000000  730.000000  730.000000  730.000000  730.000000   \n",
              "mean   365.500000    2.498630    0.500000    6.526027    0.028767    2.997260   \n",
              "std    210.877136    1.110184    0.500343    3.450215    0.167266    2.006161   \n",
              "min      1.000000    1.000000    0.000000    1.000000    0.000000    0.000000   \n",
              "25%    183.250000    2.000000    0.000000    4.000000    0.000000    1.000000   \n",
              "50%    365.500000    3.000000    0.500000    7.000000    0.000000    3.000000   \n",
              "75%    547.750000    3.000000    1.000000   10.000000    0.000000    5.000000   \n",
              "max    730.000000    4.000000    1.000000   12.000000    1.000000    6.000000   \n",
              "\n",
              "       workingday  weathersit        temp       atemp         hum   windspeed  \\\n",
              "count  730.000000  730.000000  730.000000  730.000000  730.000000  730.000000   \n",
              "mean     0.683562    1.394521   20.319259   23.726322   62.765175   12.763620   \n",
              "std      0.465405    0.544807    7.506729    8.150308   14.237589    5.195841   \n",
              "min      0.000000    1.000000    2.424346    3.953480    0.000000    1.500244   \n",
              "25%      0.000000    1.000000   13.811885   16.889713   52.000000    9.041650   \n",
              "50%      1.000000    1.000000   20.465826   24.368225   62.625000   12.125325   \n",
              "75%      1.000000    2.000000   26.880615   30.445775   72.989575   15.625589   \n",
              "max      1.000000    3.000000   35.328347   42.044800   97.250000   34.000021   \n",
              "\n",
              "            casual   registered          cnt  \n",
              "count   730.000000   730.000000   730.000000  \n",
              "mean    849.249315  3658.757534  4508.006849  \n",
              "std     686.479875  1559.758728  1936.011647  \n",
              "min       2.000000    20.000000    22.000000  \n",
              "25%     316.250000  2502.250000  3169.750000  \n",
              "50%     717.000000  3664.500000  4548.500000  \n",
              "75%    1096.500000  4783.250000  5966.000000  \n",
              "max    3410.000000  6946.000000  8714.000000  "
            ],
            "text/html": [
              "\n",
              "  <div id=\"df-05e7d061-f52f-4321-9633-fb9f67370ae1\">\n",
              "    <div class=\"colab-df-container\">\n",
              "      <div>\n",
              "<style scoped>\n",
              "    .dataframe tbody tr th:only-of-type {\n",
              "        vertical-align: middle;\n",
              "    }\n",
              "\n",
              "    .dataframe tbody tr th {\n",
              "        vertical-align: top;\n",
              "    }\n",
              "\n",
              "    .dataframe thead th {\n",
              "        text-align: right;\n",
              "    }\n",
              "</style>\n",
              "<table border=\"1\" class=\"dataframe\">\n",
              "  <thead>\n",
              "    <tr style=\"text-align: right;\">\n",
              "      <th></th>\n",
              "      <th>instant</th>\n",
              "      <th>season</th>\n",
              "      <th>yr</th>\n",
              "      <th>mnth</th>\n",
              "      <th>holiday</th>\n",
              "      <th>weekday</th>\n",
              "      <th>workingday</th>\n",
              "      <th>weathersit</th>\n",
              "      <th>temp</th>\n",
              "      <th>atemp</th>\n",
              "      <th>hum</th>\n",
              "      <th>windspeed</th>\n",
              "      <th>casual</th>\n",
              "      <th>registered</th>\n",
              "      <th>cnt</th>\n",
              "    </tr>\n",
              "  </thead>\n",
              "  <tbody>\n",
              "    <tr>\n",
              "      <th>count</th>\n",
              "      <td>730.000000</td>\n",
              "      <td>730.000000</td>\n",
              "      <td>730.000000</td>\n",
              "      <td>730.000000</td>\n",
              "      <td>730.000000</td>\n",
              "      <td>730.000000</td>\n",
              "      <td>730.000000</td>\n",
              "      <td>730.000000</td>\n",
              "      <td>730.000000</td>\n",
              "      <td>730.000000</td>\n",
              "      <td>730.000000</td>\n",
              "      <td>730.000000</td>\n",
              "      <td>730.000000</td>\n",
              "      <td>730.000000</td>\n",
              "      <td>730.000000</td>\n",
              "    </tr>\n",
              "    <tr>\n",
              "      <th>mean</th>\n",
              "      <td>365.500000</td>\n",
              "      <td>2.498630</td>\n",
              "      <td>0.500000</td>\n",
              "      <td>6.526027</td>\n",
              "      <td>0.028767</td>\n",
              "      <td>2.997260</td>\n",
              "      <td>0.683562</td>\n",
              "      <td>1.394521</td>\n",
              "      <td>20.319259</td>\n",
              "      <td>23.726322</td>\n",
              "      <td>62.765175</td>\n",
              "      <td>12.763620</td>\n",
              "      <td>849.249315</td>\n",
              "      <td>3658.757534</td>\n",
              "      <td>4508.006849</td>\n",
              "    </tr>\n",
              "    <tr>\n",
              "      <th>std</th>\n",
              "      <td>210.877136</td>\n",
              "      <td>1.110184</td>\n",
              "      <td>0.500343</td>\n",
              "      <td>3.450215</td>\n",
              "      <td>0.167266</td>\n",
              "      <td>2.006161</td>\n",
              "      <td>0.465405</td>\n",
              "      <td>0.544807</td>\n",
              "      <td>7.506729</td>\n",
              "      <td>8.150308</td>\n",
              "      <td>14.237589</td>\n",
              "      <td>5.195841</td>\n",
              "      <td>686.479875</td>\n",
              "      <td>1559.758728</td>\n",
              "      <td>1936.011647</td>\n",
              "    </tr>\n",
              "    <tr>\n",
              "      <th>min</th>\n",
              "      <td>1.000000</td>\n",
              "      <td>1.000000</td>\n",
              "      <td>0.000000</td>\n",
              "      <td>1.000000</td>\n",
              "      <td>0.000000</td>\n",
              "      <td>0.000000</td>\n",
              "      <td>0.000000</td>\n",
              "      <td>1.000000</td>\n",
              "      <td>2.424346</td>\n",
              "      <td>3.953480</td>\n",
              "      <td>0.000000</td>\n",
              "      <td>1.500244</td>\n",
              "      <td>2.000000</td>\n",
              "      <td>20.000000</td>\n",
              "      <td>22.000000</td>\n",
              "    </tr>\n",
              "    <tr>\n",
              "      <th>25%</th>\n",
              "      <td>183.250000</td>\n",
              "      <td>2.000000</td>\n",
              "      <td>0.000000</td>\n",
              "      <td>4.000000</td>\n",
              "      <td>0.000000</td>\n",
              "      <td>1.000000</td>\n",
              "      <td>0.000000</td>\n",
              "      <td>1.000000</td>\n",
              "      <td>13.811885</td>\n",
              "      <td>16.889713</td>\n",
              "      <td>52.000000</td>\n",
              "      <td>9.041650</td>\n",
              "      <td>316.250000</td>\n",
              "      <td>2502.250000</td>\n",
              "      <td>3169.750000</td>\n",
              "    </tr>\n",
              "    <tr>\n",
              "      <th>50%</th>\n",
              "      <td>365.500000</td>\n",
              "      <td>3.000000</td>\n",
              "      <td>0.500000</td>\n",
              "      <td>7.000000</td>\n",
              "      <td>0.000000</td>\n",
              "      <td>3.000000</td>\n",
              "      <td>1.000000</td>\n",
              "      <td>1.000000</td>\n",
              "      <td>20.465826</td>\n",
              "      <td>24.368225</td>\n",
              "      <td>62.625000</td>\n",
              "      <td>12.125325</td>\n",
              "      <td>717.000000</td>\n",
              "      <td>3664.500000</td>\n",
              "      <td>4548.500000</td>\n",
              "    </tr>\n",
              "    <tr>\n",
              "      <th>75%</th>\n",
              "      <td>547.750000</td>\n",
              "      <td>3.000000</td>\n",
              "      <td>1.000000</td>\n",
              "      <td>10.000000</td>\n",
              "      <td>0.000000</td>\n",
              "      <td>5.000000</td>\n",
              "      <td>1.000000</td>\n",
              "      <td>2.000000</td>\n",
              "      <td>26.880615</td>\n",
              "      <td>30.445775</td>\n",
              "      <td>72.989575</td>\n",
              "      <td>15.625589</td>\n",
              "      <td>1096.500000</td>\n",
              "      <td>4783.250000</td>\n",
              "      <td>5966.000000</td>\n",
              "    </tr>\n",
              "    <tr>\n",
              "      <th>max</th>\n",
              "      <td>730.000000</td>\n",
              "      <td>4.000000</td>\n",
              "      <td>1.000000</td>\n",
              "      <td>12.000000</td>\n",
              "      <td>1.000000</td>\n",
              "      <td>6.000000</td>\n",
              "      <td>1.000000</td>\n",
              "      <td>3.000000</td>\n",
              "      <td>35.328347</td>\n",
              "      <td>42.044800</td>\n",
              "      <td>97.250000</td>\n",
              "      <td>34.000021</td>\n",
              "      <td>3410.000000</td>\n",
              "      <td>6946.000000</td>\n",
              "      <td>8714.000000</td>\n",
              "    </tr>\n",
              "  </tbody>\n",
              "</table>\n",
              "</div>\n",
              "      <button class=\"colab-df-convert\" onclick=\"convertToInteractive('df-05e7d061-f52f-4321-9633-fb9f67370ae1')\"\n",
              "              title=\"Convert this dataframe to an interactive table.\"\n",
              "              style=\"display:none;\">\n",
              "        \n",
              "  <svg xmlns=\"http://www.w3.org/2000/svg\" height=\"24px\"viewBox=\"0 0 24 24\"\n",
              "       width=\"24px\">\n",
              "    <path d=\"M0 0h24v24H0V0z\" fill=\"none\"/>\n",
              "    <path d=\"M18.56 5.44l.94 2.06.94-2.06 2.06-.94-2.06-.94-.94-2.06-.94 2.06-2.06.94zm-11 1L8.5 8.5l.94-2.06 2.06-.94-2.06-.94L8.5 2.5l-.94 2.06-2.06.94zm10 10l.94 2.06.94-2.06 2.06-.94-2.06-.94-.94-2.06-.94 2.06-2.06.94z\"/><path d=\"M17.41 7.96l-1.37-1.37c-.4-.4-.92-.59-1.43-.59-.52 0-1.04.2-1.43.59L10.3 9.45l-7.72 7.72c-.78.78-.78 2.05 0 2.83L4 21.41c.39.39.9.59 1.41.59.51 0 1.02-.2 1.41-.59l7.78-7.78 2.81-2.81c.8-.78.8-2.07 0-2.86zM5.41 20L4 18.59l7.72-7.72 1.47 1.35L5.41 20z\"/>\n",
              "  </svg>\n",
              "      </button>\n",
              "      \n",
              "  <style>\n",
              "    .colab-df-container {\n",
              "      display:flex;\n",
              "      flex-wrap:wrap;\n",
              "      gap: 12px;\n",
              "    }\n",
              "\n",
              "    .colab-df-convert {\n",
              "      background-color: #E8F0FE;\n",
              "      border: none;\n",
              "      border-radius: 50%;\n",
              "      cursor: pointer;\n",
              "      display: none;\n",
              "      fill: #1967D2;\n",
              "      height: 32px;\n",
              "      padding: 0 0 0 0;\n",
              "      width: 32px;\n",
              "    }\n",
              "\n",
              "    .colab-df-convert:hover {\n",
              "      background-color: #E2EBFA;\n",
              "      box-shadow: 0px 1px 2px rgba(60, 64, 67, 0.3), 0px 1px 3px 1px rgba(60, 64, 67, 0.15);\n",
              "      fill: #174EA6;\n",
              "    }\n",
              "\n",
              "    [theme=dark] .colab-df-convert {\n",
              "      background-color: #3B4455;\n",
              "      fill: #D2E3FC;\n",
              "    }\n",
              "\n",
              "    [theme=dark] .colab-df-convert:hover {\n",
              "      background-color: #434B5C;\n",
              "      box-shadow: 0px 1px 3px 1px rgba(0, 0, 0, 0.15);\n",
              "      filter: drop-shadow(0px 1px 2px rgba(0, 0, 0, 0.3));\n",
              "      fill: #FFFFFF;\n",
              "    }\n",
              "  </style>\n",
              "\n",
              "      <script>\n",
              "        const buttonEl =\n",
              "          document.querySelector('#df-05e7d061-f52f-4321-9633-fb9f67370ae1 button.colab-df-convert');\n",
              "        buttonEl.style.display =\n",
              "          google.colab.kernel.accessAllowed ? 'block' : 'none';\n",
              "\n",
              "        async function convertToInteractive(key) {\n",
              "          const element = document.querySelector('#df-05e7d061-f52f-4321-9633-fb9f67370ae1');\n",
              "          const dataTable =\n",
              "            await google.colab.kernel.invokeFunction('convertToInteractive',\n",
              "                                                     [key], {});\n",
              "          if (!dataTable) return;\n",
              "\n",
              "          const docLinkHtml = 'Like what you see? Visit the ' +\n",
              "            '<a target=\"_blank\" href=https://colab.research.google.com/notebooks/data_table.ipynb>data table notebook</a>'\n",
              "            + ' to learn more about interactive tables.';\n",
              "          element.innerHTML = '';\n",
              "          dataTable['output_type'] = 'display_data';\n",
              "          await google.colab.output.renderOutput(dataTable, element);\n",
              "          const docLink = document.createElement('div');\n",
              "          docLink.innerHTML = docLinkHtml;\n",
              "          element.appendChild(docLink);\n",
              "        }\n",
              "      </script>\n",
              "    </div>\n",
              "  </div>\n",
              "  "
            ]
          },
          "metadata": {},
          "execution_count": 15
        }
      ],
      "source": [
        "#describe dataframe\n",
        "df_bikeshare.describe()"
      ]
    },
    {
      "cell_type": "markdown",
      "id": "v5AGG63v2hAI",
      "metadata": {
        "id": "v5AGG63v2hAI"
      },
      "source": [
        "### **Step 4: Cleaning & Binning Numerical Categorical Data**"
      ]
    },
    {
      "cell_type": "code",
      "execution_count": 16,
      "id": "_1cR_KQUNyv-",
      "metadata": {
        "id": "_1cR_KQUNyv-"
      },
      "outputs": [],
      "source": [
        "#using 'OR' operation for holiday and working day to make holiday column redundant\n",
        "df_bikeshare['workingday']=df_bikeshare['workingday'] + df_bikeshare['holiday']\n",
        "#drop 'holiday' column\n",
        "df_bikeshare.drop(['holiday'], axis = 1, inplace = True)\n"
      ]
    },
    {
      "cell_type": "code",
      "execution_count": 17,
      "id": "2LWxiCt42OJm",
      "metadata": {
        "id": "2LWxiCt42OJm",
        "scrolled": true
      },
      "outputs": [],
      "source": [
        "# binning windspeed data as per Beaufort Scale (https://www.rmets.org/metmatters/beaufort-scale)\n",
        "# Note: Since temperature is in metric units (deg Celsius), it is assumed that windspeed is in Km/Hr\n",
        "\n",
        "#bin_labels = [0, 1, 2, 3, 4, 5, 6, 7, 8, 9, 10, 11, 12]\n",
        "bin_labels = ['Calm','Light_air','Light_Breeze','Gentle_Breeze','Moderate_Breeze','Fresh_Breeze','Strong_Breeze','Moderate_Gale','Fresh_Gale','Strong_Gale','Whole_Gale','Storm','Hurricane']\n",
        "\n",
        "bins = [0, 1, 5, 11, 19, 28, 38, 49, 61, 74, 88, 102, 117,300]\n",
        "df_bikeshare['windspeed_binned'] = pd.cut(df_bikeshare['windspeed'], bins=bins, labels=bin_labels)"
      ]
    },
    {
      "cell_type": "code",
      "execution_count": 18,
      "id": "718c431d",
      "metadata": {
        "id": "718c431d"
      },
      "outputs": [],
      "source": [
        "# binning temperature data as per comfort Scale (http://www.city-data.com/forum/weather/1620160-your-personal-temperature-colors-descriptors.html)\n",
        "# data is binned as follows\n",
        "# data is binned on a scale of 1 to 12\n",
        "# 12- 45C & up: extremely hot \n",
        "# 11- 40 to 45C: very hot \n",
        "# 10- 35 to 40C: hot \n",
        "# 09- 30 to 35C: quite warm \n",
        "# 08 -20 to 30C: ideal \n",
        "# 07- 15 to 20C: lower than ideal \n",
        "# 06- 10 to 15C: cool \n",
        "# 05- 5 to 10C: quite cool \n",
        "# 04- 0 to 5C: cold \n",
        "# 03 -5 to 0C: very cold \n",
        "# 02- -10 to -5C: freezing \n",
        "# 01- -15 to -10C: frigid\n",
        "\n",
        "#bin_labels = [1, 2, 3, 4, 5, 6, 7, 8, 9, 10, 11, 12]\n",
        "bin_labels = ['Frigid','Freezing','Very_Cold','Cold','Quite_Cool','Cool','Lower_Ideal','Ideal','Quite_Warm','Hot','Very_Hot','Extremely_Hot']\n",
        "bins = [-15,-10,-5,0,5,10,15,20,30,35,40,45,60]\n",
        "df_bikeshare['temp_binned'] = pd.cut(df_bikeshare['temp'], bins=bins, labels=bin_labels)"
      ]
    },
    {
      "cell_type": "code",
      "execution_count": 20,
      "id": "4gOmhJCWu3Pg",
      "metadata": {
        "id": "4gOmhJCWu3Pg"
      },
      "outputs": [],
      "source": [
        "#extracting day from date\n",
        "df_bikeshare[\"day\"]=df_bikeshare.dteday.dt.day"
      ]
    },
    {
      "cell_type": "code",
      "execution_count": 21,
      "id": "_gHk34svyBRK",
      "metadata": {
        "id": "_gHk34svyBRK"
      },
      "outputs": [],
      "source": [
        "#binning months into quarters (1st,2nd,3rd,4th)\n",
        "bin_labels = ['First', 'Second', 'Third', 'Fourth']\n",
        "bins = [0,3,6,8,12]\n",
        "df_bikeshare['quarter_binned'] = pd.cut(df_bikeshare['mnth'], bins=bins, labels=bin_labels)"
      ]
    },
    {
      "cell_type": "code",
      "execution_count": 22,
      "id": "v1DmH9_rA2Of",
      "metadata": {
        "id": "v1DmH9_rA2Of"
      },
      "outputs": [],
      "source": [
        "#binning weekday  into labelled bins\n",
        "bin_labels = ['Sunday', 'Monday', 'Tuesday', 'Wednesday','Thursday','Friday','Saturday']\n",
        "bins = [-1,0,1,2,3,4,5,6]\n",
        "df_bikeshare['weekday_binned'] = pd.cut(df_bikeshare['weekday'], bins=bins, labels=bin_labels)"
      ]
    },
    {
      "cell_type": "code",
      "execution_count": 23,
      "id": "o1nECSaGBc-w",
      "metadata": {
        "id": "o1nECSaGBc-w"
      },
      "outputs": [],
      "source": [
        "#binning humidity  into labelled bins\n",
        "bin_labels = ['Too_Dry', 'Optimum', 'Too_Humid']\n",
        "bins = [0, 30, 60, 100]\n",
        "df_bikeshare['hum_binned'] = pd.cut(df_bikeshare['hum'], bins=bins, labels=bin_labels)"
      ]
    },
    {
      "cell_type": "code",
      "execution_count": 24,
      "id": "YrEkAYKMQKD3",
      "metadata": {
        "id": "YrEkAYKMQKD3"
      },
      "outputs": [],
      "source": [
        "#binning months into labelled months)\n",
        "bin_labels = ['Jan', 'Feb', 'Mar', 'Apr', 'May', 'Jun', 'Jul', 'Aug', 'Sep', 'Oct', 'Nov', 'Dec']\n",
        "bins = [0, 1, 2, 3, 4, 5, 6, 7, 8, 9, 10, 11, 12]\n",
        "df_bikeshare['mnth_binned'] = pd.cut(df_bikeshare['mnth'], bins=bins, labels=bin_labels)"
      ]
    },
    {
      "cell_type": "code",
      "execution_count": 25,
      "id": "D9_T4XdaSKv4",
      "metadata": {
        "id": "D9_T4XdaSKv4"
      },
      "outputs": [],
      "source": [
        "#binning months into labelled months)\n",
        "bin_labels = ['Clear', 'Cloudy', 'Light_RainSnow', 'Heavy_RainSnow']\n",
        "bins = [0, 1, 2, 3, 4]\n",
        "df_bikeshare['weathersit_binned'] = pd.cut(df_bikeshare['weathersit'], bins=bins, labels=bin_labels)"
      ]
    },
    {
      "cell_type": "code",
      "execution_count": 26,
      "id": "nX7WIcZilWx7",
      "metadata": {
        "id": "nX7WIcZilWx7"
      },
      "outputs": [],
      "source": [
        "#binning seasons into labelled variables\n",
        "bin_labels = ['Spring', 'Summer', 'Autumn', 'Winter']\n",
        "bins = [0, 1, 2, 3, 4]\n",
        "df_bikeshare['season_binned'] = pd.cut(df_bikeshare['season'], bins=bins, labels=bin_labels)"
      ]
    },
    {
      "cell_type": "markdown",
      "id": "2JKPaSqs2neO",
      "metadata": {
        "id": "2JKPaSqs2neO"
      },
      "source": [
        "### **Step 5: Prelimnary Visualisation**\n",
        "Since all data is numeric, we can use plots to visualise data "
      ]
    },
    {
      "cell_type": "code",
      "execution_count": 27,
      "id": "182e63e0",
      "metadata": {
        "colab": {
          "base_uri": "https://localhost:8080/",
          "height": 377
        },
        "id": "182e63e0",
        "outputId": "95e5ae9f-64cc-40e4-92ea-3e19decd1f49"
      },
      "outputs": [
        {
          "output_type": "display_data",
          "data": {
            "text/plain": [
              "<Figure size 1440x720 with 3 Axes>"
            ],
            "image/png": "[encoded data removed]"
          },
          "metadata": {
            "needs_background": "light"
          }
        }
      ],
      "source": [
        "#plotting data for comparative analysis\n",
        "plt.figure(figsize=(20, 10))\n",
        "plt.subplot(1,3,1)\n",
        "sns.boxplot(x = 'weathersit_binned', y = 'registered', hue = 'yr', data = df_bikeshare)\n",
        "plt.subplot(1,3,2)\n",
        "sns.boxplot(x = 'weathersit_binned', y = 'casual', hue = 'yr', data = df_bikeshare)\n",
        "plt.subplot(1,3,3)\n",
        "sns.boxplot(x = 'weathersit_binned', y = 'cnt', hue = 'yr', data = df_bikeshare)\n",
        "plt.show()"
      ]
    },
    {
      "cell_type": "code",
      "execution_count": 28,
      "id": "2527ab05",
      "metadata": {
        "colab": {
          "base_uri": "https://localhost:8080/",
          "height": 377
        },
        "id": "2527ab05",
        "outputId": "6e74e942-2df4-435d-ef22-1ac8d9d0fd15"
      },
      "outputs": [
        {
          "output_type": "display_data",
          "data": {
            "text/plain": [
              "<Figure size 1440x720 with 3 Axes>"
            ],
            "image/png": "[encoded data removed]"
          },
          "metadata": {
            "needs_background": "light"
          }
        }
      ],
      "source": [
        "#plotting data for comparative analysis\n",
        "plt.figure(figsize=(20, 10))\n",
        "plt.subplot(1,3,1)\n",
        "sns.boxplot(x = 'workingday', y = 'registered', hue = 'yr', data = df_bikeshare)\n",
        "plt.subplot(1,3,2)\n",
        "sns.boxplot(x = 'workingday', y = 'casual', hue = 'yr', data = df_bikeshare)\n",
        "plt.subplot(1,3,3)\n",
        "sns.boxplot(x = 'workingday', y = 'cnt', hue = 'yr', data = df_bikeshare)\n",
        "plt.show()"
      ]
    },
    {
      "cell_type": "code",
      "execution_count": 29,
      "id": "a1b4e772",
      "metadata": {
        "colab": {
          "base_uri": "https://localhost:8080/",
          "height": 406
        },
        "id": "a1b4e772",
        "outputId": "bc6cd90d-7b7e-43f6-a41d-ad7d52a92441"
      },
      "outputs": [
        {
          "output_type": "display_data",
          "data": {
            "text/plain": [
              "<Figure size 1440x720 with 3 Axes>"
            ],
            "image/png": "[encoded data removed]"
          },
          "metadata": {
            "needs_background": "light"
          }
        }
      ],
      "source": [
        "#plotting data for comparative analysis\n",
        "plt.figure(figsize=(20, 10))\n",
        "plt.subplot(1,3,1)\n",
        "sns.boxplot(x = 'weekday_binned', y = 'registered', hue = 'yr', data = df_bikeshare)\n",
        "plt.xticks(rotation='vertical')\n",
        "plt.subplot(1,3,2)\n",
        "sns.boxplot(x = 'weekday_binned', y = 'casual', hue = 'yr', data = df_bikeshare)\n",
        "plt.xticks(rotation='vertical')\n",
        "plt.subplot(1,3,3)\n",
        "sns.boxplot(x = 'weekday_binned', y = 'cnt', hue = 'yr', data = df_bikeshare)\n",
        "plt.xticks(rotation='vertical')\n",
        "plt.show()"
      ]
    },
    {
      "cell_type": "code",
      "execution_count": null,
      "id": "2b3c073b",
      "metadata": {
        "id": "2b3c073b"
      },
      "outputs": [],
      "source": [
        "#plotting data for comparative analysis\n",
        "#plt.figure(figsize=(20, 10))\n",
        "#plt.subplot(1,3,1)\n",
        "#sns.boxplot(x = 'season_binned', y = 'registered', hue = 'yr', data = df_bikeshare)\n",
        "#plt.subplot(1,3,2)\n",
        "#sns.boxplot(x = 'season_binned', y = 'casual', hue = 'yr', data = df_bikeshare)\n",
        "#plt.subplot(1,3,3)\n",
        "#sns.boxplot(x = 'season_binned', y = 'cnt', hue = 'yr', data = df_bikeshare)\n",
        "#plt.show()"
      ]
    },
    {
      "cell_type": "code",
      "execution_count": 30,
      "id": "576cac17",
      "metadata": {
        "colab": {
          "base_uri": "https://localhost:8080/",
          "height": 424
        },
        "id": "576cac17",
        "outputId": "5af247d5-256c-4bbc-c20a-7f9efefc070d"
      },
      "outputs": [
        {
          "output_type": "display_data",
          "data": {
            "text/plain": [
              "<Figure size 1440x720 with 3 Axes>"
            ],
            "image/png": "[encoded data removed]"
          },
          "metadata": {
            "needs_background": "light"
          }
        }
      ],
      "source": [
        "#plotting data for comparative analysis\n",
        "plt.figure(figsize=(20, 10))\n",
        "plt.subplot(1,3,1)\n",
        "sns.boxplot(x = 'windspeed_binned', y = 'registered', data = df_bikeshare)\n",
        "plt.xticks(rotation='vertical')\n",
        "plt.subplot(1,3,2)\n",
        "sns.boxplot(x = 'windspeed_binned', y = 'casual', data = df_bikeshare)\n",
        "plt.xticks(rotation='vertical')\n",
        "plt.subplot(1,3,3)\n",
        "sns.boxplot(x = 'windspeed_binned', y = 'cnt', data = df_bikeshare)\n",
        "plt.xticks(rotation='vertical')\n",
        "plt.show()"
      ]
    },
    {
      "cell_type": "code",
      "execution_count": 31,
      "id": "1cb647ed",
      "metadata": {
        "colab": {
          "base_uri": "https://localhost:8080/",
          "height": 415
        },
        "id": "1cb647ed",
        "outputId": "9d6403a7-1aa5-4e67-9837-f221c58a041a"
      },
      "outputs": [
        {
          "output_type": "display_data",
          "data": {
            "text/plain": [
              "<Figure size 1440x720 with 3 Axes>"
            ],
            "image/png": "[encoded data removed]"
          },
          "metadata": {
            "needs_background": "light"
          }
        }
      ],
      "source": [
        "#plotting data for comparative analysis\n",
        "plt.figure(figsize=(20, 10))\n",
        "plt.subplot(1,3,1)\n",
        "sns.boxplot(x = 'temp_binned', y = 'registered', data = df_bikeshare)\n",
        "plt.xticks(rotation='vertical')\n",
        "plt.subplot(1,3,2)\n",
        "sns.boxplot(x = 'temp_binned', y = 'casual', data = df_bikeshare)\n",
        "plt.xticks(rotation='vertical')\n",
        "plt.subplot(1,3,3)\n",
        "sns.boxplot(x = 'temp_binned', y = 'cnt', data = df_bikeshare)\n",
        "plt.xticks(rotation='vertical')\n",
        "plt.show()"
      ]
    },
    {
      "cell_type": "code",
      "execution_count": 32,
      "id": "OEExPU9dQSua",
      "metadata": {
        "colab": {
          "base_uri": "https://localhost:8080/",
          "height": 403
        },
        "id": "OEExPU9dQSua",
        "outputId": "5ec2a45b-4cf9-4fbd-8fa0-ca11ea6b9e1c"
      },
      "outputs": [
        {
          "output_type": "display_data",
          "data": {
            "text/plain": [
              "<Figure size 1440x720 with 3 Axes>"
            ],
            "image/png": "[encoded data removed]"
          },
          "metadata": {
            "needs_background": "light"
          }
        }
      ],
      "source": [
        "#plotting data for comparative analysis\n",
        "plt.figure(figsize=(20, 10))\n",
        "plt.subplot(1,3,1)\n",
        "sns.boxplot(x = 'hum_binned', y = 'registered', hue = 'yr', data = df_bikeshare)\n",
        "plt.xticks(rotation='vertical')\n",
        "plt.subplot(1,3,2)\n",
        "sns.boxplot(x = 'hum_binned', y = 'casual', hue = 'yr', data = df_bikeshare)\n",
        "plt.xticks(rotation='vertical')\n",
        "plt.subplot(1,3,3)\n",
        "sns.boxplot(x = 'hum_binned', y = 'cnt', hue = 'yr', data = df_bikeshare)\n",
        "plt.xticks(rotation='vertical')\n",
        "plt.show()"
      ]
    },
    {
      "cell_type": "code",
      "execution_count": 33,
      "id": "de7eeca0",
      "metadata": {
        "colab": {
          "base_uri": "https://localhost:8080/",
          "height": 377
        },
        "id": "de7eeca0",
        "outputId": "d46092da-16ed-496b-9885-9e4d0e846cda"
      },
      "outputs": [
        {
          "output_type": "display_data",
          "data": {
            "text/plain": [
              "<Figure size 1440x720 with 3 Axes>"
            ],
            "image/png": "[encoded data removed]"
          },
          "metadata": {
            "needs_background": "light"
          }
        }
      ],
      "source": [
        "#plotting data for comparative analysis\n",
        "plt.figure(figsize=(20, 10))\n",
        "plt.subplot(1,3,1)\n",
        "sns.boxplot(x = 'yr', y = 'registered', data = df_bikeshare)\n",
        "plt.subplot(1,3,2)\n",
        "sns.boxplot(x = 'yr', y = 'casual', data = df_bikeshare)\n",
        "plt.subplot(1,3,3)\n",
        "sns.boxplot(x = 'yr', y = 'cnt', data = df_bikeshare)\n",
        "plt.show()"
      ]
    },
    {
      "cell_type": "code",
      "execution_count": 34,
      "id": "u-8MPsdBFCOs",
      "metadata": {
        "id": "u-8MPsdBFCOs"
      },
      "outputs": [],
      "source": [
        "#plot chart per day to find specific days where surge can be expected"
      ]
    },
    {
      "cell_type": "code",
      "execution_count": 35,
      "id": "10317735",
      "metadata": {
        "colab": {
          "base_uri": "https://localhost:8080/",
          "height": 291
        },
        "id": "10317735",
        "outputId": "2f5af387-8a48-4606-901e-a034e33a96c6"
      },
      "outputs": [
        {
          "output_type": "display_data",
          "data": {
            "text/plain": [
              "<Figure size 432x288 with 1 Axes>"
            ],
            "image/png": "[encoded data removed]"
          },
          "metadata": {
            "needs_background": "light"
          }
        }
      ],
      "source": [
        "#plot variation across months\n",
        "# perform groupby\n",
        "df = df_bikeshare.groupby(['mnth_binned','yr']).agg(ridership=(\"cnt\", 'sum'))\n",
        "df = df.reset_index()\n",
        "  \n",
        "# plot barplot\n",
        "sns.barplot(x=\"mnth_binned\",y=\"ridership\",hue=\"yr\",data=df)\n",
        "plt.xticks(rotation='vertical')\n",
        "plt.show()"
      ]
    },
    {
      "cell_type": "code",
      "execution_count": 36,
      "id": "qJ43hy6Kvucv",
      "metadata": {
        "colab": {
          "base_uri": "https://localhost:8080/",
          "height": 280
        },
        "id": "qJ43hy6Kvucv",
        "outputId": "25bb6d90-1016-4e31-8e0f-47949b23b575"
      },
      "outputs": [
        {
          "output_type": "display_data",
          "data": {
            "text/plain": [
              "<Figure size 432x288 with 1 Axes>"
            ],
            "image/png": "[encoded data removed]"
          },
          "metadata": {
            "needs_background": "light"
          }
        }
      ],
      "source": [
        "#plot variation across quarters\n",
        "# perform groupby\n",
        "df = df_bikeshare.groupby(['quarter_binned','yr']).agg(ridership=(\"cnt\", 'sum'))\n",
        "df = df.reset_index()\n",
        "  \n",
        "# plot barplot\n",
        "sns.barplot(x=\"quarter_binned\",y=\"ridership\",hue='yr',data=df)\n",
        "\n",
        "plt.show()"
      ]
    },
    {
      "cell_type": "code",
      "execution_count": 37,
      "id": "CxgFShZBYBY-",
      "metadata": {
        "colab": {
          "base_uri": "https://localhost:8080/",
          "height": 328
        },
        "id": "CxgFShZBYBY-",
        "outputId": "1be3a78c-5cc8-4fe4-d996-6af2ba910bb7"
      },
      "outputs": [
        {
          "output_type": "display_data",
          "data": {
            "text/plain": [
              "<Figure size 432x288 with 1 Axes>"
            ],
            "image/png": "[encoded data removed]"
          },
          "metadata": {
            "needs_background": "light"
          }
        }
      ],
      "source": [
        "#plot variation across weekdays\n",
        "# perform groupby\n",
        "df = df_bikeshare.groupby(['weekday_binned','yr']).agg(ridership=(\"cnt\", 'sum'))\n",
        "df = df.reset_index()\n",
        "  \n",
        "# plot barplot\n",
        "sns.barplot(x=\"weekday_binned\",y=\"ridership\",hue='yr',data=df)\n",
        "plt.xticks(rotation='vertical')\n",
        "plt.show()"
      ]
    },
    {
      "cell_type": "code",
      "execution_count": 38,
      "id": "SA9dMlAUYMOr",
      "metadata": {
        "colab": {
          "base_uri": "https://localhost:8080/",
          "height": 354
        },
        "id": "SA9dMlAUYMOr",
        "outputId": "dd580e4e-0fff-4510-f47a-1d72d07f502f"
      },
      "outputs": [
        {
          "output_type": "display_data",
          "data": {
            "text/plain": [
              "<Figure size 432x288 with 1 Axes>"
            ],
            "image/png": "[encoded data removed]"
          },
          "metadata": {
            "needs_background": "light"
          }
        }
      ],
      "source": [
        "#plot variation across temperature conditions\n",
        "# perform groupby\n",
        "df = df_bikeshare.groupby(['temp_binned','yr']).agg(ridership=(\"cnt\", 'sum'))\n",
        "df = df.reset_index()\n",
        "  \n",
        "# plot barplot\n",
        "sns.barplot(x=\"temp_binned\",y=\"ridership\",hue='yr',data=df)\n",
        "plt.xticks(rotation='vertical')\n",
        "plt.show()"
      ]
    },
    {
      "cell_type": "code",
      "execution_count": 39,
      "id": "WLgqu8WORK0i",
      "metadata": {
        "colab": {
          "base_uri": "https://localhost:8080/",
          "height": 335
        },
        "id": "WLgqu8WORK0i",
        "outputId": "cf7df642-1027-40e9-8184-037b398f6e77"
      },
      "outputs": [
        {
          "output_type": "display_data",
          "data": {
            "text/plain": [
              "<Figure size 432x288 with 1 Axes>"
            ],
            "image/png": "[encoded data removed]"
          },
          "metadata": {
            "needs_background": "light"
          }
        }
      ],
      "source": [
        "#plot variation across humidity conditions\n",
        "# perform groupby\n",
        "df = df_bikeshare.groupby(['hum_binned','yr']).agg(ridership=(\"cnt\", 'sum'))\n",
        "df = df.reset_index()\n",
        "  \n",
        "# plot barplot\n",
        "sns.barplot(x=\"hum_binned\",y=\"ridership\",hue='yr',data=df)\n",
        "plt.xticks(rotation='vertical')\n",
        "plt.show()"
      ]
    },
    {
      "cell_type": "code",
      "execution_count": 40,
      "id": "A_WghlwtlJ8X",
      "metadata": {
        "colab": {
          "base_uri": "https://localhost:8080/",
          "height": 357
        },
        "id": "A_WghlwtlJ8X",
        "outputId": "eb4a40c5-cc9c-4314-e2cd-a9e259f12959"
      },
      "outputs": [
        {
          "output_type": "display_data",
          "data": {
            "text/plain": [
              "<Figure size 432x288 with 1 Axes>"
            ],
            "image/png": "[encoded data removed]"
          },
          "metadata": {
            "needs_background": "light"
          }
        }
      ],
      "source": [
        "#plot variation across wind conditions\n",
        "# perform groupby\n",
        "df = df_bikeshare.groupby(['windspeed_binned','yr']).agg(ridership=(\"cnt\", 'sum'))\n",
        "df = df.reset_index()\n",
        "  \n",
        "# plot barplot\n",
        "sns.barplot(x=\"windspeed_binned\",y=\"ridership\",hue='yr',data=df)\n",
        "plt.xticks(rotation='vertical')\n",
        "plt.show()"
      ]
    },
    {
      "cell_type": "code",
      "execution_count": 41,
      "id": "_1yXMx89vo-v",
      "metadata": {
        "id": "_1yXMx89vo-v"
      },
      "outputs": [],
      "source": [
        "#plot variation across day\n",
        "# perform groupby\n",
        "#df = df_bikeshare.groupby(['day','yr']).agg(ridership=(\"cnt\", 'sum'))\n",
        "#df = df.reset_index()\n",
        "  \n",
        "# plot barplot\n",
        "#sns.barplot(x=\"day\",y=\"ridership\",hue='yr',data=df)\n",
        "\n",
        "#plt.show()"
      ]
    },
    {
      "cell_type": "code",
      "execution_count": 42,
      "id": "AzfWCQUnv5Pn",
      "metadata": {
        "colab": {
          "base_uri": "https://localhost:8080/"
        },
        "id": "AzfWCQUnv5Pn",
        "outputId": "c73edb0f-175a-418f-90fd-c5175fee6862"
      },
      "outputs": [
        {
          "output_type": "stream",
          "name": "stdout",
          "text": [
            "instant              730\n",
            "dteday               730\n",
            "season                 4\n",
            "yr                     2\n",
            "mnth                  12\n",
            "weekday                7\n",
            "workingday             2\n",
            "weathersit             3\n",
            "temp                 498\n",
            "atemp                689\n",
            "hum                  594\n",
            "windspeed            649\n",
            "casual               605\n",
            "registered           678\n",
            "cnt                  695\n",
            "windspeed_binned       5\n",
            "temp_binned            7\n",
            "day                   31\n",
            "quarter_binned         4\n",
            "weekday_binned         7\n",
            "hum_binned             3\n",
            "mnth_binned           12\n",
            "weathersit_binned      3\n",
            "season_binned          4\n",
            "dtype: int64\n"
          ]
        }
      ],
      "source": [
        "print(df_bikeshare.nunique())"
      ]
    },
    {
      "cell_type": "code",
      "execution_count": 43,
      "id": "-jgUYFMEgcyF",
      "metadata": {
        "colab": {
          "base_uri": "https://localhost:8080/"
        },
        "id": "-jgUYFMEgcyF",
        "outputId": "e21186f7-8c2e-452d-f4f8-139684f20c5f"
      },
      "outputs": [
        {
          "output_type": "execute_result",
          "data": {
            "text/plain": [
              "Index(['instant', 'dteday', 'season', 'yr', 'mnth', 'weekday', 'workingday',\n",
              "       'weathersit', 'temp', 'atemp', 'hum', 'windspeed', 'casual',\n",
              "       'registered', 'cnt', 'windspeed_binned', 'temp_binned', 'day',\n",
              "       'quarter_binned', 'weekday_binned', 'hum_binned', 'mnth_binned',\n",
              "       'weathersit_binned', 'season_binned'],\n",
              "      dtype='object')"
            ]
          },
          "metadata": {},
          "execution_count": 43
        }
      ],
      "source": [
        "df_bikeshare.columns"
      ]
    },
    {
      "cell_type": "markdown",
      "id": "_l9ypOyd78Kb",
      "metadata": {
        "id": "_l9ypOyd78Kb"
      },
      "source": [
        "### **Step 6: Creating Dummy Variables**"
      ]
    },
    {
      "cell_type": "code",
      "execution_count": 44,
      "id": "SzslMl7a-CmF",
      "metadata": {
        "id": "SzslMl7a-CmF"
      },
      "outputs": [],
      "source": [
        "#create dummy variables for binned categorial variables\n",
        "windspeed_dummy = pd.get_dummies(df_bikeshare['windspeed_binned'],drop_first=True)\n",
        "temp_dummy = pd.get_dummies(df_bikeshare['temp_binned'],drop_first=True)\n",
        "quarter_dummy = pd.get_dummies(df_bikeshare['quarter_binned'],drop_first=True)\n",
        "weathersit_dummy = pd.get_dummies(df_bikeshare['weathersit_binned'],drop_first=True)\n",
        "weekday_dummy = pd.get_dummies(df_bikeshare['weekday_binned'],drop_first=True)\n",
        "hum_dummy = pd.get_dummies(df_bikeshare['hum_binned'],drop_first=True)\n",
        "mnth_dummy = pd.get_dummies(df_bikeshare['mnth_binned'],drop_first=True)\n",
        "season_dummy = pd.get_dummies(df_bikeshare['season_binned'],drop_first=True)\n",
        "\n",
        "\n",
        "\n"
      ]
    },
    {
      "cell_type": "code",
      "execution_count": 45,
      "id": "0PdOeyyOS9nn",
      "metadata": {
        "id": "0PdOeyyOS9nn"
      },
      "outputs": [],
      "source": [
        "#drop corresponding categorical variables\n",
        "#Reference: https://stackoverflow.com/questions/19071199/drop-columns-whose-name-contains-a-specific-string-from-pandas-dataframe\n",
        "df_bikeshare.drop(list(df_bikeshare.filter(regex = 'binned')), axis = 1, inplace = True)"
      ]
    },
    {
      "cell_type": "code",
      "execution_count": 46,
      "id": "L3u8sBVCSuII",
      "metadata": {
        "colab": {
          "base_uri": "https://localhost:8080/"
        },
        "id": "L3u8sBVCSuII",
        "outputId": "8283763f-7d70-44a8-ee29-cceeb1fa7772"
      },
      "outputs": [
        {
          "output_type": "execute_result",
          "data": {
            "text/plain": [
              "Index(['instant', 'dteday', 'season', 'yr', 'mnth', 'weekday', 'workingday',\n",
              "       'weathersit', 'temp', 'atemp', 'hum', 'windspeed', 'casual',\n",
              "       'registered', 'cnt', 'day'],\n",
              "      dtype='object')"
            ]
          },
          "metadata": {},
          "execution_count": 46
        }
      ],
      "source": [
        "#check dataframe for columns deletion\n",
        "df_bikeshare.columns"
      ]
    },
    {
      "cell_type": "code",
      "execution_count": 47,
      "id": "bO7zswOjS7e_",
      "metadata": {
        "colab": {
          "base_uri": "https://localhost:8080/"
        },
        "id": "bO7zswOjS7e_",
        "outputId": "821c3978-f4f1-4c8e-e1b5-66b6a12f8d90"
      },
      "outputs": [
        {
          "output_type": "stream",
          "name": "stdout",
          "text": [
            "Light_air          2\n",
            "Light_Breeze       2\n",
            "Gentle_Breeze      2\n",
            "Moderate_Breeze    2\n",
            "Fresh_Breeze       2\n",
            "Strong_Breeze      1\n",
            "Moderate_Gale      1\n",
            "Fresh_Gale         1\n",
            "Strong_Gale        1\n",
            "Whole_Gale         1\n",
            "Storm              1\n",
            "Hurricane          1\n",
            "dtype: int64\n",
            "Freezing         1\n",
            "Very_Cold        1\n",
            "Cold             2\n",
            "Quite_Cool       2\n",
            "Cool             2\n",
            "Lower_Ideal      2\n",
            "Ideal            2\n",
            "Quite_Warm       2\n",
            "Hot              2\n",
            "Very_Hot         1\n",
            "Extremely_Hot    1\n",
            "dtype: int64\n",
            "Second    2\n",
            "Third     2\n",
            "Fourth    2\n",
            "dtype: int64\n",
            "Cloudy            2\n",
            "Light_RainSnow    2\n",
            "Heavy_RainSnow    1\n",
            "dtype: int64\n",
            "Monday       2\n",
            "Tuesday      2\n",
            "Wednesday    2\n",
            "Thursday     2\n",
            "Friday       2\n",
            "Saturday     2\n",
            "dtype: int64\n",
            "Optimum      2\n",
            "Too_Humid    2\n",
            "dtype: int64\n",
            "Feb    2\n",
            "Mar    2\n",
            "Apr    2\n",
            "May    2\n",
            "Jun    2\n",
            "Jul    2\n",
            "Aug    2\n",
            "Sep    2\n",
            "Oct    2\n",
            "Nov    2\n",
            "Dec    2\n",
            "dtype: int64\n",
            "Summer    2\n",
            "Autumn    2\n",
            "Winter    2\n",
            "dtype: int64\n"
          ]
        }
      ],
      "source": [
        "#check variables\n",
        "print(windspeed_dummy.nunique())\n",
        "print(temp_dummy.nunique())\n",
        "print(quarter_dummy.nunique())\n",
        "print(weathersit_dummy.nunique())\n",
        "print(weekday_dummy.nunique())\n",
        "print(hum_dummy.nunique())\n",
        "print(mnth_dummy.nunique())\n",
        "print(season_dummy.nunique())"
      ]
    },
    {
      "cell_type": "code",
      "execution_count": 48,
      "id": "EdLJOHYsdXxh",
      "metadata": {
        "id": "EdLJOHYsdXxh"
      },
      "outputs": [],
      "source": [
        "#concat dummy variable dataframe to the main dataframe\n",
        "df_bikeshare = pd.concat([df_bikeshare, windspeed_dummy], axis = 1)\n",
        "df_bikeshare = pd.concat([df_bikeshare, temp_dummy], axis = 1)\n",
        "df_bikeshare = pd.concat([df_bikeshare, weathersit_dummy], axis = 1)\n",
        "df_bikeshare = pd.concat([df_bikeshare, weekday_dummy], axis = 1)                         \n",
        "df_bikeshare = pd.concat([df_bikeshare, hum_dummy], axis = 1)\n",
        "df_bikeshare = pd.concat([df_bikeshare, mnth_dummy], axis = 1)\n",
        "df_bikeshare = pd.concat([df_bikeshare, quarter_dummy], axis = 1)\n",
        "df_bikeshare = pd.concat([df_bikeshare, season_dummy], axis = 1)"
      ]
    },
    {
      "cell_type": "code",
      "execution_count": 49,
      "id": "miGZJBhyTlAQ",
      "metadata": {
        "colab": {
          "base_uri": "https://localhost:8080/"
        },
        "id": "miGZJBhyTlAQ",
        "outputId": "292040bc-595f-476f-a742-8393541e5ddd"
      },
      "outputs": [
        {
          "output_type": "execute_result",
          "data": {
            "text/plain": [
              "Index(['instant', 'dteday', 'season', 'yr', 'mnth', 'weekday', 'workingday',\n",
              "       'weathersit', 'temp', 'atemp', 'hum', 'windspeed', 'casual',\n",
              "       'registered', 'cnt', 'day', 'Light_air', 'Light_Breeze',\n",
              "       'Gentle_Breeze', 'Moderate_Breeze', 'Fresh_Breeze', 'Strong_Breeze',\n",
              "       'Moderate_Gale', 'Fresh_Gale', 'Strong_Gale', 'Whole_Gale', 'Storm',\n",
              "       'Hurricane', 'Freezing', 'Very_Cold', 'Cold', 'Quite_Cool', 'Cool',\n",
              "       'Lower_Ideal', 'Ideal', 'Quite_Warm', 'Hot', 'Very_Hot',\n",
              "       'Extremely_Hot', 'Cloudy', 'Light_RainSnow', 'Heavy_RainSnow', 'Monday',\n",
              "       'Tuesday', 'Wednesday', 'Thursday', 'Friday', 'Saturday', 'Optimum',\n",
              "       'Too_Humid', 'Feb', 'Mar', 'Apr', 'May', 'Jun', 'Jul', 'Aug', 'Sep',\n",
              "       'Oct', 'Nov', 'Dec', 'Second', 'Third', 'Fourth', 'Summer', 'Autumn',\n",
              "       'Winter'],\n",
              "      dtype='object')"
            ]
          },
          "metadata": {},
          "execution_count": 49
        }
      ],
      "source": [
        "#check dataframe for columns concatenation\n",
        "df_bikeshare.columns"
      ]
    },
    {
      "cell_type": "code",
      "execution_count": 50,
      "id": "NAuY_DeSTWvm",
      "metadata": {
        "id": "NAuY_DeSTWvm"
      },
      "outputs": [],
      "source": [
        "#drop columns where there is no variable diversity\n",
        "for col in df_bikeshare.columns:\n",
        "    if len(df_bikeshare[col].unique()) == 1:\n",
        "        df_bikeshare.drop(col,inplace=True,axis=1)\n"
      ]
    },
    {
      "cell_type": "code",
      "execution_count": 51,
      "id": "mm8L-R8CewVs",
      "metadata": {
        "colab": {
          "base_uri": "https://localhost:8080/"
        },
        "id": "mm8L-R8CewVs",
        "outputId": "196329cc-6786-42ad-cdcf-fb90d41ee879"
      },
      "outputs": [
        {
          "output_type": "stream",
          "name": "stdout",
          "text": [
            "instant            730\n",
            "dteday             730\n",
            "season               4\n",
            "yr                   2\n",
            "mnth                12\n",
            "weekday              7\n",
            "workingday           2\n",
            "weathersit           3\n",
            "temp               498\n",
            "atemp              689\n",
            "hum                594\n",
            "windspeed          649\n",
            "casual             605\n",
            "registered         678\n",
            "cnt                695\n",
            "day                 31\n",
            "Light_air            2\n",
            "Light_Breeze         2\n",
            "Gentle_Breeze        2\n",
            "Moderate_Breeze      2\n",
            "Fresh_Breeze         2\n",
            "Cold                 2\n",
            "Quite_Cool           2\n",
            "Cool                 2\n",
            "Lower_Ideal          2\n",
            "Ideal                2\n",
            "Quite_Warm           2\n",
            "Hot                  2\n",
            "Cloudy               2\n",
            "Light_RainSnow       2\n",
            "Monday               2\n",
            "Tuesday              2\n",
            "Wednesday            2\n",
            "Thursday             2\n",
            "Friday               2\n",
            "Saturday             2\n",
            "Optimum              2\n",
            "Too_Humid            2\n",
            "Feb                  2\n",
            "Mar                  2\n",
            "Apr                  2\n",
            "May                  2\n",
            "Jun                  2\n",
            "Jul                  2\n",
            "Aug                  2\n",
            "Sep                  2\n",
            "Oct                  2\n",
            "Nov                  2\n",
            "Dec                  2\n",
            "Second               2\n",
            "Third                2\n",
            "Fourth               2\n",
            "Summer               2\n",
            "Autumn               2\n",
            "Winter               2\n",
            "dtype: int64\n"
          ]
        }
      ],
      "source": [
        "#check master dataframe\n",
        "print(df_bikeshare.nunique())\n"
      ]
    },
    {
      "cell_type": "code",
      "execution_count": 52,
      "id": "q-cEC5k_fHRG",
      "metadata": {
        "colab": {
          "base_uri": "https://localhost:8080/"
        },
        "id": "q-cEC5k_fHRG",
        "outputId": "ad1d3622-78bb-4ad8-ea3c-948abccdd7c8"
      },
      "outputs": [
        {
          "output_type": "execute_result",
          "data": {
            "text/plain": [
              "['instant',\n",
              " 'dteday',\n",
              " 'season',\n",
              " 'yr',\n",
              " 'mnth',\n",
              " 'weekday',\n",
              " 'workingday',\n",
              " 'weathersit',\n",
              " 'temp',\n",
              " 'atemp',\n",
              " 'hum',\n",
              " 'windspeed',\n",
              " 'casual',\n",
              " 'registered',\n",
              " 'cnt',\n",
              " 'day',\n",
              " 'Light_air',\n",
              " 'Light_Breeze',\n",
              " 'Gentle_Breeze',\n",
              " 'Moderate_Breeze',\n",
              " 'Fresh_Breeze',\n",
              " 'Cold',\n",
              " 'Quite_Cool',\n",
              " 'Cool',\n",
              " 'Lower_Ideal',\n",
              " 'Ideal',\n",
              " 'Quite_Warm',\n",
              " 'Hot',\n",
              " 'Cloudy',\n",
              " 'Light_RainSnow',\n",
              " 'Monday',\n",
              " 'Tuesday',\n",
              " 'Wednesday',\n",
              " 'Thursday',\n",
              " 'Friday',\n",
              " 'Saturday',\n",
              " 'Optimum',\n",
              " 'Too_Humid',\n",
              " 'Feb',\n",
              " 'Mar',\n",
              " 'Apr',\n",
              " 'May',\n",
              " 'Jun',\n",
              " 'Jul',\n",
              " 'Aug',\n",
              " 'Sep',\n",
              " 'Oct',\n",
              " 'Nov',\n",
              " 'Dec',\n",
              " 'Second',\n",
              " 'Third',\n",
              " 'Fourth',\n",
              " 'Summer',\n",
              " 'Autumn',\n",
              " 'Winter']"
            ]
          },
          "metadata": {},
          "execution_count": 52
        }
      ],
      "source": [
        "df_bikeshare.columns.tolist()"
      ]
    },
    {
      "cell_type": "code",
      "execution_count": 54,
      "id": "jyI2rp5CUmDG",
      "metadata": {
        "colab": {
          "base_uri": "https://localhost:8080/",
          "height": 397
        },
        "id": "jyI2rp5CUmDG",
        "outputId": "a15f1742-b1fb-4d98-fb63-88c701302357"
      },
      "outputs": [
        {
          "output_type": "error",
          "ename": "KeyError",
          "evalue": "ignored",
          "traceback": [
            "\u001b[0;31m---------------------------------------------------------------------------\u001b[0m",
            "\u001b[0;31mKeyError\u001b[0m                                  Traceback (most recent call last)",
            "\u001b[0;32m<ipython-input-54-15c8584e32d7>\u001b[0m in \u001b[0;36m<module>\u001b[0;34m()\u001b[0m\n\u001b[1;32m     11\u001b[0m  \u001b[0;34m'windspeed'\u001b[0m\u001b[0;34m,\u001b[0m\u001b[0;34m\u001b[0m\u001b[0;34m\u001b[0m\u001b[0m\n\u001b[1;32m     12\u001b[0m  \u001b[0;34m'casual'\u001b[0m\u001b[0;34m,\u001b[0m\u001b[0;34m\u001b[0m\u001b[0;34m\u001b[0m\u001b[0m\n\u001b[0;32m---> 13\u001b[0;31m  'registered'], axis = 1, inplace = True)\n\u001b[0m\u001b[1;32m     14\u001b[0m \u001b[0mdf_bikeshare\u001b[0m\u001b[0;34m.\u001b[0m\u001b[0mhead\u001b[0m\u001b[0;34m(\u001b[0m\u001b[0;36m100\u001b[0m\u001b[0;34m)\u001b[0m\u001b[0;34m\u001b[0m\u001b[0;34m\u001b[0m\u001b[0m\n",
            "\u001b[0;32m/usr/local/lib/python3.7/dist-packages/pandas/util/_decorators.py\u001b[0m in \u001b[0;36mwrapper\u001b[0;34m(*args, **kwargs)\u001b[0m\n\u001b[1;32m    309\u001b[0m                     \u001b[0mstacklevel\u001b[0m\u001b[0;34m=\u001b[0m\u001b[0mstacklevel\u001b[0m\u001b[0;34m,\u001b[0m\u001b[0;34m\u001b[0m\u001b[0;34m\u001b[0m\u001b[0m\n\u001b[1;32m    310\u001b[0m                 )\n\u001b[0;32m--> 311\u001b[0;31m             \u001b[0;32mreturn\u001b[0m \u001b[0mfunc\u001b[0m\u001b[0;34m(\u001b[0m\u001b[0;34m*\u001b[0m\u001b[0margs\u001b[0m\u001b[0;34m,\u001b[0m \u001b[0;34m**\u001b[0m\u001b[0mkwargs\u001b[0m\u001b[0;34m)\u001b[0m\u001b[0;34m\u001b[0m\u001b[0;34m\u001b[0m\u001b[0m\n\u001b[0m\u001b[1;32m    312\u001b[0m \u001b[0;34m\u001b[0m\u001b[0m\n\u001b[1;32m    313\u001b[0m         \u001b[0;32mreturn\u001b[0m \u001b[0mwrapper\u001b[0m\u001b[0;34m\u001b[0m\u001b[0;34m\u001b[0m\u001b[0m\n",
            "\u001b[0;32m/usr/local/lib/python3.7/dist-packages/pandas/core/frame.py\u001b[0m in \u001b[0;36mdrop\u001b[0;34m(self, labels, axis, index, columns, level, inplace, errors)\u001b[0m\n\u001b[1;32m   4911\u001b[0m             \u001b[0mlevel\u001b[0m\u001b[0;34m=\u001b[0m\u001b[0mlevel\u001b[0m\u001b[0;34m,\u001b[0m\u001b[0;34m\u001b[0m\u001b[0;34m\u001b[0m\u001b[0m\n\u001b[1;32m   4912\u001b[0m             \u001b[0minplace\u001b[0m\u001b[0;34m=\u001b[0m\u001b[0minplace\u001b[0m\u001b[0;34m,\u001b[0m\u001b[0;34m\u001b[0m\u001b[0;34m\u001b[0m\u001b[0m\n\u001b[0;32m-> 4913\u001b[0;31m             \u001b[0merrors\u001b[0m\u001b[0;34m=\u001b[0m\u001b[0merrors\u001b[0m\u001b[0;34m,\u001b[0m\u001b[0;34m\u001b[0m\u001b[0;34m\u001b[0m\u001b[0m\n\u001b[0m\u001b[1;32m   4914\u001b[0m         )\n\u001b[1;32m   4915\u001b[0m \u001b[0;34m\u001b[0m\u001b[0m\n",
            "\u001b[0;32m/usr/local/lib/python3.7/dist-packages/pandas/core/generic.py\u001b[0m in \u001b[0;36mdrop\u001b[0;34m(self, labels, axis, index, columns, level, inplace, errors)\u001b[0m\n\u001b[1;32m   4148\u001b[0m         \u001b[0;32mfor\u001b[0m \u001b[0maxis\u001b[0m\u001b[0;34m,\u001b[0m \u001b[0mlabels\u001b[0m \u001b[0;32min\u001b[0m \u001b[0maxes\u001b[0m\u001b[0;34m.\u001b[0m\u001b[0mitems\u001b[0m\u001b[0;34m(\u001b[0m\u001b[0;34m)\u001b[0m\u001b[0;34m:\u001b[0m\u001b[0;34m\u001b[0m\u001b[0;34m\u001b[0m\u001b[0m\n\u001b[1;32m   4149\u001b[0m             \u001b[0;32mif\u001b[0m \u001b[0mlabels\u001b[0m \u001b[0;32mis\u001b[0m \u001b[0;32mnot\u001b[0m \u001b[0;32mNone\u001b[0m\u001b[0;34m:\u001b[0m\u001b[0;34m\u001b[0m\u001b[0;34m\u001b[0m\u001b[0m\n\u001b[0;32m-> 4150\u001b[0;31m                 \u001b[0mobj\u001b[0m \u001b[0;34m=\u001b[0m \u001b[0mobj\u001b[0m\u001b[0;34m.\u001b[0m\u001b[0m_drop_axis\u001b[0m\u001b[0;34m(\u001b[0m\u001b[0mlabels\u001b[0m\u001b[0;34m,\u001b[0m \u001b[0maxis\u001b[0m\u001b[0;34m,\u001b[0m \u001b[0mlevel\u001b[0m\u001b[0;34m=\u001b[0m\u001b[0mlevel\u001b[0m\u001b[0;34m,\u001b[0m \u001b[0merrors\u001b[0m\u001b[0;34m=\u001b[0m\u001b[0merrors\u001b[0m\u001b[0;34m)\u001b[0m\u001b[0;34m\u001b[0m\u001b[0;34m\u001b[0m\u001b[0m\n\u001b[0m\u001b[1;32m   4151\u001b[0m \u001b[0;34m\u001b[0m\u001b[0m\n\u001b[1;32m   4152\u001b[0m         \u001b[0;32mif\u001b[0m \u001b[0minplace\u001b[0m\u001b[0;34m:\u001b[0m\u001b[0;34m\u001b[0m\u001b[0;34m\u001b[0m\u001b[0m\n",
            "\u001b[0;32m/usr/local/lib/python3.7/dist-packages/pandas/core/generic.py\u001b[0m in \u001b[0;36m_drop_axis\u001b[0;34m(self, labels, axis, level, errors)\u001b[0m\n\u001b[1;32m   4183\u001b[0m                 \u001b[0mnew_axis\u001b[0m \u001b[0;34m=\u001b[0m \u001b[0maxis\u001b[0m\u001b[0;34m.\u001b[0m\u001b[0mdrop\u001b[0m\u001b[0;34m(\u001b[0m\u001b[0mlabels\u001b[0m\u001b[0;34m,\u001b[0m \u001b[0mlevel\u001b[0m\u001b[0;34m=\u001b[0m\u001b[0mlevel\u001b[0m\u001b[0;34m,\u001b[0m \u001b[0merrors\u001b[0m\u001b[0;34m=\u001b[0m\u001b[0merrors\u001b[0m\u001b[0;34m)\u001b[0m\u001b[0;34m\u001b[0m\u001b[0;34m\u001b[0m\u001b[0m\n\u001b[1;32m   4184\u001b[0m             \u001b[0;32melse\u001b[0m\u001b[0;34m:\u001b[0m\u001b[0;34m\u001b[0m\u001b[0;34m\u001b[0m\u001b[0m\n\u001b[0;32m-> 4185\u001b[0;31m                 \u001b[0mnew_axis\u001b[0m \u001b[0;34m=\u001b[0m \u001b[0maxis\u001b[0m\u001b[0;34m.\u001b[0m\u001b[0mdrop\u001b[0m\u001b[0;34m(\u001b[0m\u001b[0mlabels\u001b[0m\u001b[0;34m,\u001b[0m \u001b[0merrors\u001b[0m\u001b[0;34m=\u001b[0m\u001b[0merrors\u001b[0m\u001b[0;34m)\u001b[0m\u001b[0;34m\u001b[0m\u001b[0;34m\u001b[0m\u001b[0m\n\u001b[0m\u001b[1;32m   4186\u001b[0m             \u001b[0mresult\u001b[0m \u001b[0;34m=\u001b[0m \u001b[0mself\u001b[0m\u001b[0;34m.\u001b[0m\u001b[0mreindex\u001b[0m\u001b[0;34m(\u001b[0m\u001b[0;34m**\u001b[0m\u001b[0;34m{\u001b[0m\u001b[0maxis_name\u001b[0m\u001b[0;34m:\u001b[0m \u001b[0mnew_axis\u001b[0m\u001b[0;34m}\u001b[0m\u001b[0;34m)\u001b[0m\u001b[0;34m\u001b[0m\u001b[0;34m\u001b[0m\u001b[0m\n\u001b[1;32m   4187\u001b[0m \u001b[0;34m\u001b[0m\u001b[0m\n",
            "\u001b[0;32m/usr/local/lib/python3.7/dist-packages/pandas/core/indexes/base.py\u001b[0m in \u001b[0;36mdrop\u001b[0;34m(self, labels, errors)\u001b[0m\n\u001b[1;32m   6015\u001b[0m         \u001b[0;32mif\u001b[0m \u001b[0mmask\u001b[0m\u001b[0;34m.\u001b[0m\u001b[0many\u001b[0m\u001b[0;34m(\u001b[0m\u001b[0;34m)\u001b[0m\u001b[0;34m:\u001b[0m\u001b[0;34m\u001b[0m\u001b[0;34m\u001b[0m\u001b[0m\n\u001b[1;32m   6016\u001b[0m             \u001b[0;32mif\u001b[0m \u001b[0merrors\u001b[0m \u001b[0;34m!=\u001b[0m \u001b[0;34m\"ignore\"\u001b[0m\u001b[0;34m:\u001b[0m\u001b[0;34m\u001b[0m\u001b[0;34m\u001b[0m\u001b[0m\n\u001b[0;32m-> 6017\u001b[0;31m                 \u001b[0;32mraise\u001b[0m \u001b[0mKeyError\u001b[0m\u001b[0;34m(\u001b[0m\u001b[0;34mf\"{labels[mask]} not found in axis\"\u001b[0m\u001b[0;34m)\u001b[0m\u001b[0;34m\u001b[0m\u001b[0;34m\u001b[0m\u001b[0m\n\u001b[0m\u001b[1;32m   6018\u001b[0m             \u001b[0mindexer\u001b[0m \u001b[0;34m=\u001b[0m \u001b[0mindexer\u001b[0m\u001b[0;34m[\u001b[0m\u001b[0;34m~\u001b[0m\u001b[0mmask\u001b[0m\u001b[0;34m]\u001b[0m\u001b[0;34m\u001b[0m\u001b[0;34m\u001b[0m\u001b[0m\n\u001b[1;32m   6019\u001b[0m         \u001b[0;32mreturn\u001b[0m \u001b[0mself\u001b[0m\u001b[0;34m.\u001b[0m\u001b[0mdelete\u001b[0m\u001b[0;34m(\u001b[0m\u001b[0mindexer\u001b[0m\u001b[0;34m)\u001b[0m\u001b[0;34m\u001b[0m\u001b[0;34m\u001b[0m\u001b[0m\n",
            "\u001b[0;31mKeyError\u001b[0m: \"['instant' 'dteday' 'season' 'mnth' 'weekday' 'weathersit' 'temp' 'atemp'\\n 'hum' 'windspeed' 'casual' 'registered'] not found in axis\""
          ]
        }
      ],
      "source": [
        "#drop original categorical and redundant columns\n",
        "df_bikeshare.drop(['instant',\n",
        " 'dteday',\n",
        " 'season',\n",
        " 'mnth',\n",
        " 'weekday',\n",
        " 'weathersit',\n",
        " 'temp',\n",
        " 'atemp',\n",
        " 'hum',\n",
        " 'windspeed',\n",
        " 'casual',\n",
        " 'registered'], axis = 1, inplace = True)\n",
        "df_bikeshare.head(100)"
      ]
    },
    {
      "cell_type": "markdown",
      "id": "iZeSVEkrfNx4",
      "metadata": {
        "id": "iZeSVEkrfNx4"
      },
      "source": [
        "### **Step 7: Splitting and Scaling data**"
      ]
    },
    {
      "cell_type": "code",
      "execution_count": 55,
      "id": "5w-rb4AwWJVC",
      "metadata": {
        "colab": {
          "base_uri": "https://localhost:8080/"
        },
        "id": "5w-rb4AwWJVC",
        "outputId": "50c6140c-b62a-4acb-f668-31c286ba0217"
      },
      "outputs": [
        {
          "output_type": "stream",
          "name": "stdout",
          "text": [
            "yr                   2\n",
            "workingday           2\n",
            "cnt                695\n",
            "day                 31\n",
            "Light_air            2\n",
            "Light_Breeze         2\n",
            "Gentle_Breeze        2\n",
            "Moderate_Breeze      2\n",
            "Fresh_Breeze         2\n",
            "Cold                 2\n",
            "Quite_Cool           2\n",
            "Cool                 2\n",
            "Lower_Ideal          2\n",
            "Ideal                2\n",
            "Quite_Warm           2\n",
            "Hot                  2\n",
            "Cloudy               2\n",
            "Light_RainSnow       2\n",
            "Monday               2\n",
            "Tuesday              2\n",
            "Wednesday            2\n",
            "Thursday             2\n",
            "Friday               2\n",
            "Saturday             2\n",
            "Optimum              2\n",
            "Too_Humid            2\n",
            "Feb                  2\n",
            "Mar                  2\n",
            "Apr                  2\n",
            "May                  2\n",
            "Jun                  2\n",
            "Jul                  2\n",
            "Aug                  2\n",
            "Sep                  2\n",
            "Oct                  2\n",
            "Nov                  2\n",
            "Dec                  2\n",
            "Second               2\n",
            "Third                2\n",
            "Fourth               2\n",
            "Summer               2\n",
            "Autumn               2\n",
            "Winter               2\n",
            "dtype: int64\n"
          ]
        }
      ],
      "source": [
        "#check dataframe\n",
        "print(df_bikeshare.nunique())"
      ]
    },
    {
      "cell_type": "code",
      "execution_count": 56,
      "id": "BNGuF1stzKP-",
      "metadata": {
        "id": "BNGuF1stzKP-"
      },
      "outputs": [],
      "source": [
        "#copy dataframe\n",
        "s1_df=df_bikeshare.copy()"
      ]
    },
    {
      "cell_type": "code",
      "execution_count": 57,
      "id": "Aufyw6EihRxE",
      "metadata": {
        "id": "Aufyw6EihRxE"
      },
      "outputs": [],
      "source": [
        "#splitting data\n",
        "# We specify this so that the train and test data set always have the same rows, respectively\n",
        "np.random.seed(0)\n",
        "s1_train, s1_test = train_test_split(s1_df, train_size = 0.7, test_size = 0.3, random_state = 100)"
      ]
    },
    {
      "cell_type": "code",
      "execution_count": 58,
      "id": "xCYvkDxgid9I",
      "metadata": {
        "colab": {
          "base_uri": "https://localhost:8080/"
        },
        "id": "xCYvkDxgid9I",
        "outputId": "1b21d05f-b7d8-4165-c757-e7916b536645"
      },
      "outputs": [
        {
          "output_type": "execute_result",
          "data": {
            "text/plain": [
              "Index(['yr', 'workingday', 'cnt', 'day', 'Light_air', 'Light_Breeze',\n",
              "       'Gentle_Breeze', 'Moderate_Breeze', 'Fresh_Breeze', 'Cold',\n",
              "       'Quite_Cool', 'Cool', 'Lower_Ideal', 'Ideal', 'Quite_Warm', 'Hot',\n",
              "       'Cloudy', 'Light_RainSnow', 'Monday', 'Tuesday', 'Wednesday',\n",
              "       'Thursday', 'Friday', 'Saturday', 'Optimum', 'Too_Humid', 'Feb', 'Mar',\n",
              "       'Apr', 'May', 'Jun', 'Jul', 'Aug', 'Sep', 'Oct', 'Nov', 'Dec', 'Second',\n",
              "       'Third', 'Fourth', 'Summer', 'Autumn', 'Winter'],\n",
              "      dtype='object')"
            ]
          },
          "metadata": {},
          "execution_count": 58
        }
      ],
      "source": [
        "s1_train.columns"
      ]
    },
    {
      "cell_type": "code",
      "execution_count": 59,
      "id": "QR_8AdlsiSez",
      "metadata": {
        "id": "QR_8AdlsiSez"
      },
      "outputs": [],
      "source": [
        "#set up scaler\n",
        "scaler = MinMaxScaler()\n",
        "# Apply scaler() to all the columns except  'cnt' variable\n",
        "num_vars=s1_train.columns.tolist()\n",
        "num_vars.remove('cnt')\n",
        "s1_train[num_vars] = scaler.fit_transform(s1_train[num_vars])"
      ]
    },
    {
      "cell_type": "code",
      "execution_count": 60,
      "id": "qdj940HNizM7",
      "metadata": {
        "colab": {
          "base_uri": "https://localhost:8080/",
          "height": 456
        },
        "id": "qdj940HNizM7",
        "outputId": "16503eef-ef9d-4504-b56d-27779e789bb6"
      },
      "outputs": [
        {
          "output_type": "execute_result",
          "data": {
            "text/plain": [
              "      yr  workingday   cnt       day  Light_air  Light_Breeze  Gentle_Breeze  \\\n",
              "653  1.0         1.0  7534  0.500000        0.0           0.0            1.0   \n",
              "576  1.0         1.0  7216  1.000000        0.0           0.0            1.0   \n",
              "426  1.0         0.0  4066  0.066667        0.0           1.0            0.0   \n",
              "728  1.0         0.0  1796  0.966667        0.0           0.0            0.0   \n",
              "482  1.0         0.0  4220  0.900000        0.0           1.0            0.0   \n",
              "111  0.0         1.0  1683  0.700000        0.0           0.0            1.0   \n",
              "580  1.0         0.0  6824  0.100000        0.0           0.0            1.0   \n",
              "500  1.0         1.0  7424  0.500000        0.0           1.0            0.0   \n",
              "479  1.0         1.0  6196  0.800000        0.0           1.0            0.0   \n",
              "472  1.0         1.0  4367  0.566667        0.0           0.0            1.0   \n",
              "\n",
              "     Moderate_Breeze  Fresh_Breeze  Cold  ...  Sep  Oct  Nov  Dec  Second  \\\n",
              "653              0.0           0.0   0.0  ...  0.0  1.0  0.0  0.0     0.0   \n",
              "576              0.0           0.0   0.0  ...  0.0  0.0  0.0  0.0     0.0   \n",
              "426              0.0           0.0   0.0  ...  0.0  0.0  0.0  0.0     0.0   \n",
              "728              1.0           0.0   0.0  ...  0.0  0.0  0.0  1.0     0.0   \n",
              "482              0.0           0.0   0.0  ...  0.0  0.0  0.0  0.0     1.0   \n",
              "111              0.0           0.0   0.0  ...  0.0  0.0  0.0  0.0     1.0   \n",
              "580              0.0           0.0   0.0  ...  0.0  0.0  0.0  0.0     0.0   \n",
              "500              0.0           0.0   0.0  ...  0.0  0.0  0.0  0.0     1.0   \n",
              "479              0.0           0.0   0.0  ...  0.0  0.0  0.0  0.0     1.0   \n",
              "472              0.0           0.0   0.0  ...  0.0  0.0  0.0  0.0     1.0   \n",
              "\n",
              "     Third  Fourth  Summer  Autumn  Winter  \n",
              "653    0.0     1.0     0.0     0.0     1.0  \n",
              "576    1.0     0.0     0.0     1.0     0.0  \n",
              "426    0.0     0.0     0.0     0.0     0.0  \n",
              "728    0.0     1.0     0.0     0.0     0.0  \n",
              "482    0.0     0.0     1.0     0.0     0.0  \n",
              "111    0.0     0.0     1.0     0.0     0.0  \n",
              "580    1.0     0.0     0.0     1.0     0.0  \n",
              "500    0.0     0.0     1.0     0.0     0.0  \n",
              "479    0.0     0.0     1.0     0.0     0.0  \n",
              "472    0.0     0.0     1.0     0.0     0.0  \n",
              "\n",
              "[10 rows x 43 columns]"
            ],
            "text/html": [
              "\n",
              "  <div id=\"df-a2b5c698-f315-4504-8f97-b95a8ec8af34\">\n",
              "    <div class=\"colab-df-container\">\n",
              "      <div>\n",
              "<style scoped>\n",
              "    .dataframe tbody tr th:only-of-type {\n",
              "        vertical-align: middle;\n",
              "    }\n",
              "\n",
              "    .dataframe tbody tr th {\n",
              "        vertical-align: top;\n",
              "    }\n",
              "\n",
              "    .dataframe thead th {\n",
              "        text-align: right;\n",
              "    }\n",
              "</style>\n",
              "<table border=\"1\" class=\"dataframe\">\n",
              "  <thead>\n",
              "    <tr style=\"text-align: right;\">\n",
              "      <th></th>\n",
              "      <th>yr</th>\n",
              "      <th>workingday</th>\n",
              "      <th>cnt</th>\n",
              "      <th>day</th>\n",
              "      <th>Light_air</th>\n",
              "      <th>Light_Breeze</th>\n",
              "      <th>Gentle_Breeze</th>\n",
              "      <th>Moderate_Breeze</th>\n",
              "      <th>Fresh_Breeze</th>\n",
              "      <th>Cold</th>\n",
              "      <th>...</th>\n",
              "      <th>Sep</th>\n",
              "      <th>Oct</th>\n",
              "      <th>Nov</th>\n",
              "      <th>Dec</th>\n",
              "      <th>Second</th>\n",
              "      <th>Third</th>\n",
              "      <th>Fourth</th>\n",
              "      <th>Summer</th>\n",
              "      <th>Autumn</th>\n",
              "      <th>Winter</th>\n",
              "    </tr>\n",
              "  </thead>\n",
              "  <tbody>\n",
              "    <tr>\n",
              "      <th>653</th>\n",
              "      <td>1.0</td>\n",
              "      <td>1.0</td>\n",
              "      <td>7534</td>\n",
              "      <td>0.500000</td>\n",
              "      <td>0.0</td>\n",
              "      <td>0.0</td>\n",
              "      <td>1.0</td>\n",
              "      <td>0.0</td>\n",
              "      <td>0.0</td>\n",
              "      <td>0.0</td>\n",
              "      <td>...</td>\n",
              "      <td>0.0</td>\n",
              "      <td>1.0</td>\n",
              "      <td>0.0</td>\n",
              "      <td>0.0</td>\n",
              "      <td>0.0</td>\n",
              "      <td>0.0</td>\n",
              "      <td>1.0</td>\n",
              "      <td>0.0</td>\n",
              "      <td>0.0</td>\n",
              "      <td>1.0</td>\n",
              "    </tr>\n",
              "    <tr>\n",
              "      <th>576</th>\n",
              "      <td>1.0</td>\n",
              "      <td>1.0</td>\n",
              "      <td>7216</td>\n",
              "      <td>1.000000</td>\n",
              "      <td>0.0</td>\n",
              "      <td>0.0</td>\n",
              "      <td>1.0</td>\n",
              "      <td>0.0</td>\n",
              "      <td>0.0</td>\n",
              "      <td>0.0</td>\n",
              "      <td>...</td>\n",
              "      <td>0.0</td>\n",
              "      <td>0.0</td>\n",
              "      <td>0.0</td>\n",
              "      <td>0.0</td>\n",
              "      <td>0.0</td>\n",
              "      <td>1.0</td>\n",
              "      <td>0.0</td>\n",
              "      <td>0.0</td>\n",
              "      <td>1.0</td>\n",
              "      <td>0.0</td>\n",
              "    </tr>\n",
              "    <tr>\n",
              "      <th>426</th>\n",
              "      <td>1.0</td>\n",
              "      <td>0.0</td>\n",
              "      <td>4066</td>\n",
              "      <td>0.066667</td>\n",
              "      <td>0.0</td>\n",
              "      <td>1.0</td>\n",
              "      <td>0.0</td>\n",
              "      <td>0.0</td>\n",
              "      <td>0.0</td>\n",
              "      <td>0.0</td>\n",
              "      <td>...</td>\n",
              "      <td>0.0</td>\n",
              "      <td>0.0</td>\n",
              "      <td>0.0</td>\n",
              "      <td>0.0</td>\n",
              "      <td>0.0</td>\n",
              "      <td>0.0</td>\n",
              "      <td>0.0</td>\n",
              "      <td>0.0</td>\n",
              "      <td>0.0</td>\n",
              "      <td>0.0</td>\n",
              "    </tr>\n",
              "    <tr>\n",
              "      <th>728</th>\n",
              "      <td>1.0</td>\n",
              "      <td>0.0</td>\n",
              "      <td>1796</td>\n",
              "      <td>0.966667</td>\n",
              "      <td>0.0</td>\n",
              "      <td>0.0</td>\n",
              "      <td>0.0</td>\n",
              "      <td>1.0</td>\n",
              "      <td>0.0</td>\n",
              "      <td>0.0</td>\n",
              "      <td>...</td>\n",
              "      <td>0.0</td>\n",
              "      <td>0.0</td>\n",
              "      <td>0.0</td>\n",
              "      <td>1.0</td>\n",
              "      <td>0.0</td>\n",
              "      <td>0.0</td>\n",
              "      <td>1.0</td>\n",
              "      <td>0.0</td>\n",
              "      <td>0.0</td>\n",
              "      <td>0.0</td>\n",
              "    </tr>\n",
              "    <tr>\n",
              "      <th>482</th>\n",
              "      <td>1.0</td>\n",
              "      <td>0.0</td>\n",
              "      <td>4220</td>\n",
              "      <td>0.900000</td>\n",
              "      <td>0.0</td>\n",
              "      <td>1.0</td>\n",
              "      <td>0.0</td>\n",
              "      <td>0.0</td>\n",
              "      <td>0.0</td>\n",
              "      <td>0.0</td>\n",
              "      <td>...</td>\n",
              "      <td>0.0</td>\n",
              "      <td>0.0</td>\n",
              "      <td>0.0</td>\n",
              "      <td>0.0</td>\n",
              "      <td>1.0</td>\n",
              "      <td>0.0</td>\n",
              "      <td>0.0</td>\n",
              "      <td>1.0</td>\n",
              "      <td>0.0</td>\n",
              "      <td>0.0</td>\n",
              "    </tr>\n",
              "    <tr>\n",
              "      <th>111</th>\n",
              "      <td>0.0</td>\n",
              "      <td>1.0</td>\n",
              "      <td>1683</td>\n",
              "      <td>0.700000</td>\n",
              "      <td>0.0</td>\n",
              "      <td>0.0</td>\n",
              "      <td>1.0</td>\n",
              "      <td>0.0</td>\n",
              "      <td>0.0</td>\n",
              "      <td>0.0</td>\n",
              "      <td>...</td>\n",
              "      <td>0.0</td>\n",
              "      <td>0.0</td>\n",
              "      <td>0.0</td>\n",
              "      <td>0.0</td>\n",
              "      <td>1.0</td>\n",
              "      <td>0.0</td>\n",
              "      <td>0.0</td>\n",
              "      <td>1.0</td>\n",
              "      <td>0.0</td>\n",
              "      <td>0.0</td>\n",
              "    </tr>\n",
              "    <tr>\n",
              "      <th>580</th>\n",
              "      <td>1.0</td>\n",
              "      <td>0.0</td>\n",
              "      <td>6824</td>\n",
              "      <td>0.100000</td>\n",
              "      <td>0.0</td>\n",
              "      <td>0.0</td>\n",
              "      <td>1.0</td>\n",
              "      <td>0.0</td>\n",
              "      <td>0.0</td>\n",
              "      <td>0.0</td>\n",
              "      <td>...</td>\n",
              "      <td>0.0</td>\n",
              "      <td>0.0</td>\n",
              "      <td>0.0</td>\n",
              "      <td>0.0</td>\n",
              "      <td>0.0</td>\n",
              "      <td>1.0</td>\n",
              "      <td>0.0</td>\n",
              "      <td>0.0</td>\n",
              "      <td>1.0</td>\n",
              "      <td>0.0</td>\n",
              "    </tr>\n",
              "    <tr>\n",
              "      <th>500</th>\n",
              "      <td>1.0</td>\n",
              "      <td>1.0</td>\n",
              "      <td>7424</td>\n",
              "      <td>0.500000</td>\n",
              "      <td>0.0</td>\n",
              "      <td>1.0</td>\n",
              "      <td>0.0</td>\n",
              "      <td>0.0</td>\n",
              "      <td>0.0</td>\n",
              "      <td>0.0</td>\n",
              "      <td>...</td>\n",
              "      <td>0.0</td>\n",
              "      <td>0.0</td>\n",
              "      <td>0.0</td>\n",
              "      <td>0.0</td>\n",
              "      <td>1.0</td>\n",
              "      <td>0.0</td>\n",
              "      <td>0.0</td>\n",
              "      <td>1.0</td>\n",
              "      <td>0.0</td>\n",
              "      <td>0.0</td>\n",
              "    </tr>\n",
              "    <tr>\n",
              "      <th>479</th>\n",
              "      <td>1.0</td>\n",
              "      <td>1.0</td>\n",
              "      <td>6196</td>\n",
              "      <td>0.800000</td>\n",
              "      <td>0.0</td>\n",
              "      <td>1.0</td>\n",
              "      <td>0.0</td>\n",
              "      <td>0.0</td>\n",
              "      <td>0.0</td>\n",
              "      <td>0.0</td>\n",
              "      <td>...</td>\n",
              "      <td>0.0</td>\n",
              "      <td>0.0</td>\n",
              "      <td>0.0</td>\n",
              "      <td>0.0</td>\n",
              "      <td>1.0</td>\n",
              "      <td>0.0</td>\n",
              "      <td>0.0</td>\n",
              "      <td>1.0</td>\n",
              "      <td>0.0</td>\n",
              "      <td>0.0</td>\n",
              "    </tr>\n",
              "    <tr>\n",
              "      <th>472</th>\n",
              "      <td>1.0</td>\n",
              "      <td>1.0</td>\n",
              "      <td>4367</td>\n",
              "      <td>0.566667</td>\n",
              "      <td>0.0</td>\n",
              "      <td>0.0</td>\n",
              "      <td>1.0</td>\n",
              "      <td>0.0</td>\n",
              "      <td>0.0</td>\n",
              "      <td>0.0</td>\n",
              "      <td>...</td>\n",
              "      <td>0.0</td>\n",
              "      <td>0.0</td>\n",
              "      <td>0.0</td>\n",
              "      <td>0.0</td>\n",
              "      <td>1.0</td>\n",
              "      <td>0.0</td>\n",
              "      <td>0.0</td>\n",
              "      <td>1.0</td>\n",
              "      <td>0.0</td>\n",
              "      <td>0.0</td>\n",
              "    </tr>\n",
              "  </tbody>\n",
              "</table>\n",
              "<p>10 rows × 43 columns</p>\n",
              "</div>\n",
              "      <button class=\"colab-df-convert\" onclick=\"convertToInteractive('df-a2b5c698-f315-4504-8f97-b95a8ec8af34')\"\n",
              "              title=\"Convert this dataframe to an interactive table.\"\n",
              "              style=\"display:none;\">\n",
              "        \n",
              "  <svg xmlns=\"http://www.w3.org/2000/svg\" height=\"24px\"viewBox=\"0 0 24 24\"\n",
              "       width=\"24px\">\n",
              "    <path d=\"M0 0h24v24H0V0z\" fill=\"none\"/>\n",
              "    <path d=\"M18.56 5.44l.94 2.06.94-2.06 2.06-.94-2.06-.94-.94-2.06-.94 2.06-2.06.94zm-11 1L8.5 8.5l.94-2.06 2.06-.94-2.06-.94L8.5 2.5l-.94 2.06-2.06.94zm10 10l.94 2.06.94-2.06 2.06-.94-2.06-.94-.94-2.06-.94 2.06-2.06.94z\"/><path d=\"M17.41 7.96l-1.37-1.37c-.4-.4-.92-.59-1.43-.59-.52 0-1.04.2-1.43.59L10.3 9.45l-7.72 7.72c-.78.78-.78 2.05 0 2.83L4 21.41c.39.39.9.59 1.41.59.51 0 1.02-.2 1.41-.59l7.78-7.78 2.81-2.81c.8-.78.8-2.07 0-2.86zM5.41 20L4 18.59l7.72-7.72 1.47 1.35L5.41 20z\"/>\n",
              "  </svg>\n",
              "      </button>\n",
              "      \n",
              "  <style>\n",
              "    .colab-df-container {\n",
              "      display:flex;\n",
              "      flex-wrap:wrap;\n",
              "      gap: 12px;\n",
              "    }\n",
              "\n",
              "    .colab-df-convert {\n",
              "      background-color: #E8F0FE;\n",
              "      border: none;\n",
              "      border-radius: 50%;\n",
              "      cursor: pointer;\n",
              "      display: none;\n",
              "      fill: #1967D2;\n",
              "      height: 32px;\n",
              "      padding: 0 0 0 0;\n",
              "      width: 32px;\n",
              "    }\n",
              "\n",
              "    .colab-df-convert:hover {\n",
              "      background-color: #E2EBFA;\n",
              "      box-shadow: 0px 1px 2px rgba(60, 64, 67, 0.3), 0px 1px 3px 1px rgba(60, 64, 67, 0.15);\n",
              "      fill: #174EA6;\n",
              "    }\n",
              "\n",
              "    [theme=dark] .colab-df-convert {\n",
              "      background-color: #3B4455;\n",
              "      fill: #D2E3FC;\n",
              "    }\n",
              "\n",
              "    [theme=dark] .colab-df-convert:hover {\n",
              "      background-color: #434B5C;\n",
              "      box-shadow: 0px 1px 3px 1px rgba(0, 0, 0, 0.15);\n",
              "      filter: drop-shadow(0px 1px 2px rgba(0, 0, 0, 0.3));\n",
              "      fill: #FFFFFF;\n",
              "    }\n",
              "  </style>\n",
              "\n",
              "      <script>\n",
              "        const buttonEl =\n",
              "          document.querySelector('#df-a2b5c698-f315-4504-8f97-b95a8ec8af34 button.colab-df-convert');\n",
              "        buttonEl.style.display =\n",
              "          google.colab.kernel.accessAllowed ? 'block' : 'none';\n",
              "\n",
              "        async function convertToInteractive(key) {\n",
              "          const element = document.querySelector('#df-a2b5c698-f315-4504-8f97-b95a8ec8af34');\n",
              "          const dataTable =\n",
              "            await google.colab.kernel.invokeFunction('convertToInteractive',\n",
              "                                                     [key], {});\n",
              "          if (!dataTable) return;\n",
              "\n",
              "          const docLinkHtml = 'Like what you see? Visit the ' +\n",
              "            '<a target=\"_blank\" href=https://colab.research.google.com/notebooks/data_table.ipynb>data table notebook</a>'\n",
              "            + ' to learn more about interactive tables.';\n",
              "          element.innerHTML = '';\n",
              "          dataTable['output_type'] = 'display_data';\n",
              "          await google.colab.output.renderOutput(dataTable, element);\n",
              "          const docLink = document.createElement('div');\n",
              "          docLink.innerHTML = docLinkHtml;\n",
              "          element.appendChild(docLink);\n",
              "        }\n",
              "      </script>\n",
              "    </div>\n",
              "  </div>\n",
              "  "
            ]
          },
          "metadata": {},
          "execution_count": 60
        }
      ],
      "source": [
        "s1_train.head(10)"
      ]
    },
    {
      "cell_type": "code",
      "execution_count": 61,
      "id": "VtFEgd3eXy3i",
      "metadata": {
        "colab": {
          "base_uri": "https://localhost:8080/"
        },
        "id": "VtFEgd3eXy3i",
        "outputId": "c49accf8-24a7-413f-e270-2d25a62d177b"
      },
      "outputs": [
        {
          "output_type": "stream",
          "name": "stdout",
          "text": [
            "<class 'pandas.core.frame.DataFrame'>\n",
            "Int64Index: 510 entries, 653 to 79\n",
            "Data columns (total 43 columns):\n",
            " #   Column           Non-Null Count  Dtype  \n",
            "---  ------           --------------  -----  \n",
            " 0   yr               510 non-null    float64\n",
            " 1   workingday       510 non-null    float64\n",
            " 2   cnt              510 non-null    int64  \n",
            " 3   day              510 non-null    float64\n",
            " 4   Light_air        510 non-null    float64\n",
            " 5   Light_Breeze     510 non-null    float64\n",
            " 6   Gentle_Breeze    510 non-null    float64\n",
            " 7   Moderate_Breeze  510 non-null    float64\n",
            " 8   Fresh_Breeze     510 non-null    float64\n",
            " 9   Cold             510 non-null    float64\n",
            " 10  Quite_Cool       510 non-null    float64\n",
            " 11  Cool             510 non-null    float64\n",
            " 12  Lower_Ideal      510 non-null    float64\n",
            " 13  Ideal            510 non-null    float64\n",
            " 14  Quite_Warm       510 non-null    float64\n",
            " 15  Hot              510 non-null    float64\n",
            " 16  Cloudy           510 non-null    float64\n",
            " 17  Light_RainSnow   510 non-null    float64\n",
            " 18  Monday           510 non-null    float64\n",
            " 19  Tuesday          510 non-null    float64\n",
            " 20  Wednesday        510 non-null    float64\n",
            " 21  Thursday         510 non-null    float64\n",
            " 22  Friday           510 non-null    float64\n",
            " 23  Saturday         510 non-null    float64\n",
            " 24  Optimum          510 non-null    float64\n",
            " 25  Too_Humid        510 non-null    float64\n",
            " 26  Feb              510 non-null    float64\n",
            " 27  Mar              510 non-null    float64\n",
            " 28  Apr              510 non-null    float64\n",
            " 29  May              510 non-null    float64\n",
            " 30  Jun              510 non-null    float64\n",
            " 31  Jul              510 non-null    float64\n",
            " 32  Aug              510 non-null    float64\n",
            " 33  Sep              510 non-null    float64\n",
            " 34  Oct              510 non-null    float64\n",
            " 35  Nov              510 non-null    float64\n",
            " 36  Dec              510 non-null    float64\n",
            " 37  Second           510 non-null    float64\n",
            " 38  Third            510 non-null    float64\n",
            " 39  Fourth           510 non-null    float64\n",
            " 40  Summer           510 non-null    float64\n",
            " 41  Autumn           510 non-null    float64\n",
            " 42  Winter           510 non-null    float64\n",
            "dtypes: float64(42), int64(1)\n",
            "memory usage: 175.3 KB\n"
          ]
        }
      ],
      "source": [
        "#check column dtypes\n",
        "s1_train.info()"
      ]
    },
    {
      "cell_type": "markdown",
      "id": "O7QhBjm0hqNu",
      "metadata": {
        "id": "O7QhBjm0hqNu"
      },
      "source": [
        "###### **Checking for Multicollinearity using recursive method**"
      ]
    },
    {
      "cell_type": "markdown",
      "id": "bTjv0WfamEJ7",
      "metadata": {
        "id": "bTjv0WfamEJ7"
      },
      "source": [
        "#### Splitting into sub set"
      ]
    },
    {
      "cell_type": "code",
      "execution_count": 62,
      "id": "rLUfok11lIIJ",
      "metadata": {
        "id": "rLUfok11lIIJ"
      },
      "outputs": [],
      "source": [
        "y_train = s1_train.pop('cnt')\n",
        "X_train = s1_train"
      ]
    },
    {
      "cell_type": "markdown",
      "id": "tgeK2mmWmhJ9",
      "metadata": {
        "id": "tgeK2mmWmhJ9"
      },
      "source": [
        "### Step 8: Building a linear regression model using **RFE**"
      ]
    },
    {
      "cell_type": "code",
      "source": [
        "# Importing RFE and LinearRegression\n",
        "from sklearn.feature_selection import RFE\n",
        "from sklearn.linear_model import LinearRegression"
      ],
      "metadata": {
        "id": "YdIElImE7V7t"
      },
      "id": "YdIElImE7V7t",
      "execution_count": 63,
      "outputs": []
    },
    {
      "cell_type": "code",
      "source": [
        "# Running RFE with the output number of the variable equal to 10\n",
        "lm = LinearRegression()\n",
        "lm.fit(X_train, y_train)\n",
        "rfe = RFE(lm,n_features_to_select=10)             # running RFE\n",
        "rfe = rfe.fit(X_train, y_train)"
      ],
      "metadata": {
        "id": "hjJ6mAAh7fP9"
      },
      "id": "hjJ6mAAh7fP9",
      "execution_count": 80,
      "outputs": []
    },
    {
      "cell_type": "code",
      "source": [
        "list(zip(X_train.columns,rfe.support_,rfe.ranking_))"
      ],
      "metadata": {
        "id": "1vKtjaYm7mzV",
        "outputId": "18323285-f30a-4b4d-8621-0a95e8ee7797",
        "colab": {
          "base_uri": "https://localhost:8080/"
        }
      },
      "id": "1vKtjaYm7mzV",
      "execution_count": 81,
      "outputs": [
        {
          "output_type": "execute_result",
          "data": {
            "text/plain": [
              "[('yr', False, 22),\n",
              " ('workingday', False, 13),\n",
              " ('day', False, 33),\n",
              " ('Light_air', True, 1),\n",
              " ('Light_Breeze', True, 1),\n",
              " ('Gentle_Breeze', True, 1),\n",
              " ('Moderate_Breeze', True, 1),\n",
              " ('Fresh_Breeze', True, 1),\n",
              " ('Cold', False, 6),\n",
              " ('Quite_Cool', False, 7),\n",
              " ('Cool', False, 8),\n",
              " ('Lower_Ideal', False, 9),\n",
              " ('Ideal', False, 12),\n",
              " ('Quite_Warm', False, 11),\n",
              " ('Hot', False, 10),\n",
              " ('Cloudy', False, 28),\n",
              " ('Light_RainSnow', False, 23),\n",
              " ('Monday', False, 15),\n",
              " ('Tuesday', False, 14),\n",
              " ('Wednesday', False, 16),\n",
              " ('Thursday', False, 17),\n",
              " ('Friday', False, 18),\n",
              " ('Saturday', False, 27),\n",
              " ('Optimum', False, 30),\n",
              " ('Too_Humid', False, 31),\n",
              " ('Feb', False, 32),\n",
              " ('Mar', False, 29),\n",
              " ('Apr', True, 1),\n",
              " ('May', True, 1),\n",
              " ('Jun', True, 1),\n",
              " ('Jul', False, 20),\n",
              " ('Aug', False, 19),\n",
              " ('Sep', False, 5),\n",
              " ('Oct', False, 4),\n",
              " ('Nov', False, 3),\n",
              " ('Dec', True, 1),\n",
              " ('Second', True, 1),\n",
              " ('Third', False, 21),\n",
              " ('Fourth', False, 2),\n",
              " ('Summer', False, 26),\n",
              " ('Autumn', False, 25),\n",
              " ('Winter', False, 24)]"
            ]
          },
          "metadata": {},
          "execution_count": 81
        }
      ]
    },
    {
      "cell_type": "code",
      "source": [
        "col = X_train.columns[rfe.support_]\n",
        "col"
      ],
      "metadata": {
        "id": "WVh_6kB18AUE",
        "outputId": "1c93b8b4-5c5a-40e1-eea9-1fb643cf93f1",
        "colab": {
          "base_uri": "https://localhost:8080/"
        }
      },
      "id": "WVh_6kB18AUE",
      "execution_count": 82,
      "outputs": [
        {
          "output_type": "execute_result",
          "data": {
            "text/plain": [
              "Index(['Light_air', 'Light_Breeze', 'Gentle_Breeze', 'Moderate_Breeze',\n",
              "       'Fresh_Breeze', 'Apr', 'May', 'Jun', 'Dec', 'Second'],\n",
              "      dtype='object')"
            ]
          },
          "metadata": {},
          "execution_count": 82
        }
      ]
    },
    {
      "cell_type": "code",
      "source": [
        "X_train.columns[~rfe.support_]"
      ],
      "metadata": {
        "id": "lkL07FGv8FMk",
        "outputId": "00748347-8994-4046-e875-df513566bcb8",
        "colab": {
          "base_uri": "https://localhost:8080/"
        }
      },
      "id": "lkL07FGv8FMk",
      "execution_count": 83,
      "outputs": [
        {
          "output_type": "execute_result",
          "data": {
            "text/plain": [
              "Index(['yr', 'workingday', 'day', 'Cold', 'Quite_Cool', 'Cool', 'Lower_Ideal',\n",
              "       'Ideal', 'Quite_Warm', 'Hot', 'Cloudy', 'Light_RainSnow', 'Monday',\n",
              "       'Tuesday', 'Wednesday', 'Thursday', 'Friday', 'Saturday', 'Optimum',\n",
              "       'Too_Humid', 'Feb', 'Mar', 'Jul', 'Aug', 'Sep', 'Oct', 'Nov', 'Third',\n",
              "       'Fourth', 'Summer', 'Autumn', 'Winter'],\n",
              "      dtype='object')"
            ]
          },
          "metadata": {},
          "execution_count": 83
        }
      ]
    },
    {
      "cell_type": "markdown",
      "source": [
        "### ***Building model using statsmodel, for the detailed statistics***"
      ],
      "metadata": {
        "id": "tjJwptaU8RNm"
      },
      "id": "tjJwptaU8RNm"
    },
    {
      "cell_type": "code",
      "source": [
        "# Creating X_test dataframe with RFE selected variables\n",
        "X_train_rfe = X_train[col]"
      ],
      "metadata": {
        "id": "nK80Q8Vw8Otz"
      },
      "id": "nK80Q8Vw8Otz",
      "execution_count": 84,
      "outputs": []
    },
    {
      "cell_type": "code",
      "source": [
        "# Adding a constant variable \n",
        "import statsmodels.api as sm  \n",
        "X_train_rfe = sm.add_constant(X_train_rfe)"
      ],
      "metadata": {
        "id": "ZD6DuJj78VbC"
      },
      "id": "ZD6DuJj78VbC",
      "execution_count": 85,
      "outputs": []
    },
    {
      "cell_type": "code",
      "source": [
        "lm = sm.OLS(y_train,X_train_rfe).fit()   # Running the linear model"
      ],
      "metadata": {
        "id": "4Vw2jGin8Wq8"
      },
      "id": "4Vw2jGin8Wq8",
      "execution_count": 86,
      "outputs": []
    },
    {
      "cell_type": "code",
      "source": [
        "#Let's see the summary of our linear model\n",
        "print(lm.summary())"
      ],
      "metadata": {
        "id": "bXkz3MBj8YJd",
        "outputId": "59874c82-1ce7-45cb-e9d9-08ca67ff1dfb",
        "colab": {
          "base_uri": "https://localhost:8080/"
        }
      },
      "id": "bXkz3MBj8YJd",
      "execution_count": 87,
      "outputs": [
        {
          "output_type": "stream",
          "name": "stdout",
          "text": [
            "                            OLS Regression Results                            \n",
            "==============================================================================\n",
            "Dep. Variable:                    cnt   R-squared:                       0.119\n",
            "Model:                            OLS   Adj. R-squared:                  0.105\n",
            "Method:                 Least Squares   F-statistic:                     8.450\n",
            "Date:                Tue, 05 Apr 2022   Prob (F-statistic):           8.37e-11\n",
            "Time:                        18:19:13   Log-Likelihood:                -4555.0\n",
            "No. Observations:                 510   AIC:                             9128.\n",
            "Df Residuals:                     501   BIC:                             9166.\n",
            "Df Model:                           8                                         \n",
            "Covariance Type:            nonrobust                                         \n",
            "===================================================================================\n",
            "                      coef    std err          t      P>|t|      [0.025      0.975]\n",
            "-----------------------------------------------------------------------------------\n",
            "const            3499.7826    179.276     19.522      0.000    3147.557    3852.008\n",
            "Light_air        1570.1547    370.130      4.242      0.000     842.956    2297.354\n",
            "Light_Breeze     1287.1757    207.783      6.195      0.000     878.943    1695.409\n",
            "Gentle_Breeze     641.2140    201.677      3.179      0.002     244.977    1037.451\n",
            "Moderate_Breeze    15.0206    263.094      0.057      0.954    -501.883     531.924\n",
            "Fresh_Breeze      -13.7826    775.058     -0.018      0.986   -1536.548    1508.983\n",
            "Apr               -96.2102    249.597     -0.385      0.700    -586.595     394.175\n",
            "May               105.1873    238.411      0.441      0.659    -363.221     573.596\n",
            "Jun               685.4114    248.944      2.753      0.006     196.309    1174.514\n",
            "Dec              -860.1331    301.767     -2.850      0.005   -1453.019    -267.247\n",
            "Second            694.3886    147.584      4.705      0.000     404.429     984.348\n",
            "==============================================================================\n",
            "Omnibus:                       25.530   Durbin-Watson:                   1.899\n",
            "Prob(Omnibus):                  0.000   Jarque-Bera (JB):               10.966\n",
            "Skew:                           0.077   Prob(JB):                      0.00416\n",
            "Kurtosis:                       2.298   Cond. No.                     4.16e+15\n",
            "==============================================================================\n",
            "\n",
            "Warnings:\n",
            "[1] Standard Errors assume that the covariance matrix of the errors is correctly specified.\n",
            "[2] The smallest eigenvalue is 4.32e-29. This might indicate that there are\n",
            "strong multicollinearity problems or that the design matrix is singular.\n"
          ]
        }
      ]
    },
    {
      "cell_type": "code",
      "source": [
        "X_train_new = X_train_rfe.drop([\"Fresh_Breeze\", \"Moderate_Breeze\", \"May\",\"Apr\", \"Jun\"], axis = 1)\n",
        "X_train_lm = sm.add_constant(X_train_new)\n",
        "lm = sm.OLS(y_train,X_train_lm).fit()   # Running the linear model\n",
        "print(lm.summary())"
      ],
      "metadata": {
        "id": "6Mc15nSM8Zzj",
        "outputId": "37786102-d6fa-4972-869d-4d0c7fa62e47",
        "colab": {
          "base_uri": "https://localhost:8080/"
        }
      },
      "id": "6Mc15nSM8Zzj",
      "execution_count": 91,
      "outputs": [
        {
          "output_type": "stream",
          "name": "stdout",
          "text": [
            "                            OLS Regression Results                            \n",
            "==============================================================================\n",
            "Dep. Variable:                    cnt   R-squared:                       0.112\n",
            "Model:                            OLS   Adj. R-squared:                  0.104\n",
            "Method:                 Least Squares   F-statistic:                     12.77\n",
            "Date:                Tue, 05 Apr 2022   Prob (F-statistic):           1.06e-11\n",
            "Time:                        18:20:09   Log-Likelihood:                -4556.9\n",
            "No. Observations:                 510   AIC:                             9126.\n",
            "Df Residuals:                     504   BIC:                             9151.\n",
            "Df Model:                           5                                         \n",
            "Covariance Type:            nonrobust                                         \n",
            "=================================================================================\n",
            "                    coef    std err          t      P>|t|      [0.025      0.975]\n",
            "---------------------------------------------------------------------------------\n",
            "const          3459.5604    236.699     14.616      0.000    2994.523    3924.598\n",
            "Light_air      1595.0017    459.507      3.471      0.001     692.216    2497.788\n",
            "Light_Breeze   1346.8512    262.676      5.127      0.000     830.777    1862.926\n",
            "Gentle_Breeze   680.1703    257.392      2.643      0.008     174.477    1185.863\n",
            "Dec            -857.0763    301.702     -2.841      0.005   -1449.825    -264.327\n",
            "Second          918.0910    196.175      4.680      0.000     532.669    1303.513\n",
            "==============================================================================\n",
            "Omnibus:                       22.934   Durbin-Watson:                   1.905\n",
            "Prob(Omnibus):                  0.000   Jarque-Bera (JB):               10.189\n",
            "Skew:                           0.064   Prob(JB):                      0.00613\n",
            "Kurtosis:                       2.320   Cond. No.                         7.78\n",
            "==============================================================================\n",
            "\n",
            "Warnings:\n",
            "[1] Standard Errors assume that the covariance matrix of the errors is correctly specified.\n"
          ]
        }
      ]
    },
    {
      "cell_type": "code",
      "source": [
        "X_train_new.columns\n",
        "X_train_new = X_train_new.drop(['const'], axis=1)\n",
        "# Calculate the VIFs for the new model\n",
        "from statsmodels.stats.outliers_influence import variance_inflation_factor\n",
        "\n",
        "vif = pd.DataFrame()\n",
        "X = X_train_new\n",
        "vif['Features'] = X.columns\n",
        "vif['VIF'] = [variance_inflation_factor(X.values, i) for i in range(X.shape[1])]\n",
        "vif['VIF'] = round(vif['VIF'], 2)\n",
        "vif = vif.sort_values(by = \"VIF\", ascending = False)\n",
        "vif"
      ],
      "metadata": {
        "id": "HUqKG44G83Ll",
        "outputId": "2cd5c6aa-6c9a-49fb-df85-beee693e94ac",
        "colab": {
          "base_uri": "https://localhost:8080/",
          "height": 206
        }
      },
      "id": "HUqKG44G83Ll",
      "execution_count": 92,
      "outputs": [
        {
          "output_type": "execute_result",
          "data": {
            "text/plain": [
              "        Features   VIF\n",
              "4         Second  1.26\n",
              "2  Gentle_Breeze  1.17\n",
              "1   Light_Breeze  1.16\n",
              "3            Dec  1.12\n",
              "0      Light_air  1.04"
            ],
            "text/html": [
              "\n",
              "  <div id=\"df-a19d5ca0-1b58-4d33-9979-2f98832e7983\">\n",
              "    <div class=\"colab-df-container\">\n",
              "      <div>\n",
              "<style scoped>\n",
              "    .dataframe tbody tr th:only-of-type {\n",
              "        vertical-align: middle;\n",
              "    }\n",
              "\n",
              "    .dataframe tbody tr th {\n",
              "        vertical-align: top;\n",
              "    }\n",
              "\n",
              "    .dataframe thead th {\n",
              "        text-align: right;\n",
              "    }\n",
              "</style>\n",
              "<table border=\"1\" class=\"dataframe\">\n",
              "  <thead>\n",
              "    <tr style=\"text-align: right;\">\n",
              "      <th></th>\n",
              "      <th>Features</th>\n",
              "      <th>VIF</th>\n",
              "    </tr>\n",
              "  </thead>\n",
              "  <tbody>\n",
              "    <tr>\n",
              "      <th>4</th>\n",
              "      <td>Second</td>\n",
              "      <td>1.26</td>\n",
              "    </tr>\n",
              "    <tr>\n",
              "      <th>2</th>\n",
              "      <td>Gentle_Breeze</td>\n",
              "      <td>1.17</td>\n",
              "    </tr>\n",
              "    <tr>\n",
              "      <th>1</th>\n",
              "      <td>Light_Breeze</td>\n",
              "      <td>1.16</td>\n",
              "    </tr>\n",
              "    <tr>\n",
              "      <th>3</th>\n",
              "      <td>Dec</td>\n",
              "      <td>1.12</td>\n",
              "    </tr>\n",
              "    <tr>\n",
              "      <th>0</th>\n",
              "      <td>Light_air</td>\n",
              "      <td>1.04</td>\n",
              "    </tr>\n",
              "  </tbody>\n",
              "</table>\n",
              "</div>\n",
              "      <button class=\"colab-df-convert\" onclick=\"convertToInteractive('df-a19d5ca0-1b58-4d33-9979-2f98832e7983')\"\n",
              "              title=\"Convert this dataframe to an interactive table.\"\n",
              "              style=\"display:none;\">\n",
              "        \n",
              "  <svg xmlns=\"http://www.w3.org/2000/svg\" height=\"24px\"viewBox=\"0 0 24 24\"\n",
              "       width=\"24px\">\n",
              "    <path d=\"M0 0h24v24H0V0z\" fill=\"none\"/>\n",
              "    <path d=\"M18.56 5.44l.94 2.06.94-2.06 2.06-.94-2.06-.94-.94-2.06-.94 2.06-2.06.94zm-11 1L8.5 8.5l.94-2.06 2.06-.94-2.06-.94L8.5 2.5l-.94 2.06-2.06.94zm10 10l.94 2.06.94-2.06 2.06-.94-2.06-.94-.94-2.06-.94 2.06-2.06.94z\"/><path d=\"M17.41 7.96l-1.37-1.37c-.4-.4-.92-.59-1.43-.59-.52 0-1.04.2-1.43.59L10.3 9.45l-7.72 7.72c-.78.78-.78 2.05 0 2.83L4 21.41c.39.39.9.59 1.41.59.51 0 1.02-.2 1.41-.59l7.78-7.78 2.81-2.81c.8-.78.8-2.07 0-2.86zM5.41 20L4 18.59l7.72-7.72 1.47 1.35L5.41 20z\"/>\n",
              "  </svg>\n",
              "      </button>\n",
              "      \n",
              "  <style>\n",
              "    .colab-df-container {\n",
              "      display:flex;\n",
              "      flex-wrap:wrap;\n",
              "      gap: 12px;\n",
              "    }\n",
              "\n",
              "    .colab-df-convert {\n",
              "      background-color: #E8F0FE;\n",
              "      border: none;\n",
              "      border-radius: 50%;\n",
              "      cursor: pointer;\n",
              "      display: none;\n",
              "      fill: #1967D2;\n",
              "      height: 32px;\n",
              "      padding: 0 0 0 0;\n",
              "      width: 32px;\n",
              "    }\n",
              "\n",
              "    .colab-df-convert:hover {\n",
              "      background-color: #E2EBFA;\n",
              "      box-shadow: 0px 1px 2px rgba(60, 64, 67, 0.3), 0px 1px 3px 1px rgba(60, 64, 67, 0.15);\n",
              "      fill: #174EA6;\n",
              "    }\n",
              "\n",
              "    [theme=dark] .colab-df-convert {\n",
              "      background-color: #3B4455;\n",
              "      fill: #D2E3FC;\n",
              "    }\n",
              "\n",
              "    [theme=dark] .colab-df-convert:hover {\n",
              "      background-color: #434B5C;\n",
              "      box-shadow: 0px 1px 3px 1px rgba(0, 0, 0, 0.15);\n",
              "      filter: drop-shadow(0px 1px 2px rgba(0, 0, 0, 0.3));\n",
              "      fill: #FFFFFF;\n",
              "    }\n",
              "  </style>\n",
              "\n",
              "      <script>\n",
              "        const buttonEl =\n",
              "          document.querySelector('#df-a19d5ca0-1b58-4d33-9979-2f98832e7983 button.colab-df-convert');\n",
              "        buttonEl.style.display =\n",
              "          google.colab.kernel.accessAllowed ? 'block' : 'none';\n",
              "\n",
              "        async function convertToInteractive(key) {\n",
              "          const element = document.querySelector('#df-a19d5ca0-1b58-4d33-9979-2f98832e7983');\n",
              "          const dataTable =\n",
              "            await google.colab.kernel.invokeFunction('convertToInteractive',\n",
              "                                                     [key], {});\n",
              "          if (!dataTable) return;\n",
              "\n",
              "          const docLinkHtml = 'Like what you see? Visit the ' +\n",
              "            '<a target=\"_blank\" href=https://colab.research.google.com/notebooks/data_table.ipynb>data table notebook</a>'\n",
              "            + ' to learn more about interactive tables.';\n",
              "          element.innerHTML = '';\n",
              "          dataTable['output_type'] = 'display_data';\n",
              "          await google.colab.output.renderOutput(dataTable, element);\n",
              "          const docLink = document.createElement('div');\n",
              "          docLink.innerHTML = docLinkHtml;\n",
              "          element.appendChild(docLink);\n",
              "        }\n",
              "      </script>\n",
              "    </div>\n",
              "  </div>\n",
              "  "
            ]
          },
          "metadata": {},
          "execution_count": 92
        }
      ]
    },
    {
      "cell_type": "markdown",
      "source": [
        "### ***Residual Analysis***"
      ],
      "metadata": {
        "id": "LwBuf4dx9dTw"
      },
      "id": "LwBuf4dx9dTw"
    },
    {
      "cell_type": "code",
      "source": [
        "y_train_price = lm.predict(X_train_lm)\n",
        "# Importing the required libraries for plots.\n",
        "import matplotlib.pyplot as plt\n",
        "import seaborn as sns\n",
        "%matplotlib inline"
      ],
      "metadata": {
        "id": "fiplPpUy9Zrr"
      },
      "id": "fiplPpUy9Zrr",
      "execution_count": 93,
      "outputs": []
    },
    {
      "cell_type": "code",
      "source": [
        "# Plot the histogram of the error terms\n",
        "fig = plt.figure()\n",
        "sns.distplot((y_train - y_train_price), bins = 20)\n",
        "fig.suptitle('Error Terms', fontsize = 20)                  # Plot heading \n",
        "plt.xlabel('Errors', fontsize = 18)   "
      ],
      "metadata": {
        "id": "0aXnWjEE9jnS",
        "outputId": "8313c257-52cb-4d20-b9bf-8b3697e335b1",
        "colab": {
          "base_uri": "https://localhost:8080/",
          "height": 333
        }
      },
      "id": "0aXnWjEE9jnS",
      "execution_count": 94,
      "outputs": [
        {
          "output_type": "execute_result",
          "data": {
            "text/plain": [
              "Text(0.5, 0, 'Errors')"
            ]
          },
          "metadata": {},
          "execution_count": 94
        },
        {
          "output_type": "display_data",
          "data": {
            "text/plain": [
              "<Figure size 432x288 with 1 Axes>"
            ],
            "image/png": "[encoded data removed]"
          },
          "metadata": {
            "needs_background": "light"
          }
        }
      ]
    },
    {
      "cell_type": "markdown",
      "source": [
        "### ***Make Predications***"
      ],
      "metadata": {
        "id": "vcEyJXCL9qph"
      },
      "id": "vcEyJXCL9qph"
    },
    {
      "cell_type": "code",
      "source": [
        "num_vars=X.columns.tolist()\n",
        "s1_test[num_vars] = scaler.transform(s1_test[num_vars])\n",
        "s1_test[num_vars] = scaler.transform(s1_test[num_vars])\n",
        "y_test = s1_test.pop('price')\n",
        "X_test = s1_test\n"
      ],
      "metadata": {
        "id": "SaAG-FN69lTL",
        "outputId": "4daab448-9826-4275-b30f-73dd417cb10f",
        "colab": {
          "base_uri": "https://localhost:8080/",
          "height": 380
        }
      },
      "id": "SaAG-FN69lTL",
      "execution_count": 95,
      "outputs": [
        {
          "output_type": "error",
          "ename": "ValueError",
          "evalue": "ignored",
          "traceback": [
            "\u001b[0;31m---------------------------------------------------------------------------\u001b[0m",
            "\u001b[0;31mValueError\u001b[0m                                Traceback (most recent call last)",
            "\u001b[0;32m<ipython-input-95-b61fca716983>\u001b[0m in \u001b[0;36m<module>\u001b[0;34m()\u001b[0m\n\u001b[1;32m      1\u001b[0m \u001b[0mnum_vars\u001b[0m\u001b[0;34m=\u001b[0m\u001b[0mX\u001b[0m\u001b[0;34m.\u001b[0m\u001b[0mcolumns\u001b[0m\u001b[0;34m.\u001b[0m\u001b[0mtolist\u001b[0m\u001b[0;34m(\u001b[0m\u001b[0;34m)\u001b[0m\u001b[0;34m\u001b[0m\u001b[0;34m\u001b[0m\u001b[0m\n\u001b[0;32m----> 2\u001b[0;31m \u001b[0ms1_test\u001b[0m\u001b[0;34m[\u001b[0m\u001b[0mnum_vars\u001b[0m\u001b[0;34m]\u001b[0m \u001b[0;34m=\u001b[0m \u001b[0mscaler\u001b[0m\u001b[0;34m.\u001b[0m\u001b[0mtransform\u001b[0m\u001b[0;34m(\u001b[0m\u001b[0ms1_test\u001b[0m\u001b[0;34m[\u001b[0m\u001b[0mnum_vars\u001b[0m\u001b[0;34m]\u001b[0m\u001b[0;34m)\u001b[0m\u001b[0;34m\u001b[0m\u001b[0;34m\u001b[0m\u001b[0m\n\u001b[0m\u001b[1;32m      3\u001b[0m \u001b[0ms1_test\u001b[0m\u001b[0;34m[\u001b[0m\u001b[0mnum_vars\u001b[0m\u001b[0;34m]\u001b[0m \u001b[0;34m=\u001b[0m \u001b[0mscaler\u001b[0m\u001b[0;34m.\u001b[0m\u001b[0mtransform\u001b[0m\u001b[0;34m(\u001b[0m\u001b[0ms1_test\u001b[0m\u001b[0;34m[\u001b[0m\u001b[0mnum_vars\u001b[0m\u001b[0;34m]\u001b[0m\u001b[0;34m)\u001b[0m\u001b[0;34m\u001b[0m\u001b[0;34m\u001b[0m\u001b[0m\n\u001b[1;32m      4\u001b[0m \u001b[0my_test\u001b[0m \u001b[0;34m=\u001b[0m \u001b[0ms1_test\u001b[0m\u001b[0;34m.\u001b[0m\u001b[0mpop\u001b[0m\u001b[0;34m(\u001b[0m\u001b[0;34m'price'\u001b[0m\u001b[0;34m)\u001b[0m\u001b[0;34m\u001b[0m\u001b[0;34m\u001b[0m\u001b[0m\n\u001b[1;32m      5\u001b[0m \u001b[0mX_test\u001b[0m \u001b[0;34m=\u001b[0m \u001b[0ms1_test\u001b[0m\u001b[0;34m\u001b[0m\u001b[0;34m\u001b[0m\u001b[0m\n",
            "\u001b[0;32m/usr/local/lib/python3.7/dist-packages/sklearn/preprocessing/_data.py\u001b[0m in \u001b[0;36mtransform\u001b[0;34m(self, X)\u001b[0m\n\u001b[1;32m    499\u001b[0m             \u001b[0mdtype\u001b[0m\u001b[0;34m=\u001b[0m\u001b[0mFLOAT_DTYPES\u001b[0m\u001b[0;34m,\u001b[0m\u001b[0;34m\u001b[0m\u001b[0;34m\u001b[0m\u001b[0m\n\u001b[1;32m    500\u001b[0m             \u001b[0mforce_all_finite\u001b[0m\u001b[0;34m=\u001b[0m\u001b[0;34m\"allow-nan\"\u001b[0m\u001b[0;34m,\u001b[0m\u001b[0;34m\u001b[0m\u001b[0;34m\u001b[0m\u001b[0m\n\u001b[0;32m--> 501\u001b[0;31m             \u001b[0mreset\u001b[0m\u001b[0;34m=\u001b[0m\u001b[0;32mFalse\u001b[0m\u001b[0;34m,\u001b[0m\u001b[0;34m\u001b[0m\u001b[0;34m\u001b[0m\u001b[0m\n\u001b[0m\u001b[1;32m    502\u001b[0m         )\n\u001b[1;32m    503\u001b[0m \u001b[0;34m\u001b[0m\u001b[0m\n",
            "\u001b[0;32m/usr/local/lib/python3.7/dist-packages/sklearn/base.py\u001b[0m in \u001b[0;36m_validate_data\u001b[0;34m(self, X, y, reset, validate_separately, **check_params)\u001b[0m\n\u001b[1;32m    583\u001b[0m \u001b[0;34m\u001b[0m\u001b[0m\n\u001b[1;32m    584\u001b[0m         \u001b[0;32mif\u001b[0m \u001b[0;32mnot\u001b[0m \u001b[0mno_val_X\u001b[0m \u001b[0;32mand\u001b[0m \u001b[0mcheck_params\u001b[0m\u001b[0;34m.\u001b[0m\u001b[0mget\u001b[0m\u001b[0;34m(\u001b[0m\u001b[0;34m\"ensure_2d\"\u001b[0m\u001b[0;34m,\u001b[0m \u001b[0;32mTrue\u001b[0m\u001b[0;34m)\u001b[0m\u001b[0;34m:\u001b[0m\u001b[0;34m\u001b[0m\u001b[0;34m\u001b[0m\u001b[0m\n\u001b[0;32m--> 585\u001b[0;31m             \u001b[0mself\u001b[0m\u001b[0;34m.\u001b[0m\u001b[0m_check_n_features\u001b[0m\u001b[0;34m(\u001b[0m\u001b[0mX\u001b[0m\u001b[0;34m,\u001b[0m \u001b[0mreset\u001b[0m\u001b[0;34m=\u001b[0m\u001b[0mreset\u001b[0m\u001b[0;34m)\u001b[0m\u001b[0;34m\u001b[0m\u001b[0;34m\u001b[0m\u001b[0m\n\u001b[0m\u001b[1;32m    586\u001b[0m \u001b[0;34m\u001b[0m\u001b[0m\n\u001b[1;32m    587\u001b[0m         \u001b[0;32mreturn\u001b[0m \u001b[0mout\u001b[0m\u001b[0;34m\u001b[0m\u001b[0;34m\u001b[0m\u001b[0m\n",
            "\u001b[0;32m/usr/local/lib/python3.7/dist-packages/sklearn/base.py\u001b[0m in \u001b[0;36m_check_n_features\u001b[0;34m(self, X, reset)\u001b[0m\n\u001b[1;32m    399\u001b[0m         \u001b[0;32mif\u001b[0m \u001b[0mn_features\u001b[0m \u001b[0;34m!=\u001b[0m \u001b[0mself\u001b[0m\u001b[0;34m.\u001b[0m\u001b[0mn_features_in_\u001b[0m\u001b[0;34m:\u001b[0m\u001b[0;34m\u001b[0m\u001b[0;34m\u001b[0m\u001b[0m\n\u001b[1;32m    400\u001b[0m             raise ValueError(\n\u001b[0;32m--> 401\u001b[0;31m                 \u001b[0;34mf\"X has {n_features} features, but {self.__class__.__name__} \"\u001b[0m\u001b[0;34m\u001b[0m\u001b[0;34m\u001b[0m\u001b[0m\n\u001b[0m\u001b[1;32m    402\u001b[0m                 \u001b[0;34mf\"is expecting {self.n_features_in_} features as input.\"\u001b[0m\u001b[0;34m\u001b[0m\u001b[0;34m\u001b[0m\u001b[0m\n\u001b[1;32m    403\u001b[0m             )\n",
            "\u001b[0;31mValueError\u001b[0m: X has 5 features, but MinMaxScaler is expecting 42 features as input."
          ]
        }
      ]
    },
    {
      "cell_type": "code",
      "source": [
        "# Now let's use our model to make predictions.\n",
        "\n",
        "# Creating X_test_new dataframe by dropping variables from X_test\n",
        "X_test_new = X_test[X_train_new.columns]\n",
        "\n",
        "# Adding a constant variable \n",
        "X_test_new = sm.add_constant(X_test_new)\n"
      ],
      "metadata": {
        "id": "MiZuF2TU-j5k",
        "outputId": "706b4191-a1a7-4467-fbf3-682f7be3ed08",
        "colab": {
          "base_uri": "https://localhost:8080/",
          "height": 235
        }
      },
      "id": "MiZuF2TU-j5k",
      "execution_count": 96,
      "outputs": [
        {
          "output_type": "error",
          "ename": "NameError",
          "evalue": "ignored",
          "traceback": [
            "\u001b[0;31m---------------------------------------------------------------------------\u001b[0m",
            "\u001b[0;31mNameError\u001b[0m                                 Traceback (most recent call last)",
            "\u001b[0;32m<ipython-input-96-91364fd45ee0>\u001b[0m in \u001b[0;36m<module>\u001b[0;34m()\u001b[0m\n\u001b[1;32m      2\u001b[0m \u001b[0;34m\u001b[0m\u001b[0m\n\u001b[1;32m      3\u001b[0m \u001b[0;31m# Creating X_test_new dataframe by dropping variables from X_test\u001b[0m\u001b[0;34m\u001b[0m\u001b[0;34m\u001b[0m\u001b[0;34m\u001b[0m\u001b[0m\n\u001b[0;32m----> 4\u001b[0;31m \u001b[0mX_test_new\u001b[0m \u001b[0;34m=\u001b[0m \u001b[0mX_test\u001b[0m\u001b[0;34m[\u001b[0m\u001b[0mX_train_new\u001b[0m\u001b[0;34m.\u001b[0m\u001b[0mcolumns\u001b[0m\u001b[0;34m]\u001b[0m\u001b[0;34m\u001b[0m\u001b[0;34m\u001b[0m\u001b[0m\n\u001b[0m\u001b[1;32m      5\u001b[0m \u001b[0;34m\u001b[0m\u001b[0m\n\u001b[1;32m      6\u001b[0m \u001b[0;31m# Adding a constant variable\u001b[0m\u001b[0;34m\u001b[0m\u001b[0;34m\u001b[0m\u001b[0;34m\u001b[0m\u001b[0m\n",
            "\u001b[0;31mNameError\u001b[0m: name 'X_test' is not defined"
          ]
        }
      ]
    },
    {
      "cell_type": "code",
      "source": [
        "# Making predictions\n",
        "y_pred = lm.predict(X_test_new)"
      ],
      "metadata": {
        "id": "36qZZURN-vqj"
      },
      "id": "36qZZURN-vqj",
      "execution_count": null,
      "outputs": []
    },
    {
      "cell_type": "markdown",
      "source": [
        "### ***Model Evaluation***"
      ],
      "metadata": {
        "id": "aLB4wav4-yWj"
      },
      "id": "aLB4wav4-yWj"
    },
    {
      "cell_type": "code",
      "source": [
        "# Plotting y_test and y_pred to understand the spread.\n",
        "fig = plt.figure()\n",
        "plt.scatter(y_test,y_pred)\n",
        "fig.suptitle('y_test vs y_pred', fontsize=20)              # Plot heading \n",
        "plt.xlabel('y_test', fontsize=18)                          # X-label\n",
        "plt.ylabel('y_pred', fontsize=16)                          # Y-label"
      ],
      "metadata": {
        "id": "H1mvc6kv-0xS"
      },
      "id": "H1mvc6kv-0xS",
      "execution_count": null,
      "outputs": []
    },
    {
      "cell_type": "code",
      "source": [
        ""
      ],
      "metadata": {
        "id": "8tumRB11-2k5"
      },
      "id": "8tumRB11-2k5",
      "execution_count": null,
      "outputs": []
    }
  ],
  "metadata": {
    "colab": {
      "name": "Bike Sharing.ipynb",
      "provenance": [],
      "include_colab_link": true
    },
    "kernelspec": {
      "display_name": "Python 3 (ipykernel)",
      "language": "python",
      "name": "python3"
    },
    "language_info": {
      "codemirror_mode": {
        "name": "ipython",
        "version": 3
      },
      "file_extension": ".py",
      "mimetype": "text/x-python",
      "name": "python",
      "nbconvert_exporter": "python",
      "pygments_lexer": "ipython3",
      "version": "3.10.1"
    }
  },
  "nbformat": 4,
  "nbformat_minor": 5
}