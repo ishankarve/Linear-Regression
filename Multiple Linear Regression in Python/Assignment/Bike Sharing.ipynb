{
  "cells": [
    {
      "cell_type": "markdown",
      "metadata": {
        "id": "view-in-github",
        "colab_type": "text"
      },
      "source": [
        "<a href=\"https://colab.research.google.com/github/ishankarve/Linear-Regression/blob/main/Multiple%20Linear%20Regression%20in%20Python/Assignment/Bike%20Sharing.ipynb\" target=\"_parent\"><img src=\"https://colab.research.google.com/assets/colab-badge.svg\" alt=\"Open In Colab\"/></a>"
      ]
    },
    {
      "cell_type": "markdown",
      "source": [
        "### **Objective**\n",
        "Build a multiple linear regression model for the prediction of demand for shared bikes. "
      ],
      "metadata": {
        "id": "b_VG-5Olq5dU"
      },
      "id": "b_VG-5Olq5dU"
    },
    {
      "cell_type": "markdown",
      "source": [
        "### **Problem Statement**\n",
        "\n",
        "A US bike-sharing provider **BoomBikes** has recently suffered considerable dips in their revenues due to the ongoing Corona pandemic. The company is finding it very difficult to sustain in the current market scenario. So, it has decided to come up with a mindful business plan to be able to accelerate its revenue as soon as the ongoing lockdown comes to an end, and the economy restores to a healthy state. \n",
        "\n",
        "In such an attempt, BoomBikes aspires to understand the demand for shared bikes among the people after this ongoing quarantine situation ends across the nation due to Covid-19. \n"
      ],
      "metadata": {
        "id": "WaIRRUrZrPpr"
      },
      "id": "WaIRRUrZrPpr"
    },
    {
      "cell_type": "markdown",
      "source": [
        "### **Business Goal**\n",
        "\n",
        "Find variables are significant in predicting the demand for shared bikes and how well those variables describe the bike demands\n",
        "Based on various **meteorological surveys** and people's styles, the service provider firm has gathered a large dataset on daily bike demands across the American market based on some factors. \n",
        "\n",
        "Based on the goal mentioned above, model the demand for shared bikes with the available independent variables."
      ],
      "metadata": {
        "id": "lxOJfPdkruVw"
      },
      "id": "lxOJfPdkruVw"
    },
    {
      "cell_type": "markdown",
      "source": [
        "### **Data Caveats**\n",
        "\n",
        "1.   In the dataset that some of the variables like 'weathersit' and 'season' have values as 1, 2, 3, 4 which have specific labels associated with them (as described in the data dictionary). These numeric values associated with the labels may indicate that there is some order to them - which is actually not the case. So, it is advisable to convert such feature values into categorical string values before proceeding with model building.\n",
        "\n",
        "2.  The column 'yr' has two values 0 and 1 indicating the years 2018 and 2019 respectively. Since these bike-sharing systems are slowly gaining popularity, the demand for these bikes is increasing every year proving that the column 'yr' might be a good variable for prediction. So think twice before dropping it. \n"
      ],
      "metadata": {
        "id": "Ub-N2bKNsHjN"
      },
      "id": "Ub-N2bKNsHjN"
    },
    {
      "cell_type": "markdown",
      "source": [
        "### **Model Building**\n",
        "\n",
        "In the dataset provided,there are three columns named 'casual', 'registered', and 'cnt'. The variable 'casual' indicates the number casual users who have made a rental. The variable 'registered' on the other hand shows the total number of registered users who have made a booking on a given day. Finally, the 'cnt' variable indicates the total number of bike rentals, including both casual and registered. ***The model should be built taking this 'cnt' as the target variable.***"
      ],
      "metadata": {
        "id": "KOt0RHQBtJ31"
      },
      "id": "KOt0RHQBtJ31"
    },
    {
      "cell_type": "code",
      "source": [
        ""
      ],
      "metadata": {
        "id": "vwwbhT8LrMpN"
      },
      "id": "vwwbhT8LrMpN",
      "execution_count": null,
      "outputs": []
    }
  ],
  "metadata": {
    "kernelspec": {
      "display_name": "Python 3 (ipykernel)",
      "language": "python",
      "name": "python3"
    },
    "language_info": {
      "codemirror_mode": {
        "name": "ipython",
        "version": 3
      },
      "file_extension": ".py",
      "mimetype": "text/x-python",
      "name": "python",
      "nbconvert_exporter": "python",
      "pygments_lexer": "ipython3",
      "version": "3.10.1"
    },
    "colab": {
      "name": "Bike Sharing.ipynb",
      "provenance": [],
      "include_colab_link": true
    }
  },
  "nbformat": 4,
  "nbformat_minor": 5
}