{
 "cells": [
  {
   "cell_type": "markdown",
   "id": "8281064c",
   "metadata": {
    "colab_type": "text",
    "id": "view-in-github"
   },
   "source": [
    "<a href=\"https://colab.research.google.com/github/ishankarve/Linear-Regression/blob/main/Multiple%20Linear%20Regression%20in%20Python/Assignment/Bike%20Sharing.ipynb\" target=\"_parent\"><img src=\"https://colab.research.google.com/assets/colab-badge.svg\" alt=\"Open In Colab\"/></a>"
   ]
  },
  {
   "cell_type": "markdown",
   "id": "b_VG-5Olq5dU",
   "metadata": {
    "id": "b_VG-5Olq5dU"
   },
   "source": [
    "### **Objective**\n",
    "Build a multiple linear regression model for the prediction of demand for shared bikes. "
   ]
  },
  {
   "cell_type": "markdown",
   "id": "WaIRRUrZrPpr",
   "metadata": {
    "id": "WaIRRUrZrPpr"
   },
   "source": [
    "### **Problem Statement**\n",
    "\n",
    "A US bike-sharing provider **BoomBikes** has recently suffered considerable dips in their revenues due to the ongoing Corona pandemic. The company is finding it very difficult to sustain in the current market scenario. So, it has decided to come up with a mindful business plan to be able to accelerate its revenue as soon as the ongoing lockdown comes to an end, and the economy restores to a healthy state. \n",
    "\n",
    "In such an attempt, BoomBikes aspires to understand the demand for shared bikes among the people after this ongoing quarantine situation ends across the nation due to Covid-19. \n"
   ]
  },
  {
   "cell_type": "markdown",
   "id": "lxOJfPdkruVw",
   "metadata": {
    "id": "lxOJfPdkruVw"
   },
   "source": [
    "### **Business Goal**\n",
    "\n",
    "Find variables are significant in predicting the demand for shared bikes and how well those variables describe the bike demands\n",
    "Based on various **meteorological surveys** and people's styles, the service provider firm has gathered a large dataset on daily bike demands across the American market based on some factors. \n",
    "\n",
    "Based on the goal mentioned above, model the demand for shared bikes with the available independent variables."
   ]
  },
  {
   "cell_type": "markdown",
   "id": "Ub-N2bKNsHjN",
   "metadata": {
    "id": "Ub-N2bKNsHjN"
   },
   "source": [
    "### **Data Caveats**\n",
    "\n",
    "1.   In the dataset that some of the variables like 'weathersit' and 'season' have values as 1, 2, 3, 4 which have specific labels associated with them (as described in the data dictionary). These numeric values associated with the labels may indicate that there is some order to them - which is actually not the case. So, it is advisable to convert such feature values into categorical string values before proceeding with model building.\n",
    "\n",
    "2.  The column 'yr' has two values 0 and 1 indicating the years 2018 and 2019 respectively. Since these bike-sharing systems are slowly gaining popularity, the demand for these bikes is increasing every year proving that the column 'yr' might be a good variable for prediction. So think twice before dropping it. \n"
   ]
  },
  {
   "cell_type": "markdown",
   "id": "KOt0RHQBtJ31",
   "metadata": {
    "id": "KOt0RHQBtJ31"
   },
   "source": [
    "### **Model Building**\n",
    "\n",
    "In the dataset provided,there are three columns named 'casual', 'registered', and 'cnt'. The variable 'casual' indicates the number casual users who have made a rental. The variable 'registered' on the other hand shows the total number of registered users who have made a booking on a given day. Finally, the 'cnt' variable indicates the total number of bike rentals, including both casual and registered. ***The model should be built taking this 'cnt' as the target variable.***"
   ]
  },
  {
   "cell_type": "markdown",
   "id": "Vf4xgMYGurn0",
   "metadata": {
    "id": "Vf4xgMYGurn0"
   },
   "source": [
    "### **Step 1: Import Libraries**\n"
   ]
  },
  {
   "cell_type": "code",
   "execution_count": null,
   "id": "vwwbhT8LrMpN",
   "metadata": {
    "colab": {
     "base_uri": "https://localhost:8080/"
    },
    "id": "vwwbhT8LrMpN",
    "outputId": "c1af2a99-846b-4c4c-f02d-4d5cd3fe15a7"
   },
   "outputs": [],
   "source": [
    "import pandas as pd\n",
    "import numpy as np\n",
    "import seaborn as sns\n",
    "import matplotlib.pyplot as plt\n",
    "from sklearn.model_selection import train_test_split\n",
    "from sklearn.preprocessing import MinMaxScaler\n",
    "import statsmodels.api as sm\n",
    "from statsmodels.stats.outliers_influence import variance_inflation_factor\n",
    "from sklearn.feature_selection import RFE\n",
    "from sklearn.linear_model import LinearRegression"
   ]
  },
  {
   "cell_type": "code",
   "execution_count": null,
   "id": "eAMQL2kdu_FL",
   "metadata": {
    "id": "eAMQL2kdu_FL"
   },
   "outputs": [],
   "source": [
    "# Supress Warnings\n",
    "import warnings\n",
    "warnings.filterwarnings('ignore')"
   ]
  },
  {
   "cell_type": "markdown",
   "id": "F0Ruu2jnvnsf",
   "metadata": {
    "id": "F0Ruu2jnvnsf"
   },
   "source": [
    "### **Step 2: Import Data**"
   ]
  },
  {
   "cell_type": "code",
   "execution_count": null,
   "id": "swiTOr5EvMZC",
   "metadata": {
    "id": "swiTOr5EvMZC"
   },
   "outputs": [],
   "source": [
    "#import data from gihub link\n",
    "df_bikeshare=pd.read_csv(\"https://raw.githubusercontent.com/ishankarve/Linear-Regression/main/Multiple%20Linear%20Regression%20in%20Python/Assignment/day.csv\")"
   ]
  },
  {
   "cell_type": "code",
   "execution_count": null,
   "id": "-JBs9HxrwImf",
   "metadata": {
    "colab": {
     "base_uri": "https://localhost:8080/",
     "height": 468
    },
    "id": "-JBs9HxrwImf",
    "outputId": "808c0c7b-b378-4a95-c9a3-e2c16e03c25d"
   },
   "outputs": [],
   "source": [
    "df_bikeshare.head(730)"
   ]
  },
  {
   "cell_type": "raw",
   "id": "b8620568",
   "metadata": {
    "id": "b8620568",
    "outputId": "a429d2f1-9e0c-47a5-db0f-6af525aa9be3"
   },
   "source": [
    "#check dataframe information\n",
    "df_bikeshare.describe()"
   ]
  },
  {
   "cell_type": "markdown",
   "id": "714701ac",
   "metadata": {
    "id": "714701ac"
   },
   "source": [
    "# **Data Dictionary**\n",
    "- instant: record index\n",
    "- dteday : date\n",
    "- season : season (1:spring, 2:summer, 3:fall, 4:winter)\n",
    "- yr : year (0: 2018, 1:2019)\n",
    "- mnth : month ( 1 to 12)\n",
    "- holiday : whether day is a holiday or not (extracted from http://dchr.dc.gov/page/holiday-schedule)\n",
    "- weekday : day of the week\n",
    "- workingday : if day is neither weekend nor holiday is 1, otherwise is 0.\n",
    "+ weathersit : \n",
    "\t\t- 1: Clear, Few clouds, Partly cloudy, Partly cloudy\n",
    "\t\t- 2: Mist + Cloudy, Mist + Broken clouds, Mist + Few clouds, Mist\n",
    "\t\t- 3: Light Snow, Light Rain + Thunderstorm + Scattered clouds, Light Rain + Scattered clouds\n",
    "\t\t- 4: Heavy Rain + Ice Pallets + Thunderstorm + Mist, Snow + Fog\n",
    "- temp : temperature in Celsius\n",
    "- atemp: feeling temperature in Celsius\n",
    "- hum: humidity\n",
    "- windspeed: wind speed\n",
    "- casual: count of casual users\n",
    "- registered: count of registered users\n",
    "- cnt: count of total rental bikes including both casual and registered"
   ]
  },
  {
   "cell_type": "markdown",
   "id": "Q3bhnm3CxHZu",
   "metadata": {
    "id": "Q3bhnm3CxHZu"
   },
   "source": [
    "### **Step 3: Undertake sanity checks on data**"
   ]
  },
  {
   "cell_type": "code",
   "execution_count": null,
   "id": "I3ZMrjszxVhp",
   "metadata": {
    "colab": {
     "base_uri": "https://localhost:8080/"
    },
    "id": "I3ZMrjszxVhp",
    "outputId": "95c94a32-b339-43a0-ac0e-3f12aac3f370",
    "scrolled": true
   },
   "outputs": [],
   "source": [
    "#get shape of the dataframe\n",
    "df_bikeshare.shape"
   ]
  },
  {
   "cell_type": "code",
   "execution_count": null,
   "id": "TLHrx4IbwR5A",
   "metadata": {
    "colab": {
     "base_uri": "https://localhost:8080/"
    },
    "id": "TLHrx4IbwR5A",
    "outputId": "ce059580-5084-411d-d165-a7271fa06933"
   },
   "outputs": [],
   "source": [
    "#check column dtypes\n",
    "df_bikeshare.info()"
   ]
  },
  {
   "cell_type": "code",
   "execution_count": null,
   "id": "bbw9KCcqx6BX",
   "metadata": {
    "colab": {
     "base_uri": "https://localhost:8080/"
    },
    "id": "bbw9KCcqx6BX",
    "outputId": "ba5e8824-4e36-4fd3-e217-f9c04253ca03"
   },
   "outputs": [],
   "source": [
    "#get list of unique variables per column\n",
    "print(df_bikeshare.nunique())"
   ]
  },
  {
   "cell_type": "code",
   "execution_count": null,
   "id": "1NhV8r64yHHH",
   "metadata": {
    "colab": {
     "base_uri": "https://localhost:8080/"
    },
    "id": "1NhV8r64yHHH",
    "outputId": "c276d7ca-47fa-4e27-fff9-2cbcdc5e7876"
   },
   "outputs": [],
   "source": [
    "# get count of non-na values across all columns\n",
    "df_bikeshare.apply(lambda x: x.count(), axis=0)"
   ]
  },
  {
   "cell_type": "code",
   "execution_count": null,
   "id": "-F5tMULqyrH4",
   "metadata": {
    "id": "-F5tMULqyrH4"
   },
   "outputs": [],
   "source": [
    "# convert 'dteday' from 'object' to 'datetime'\n",
    "df_bikeshare['dteday'] = pd.to_datetime(df_bikeshare['dteday'], format='%d-%m-%Y') #date is in 01-01-2018 format"
   ]
  },
  {
   "cell_type": "code",
   "execution_count": null,
   "id": "xUYDeKrU0auO",
   "metadata": {
    "colab": {
     "base_uri": "https://localhost:8080/",
     "height": 364
    },
    "id": "xUYDeKrU0auO",
    "outputId": "116153a2-bb58-412a-db5f-822e89be0d6e"
   },
   "outputs": [],
   "source": [
    "#describe dataframe\n",
    "df_bikeshare.describe()"
   ]
  },
  {
   "cell_type": "markdown",
   "id": "v5AGG63v2hAI",
   "metadata": {
    "id": "v5AGG63v2hAI"
   },
   "source": [
    "### **Step 4: Cleaning & Binning Numerical Categorical Data**"
   ]
  },
  {
   "cell_type": "code",
   "execution_count": null,
   "id": "_1cR_KQUNyv-",
   "metadata": {
    "id": "_1cR_KQUNyv-"
   },
   "outputs": [],
   "source": [
    "#using 'OR' operation for holiday and working day to make holiday column redundant\n",
    "df_bikeshare['workingday']=df_bikeshare['workingday'] + df_bikeshare['holiday']\n",
    "#drop 'holiday' column\n",
    "df_bikeshare.drop(['holiday'], axis = 1, inplace = True)\n"
   ]
  },
  {
   "cell_type": "code",
   "execution_count": null,
   "id": "2LWxiCt42OJm",
   "metadata": {
    "id": "2LWxiCt42OJm",
    "scrolled": true
   },
   "outputs": [],
   "source": [
    "# binning windspeed data as per Beaufort Scale (https://www.rmets.org/metmatters/beaufort-scale)\n",
    "# Note: Since temperature is in metric units (deg Celsius), it is assumed that windspeed is in Km/Hr\n",
    "\n",
    "#bin_labels = [0, 1, 2, 3, 4, 5, 6, 7, 8, 9, 10, 11, 12]\n",
    "bin_labels = ['Calm','Light_air','Light_Breeze','Gentle_Breeze','Moderate_Breeze','Fresh_Breeze','Strong_Breeze','Moderate_Gale','Fresh_Gale','Strong_Gale','Whole_Gale','Storm','Hurricane']\n",
    "\n",
    "bins = [0, 1, 5, 11, 19, 28, 38, 49, 61, 74, 88, 102, 117,300]\n",
    "df_bikeshare['windspeed_binned'] = pd.cut(df_bikeshare['windspeed'], bins=bins, labels=bin_labels)"
   ]
  },
  {
   "cell_type": "code",
   "execution_count": null,
   "id": "718c431d",
   "metadata": {
    "id": "718c431d"
   },
   "outputs": [],
   "source": [
    "# binning temperature data as per comfort Scale (http://www.city-data.com/forum/weather/1620160-your-personal-temperature-colors-descriptors.html)\n",
    "# data is binned as follows\n",
    "# data is binned on a scale of 1 to 12\n",
    "# 12- 45C & up: extremely hot \n",
    "# 11- 40 to 45C: very hot \n",
    "# 10- 35 to 40C: hot \n",
    "# 09- 30 to 35C: quite warm \n",
    "# 08 -20 to 30C: ideal \n",
    "# 07- 15 to 20C: lower than ideal \n",
    "# 06- 10 to 15C: cool \n",
    "# 05- 5 to 10C: quite cool \n",
    "# 04- 0 to 5C: cold \n",
    "# 03 -5 to 0C: very cold \n",
    "# 02- -10 to -5C: freezing \n",
    "# 01- -15 to -10C: frigid\n",
    "\n",
    "#bin_labels = [1, 2, 3, 4, 5, 6, 7, 8, 9, 10, 11, 12]\n",
    "bin_labels = ['Frigid','Freezing','Very_Cold','Cold','Quite_Cool','Cool','Lower_Ideal','Ideal','Quite_Warm','Hot','Very_Hot','Extremely_Hot']\n",
    "bins = [-15,-10,-5,0,5,10,15,20,30,35,40,45,60]\n",
    "df_bikeshare['temp_binned'] = pd.cut(df_bikeshare['temp'], bins=bins, labels=bin_labels)"
   ]
  },
  {
   "cell_type": "code",
   "execution_count": null,
   "id": "4gOmhJCWu3Pg",
   "metadata": {
    "id": "4gOmhJCWu3Pg"
   },
   "outputs": [],
   "source": [
    "#extracting day from date\n",
    "df_bikeshare[\"day\"]=df_bikeshare.dteday.dt.day"
   ]
  },
  {
   "cell_type": "code",
   "execution_count": null,
   "id": "_gHk34svyBRK",
   "metadata": {
    "id": "_gHk34svyBRK"
   },
   "outputs": [],
   "source": [
    "#binning months into quarters (1st,2nd,3rd,4th)\n",
    "bin_labels = ['First', 'Second', 'Third', 'Fourth']\n",
    "bins = [0,3,6,8,12]\n",
    "df_bikeshare['quarter_binned'] = pd.cut(df_bikeshare['mnth'], bins=bins, labels=bin_labels)"
   ]
  },
  {
   "cell_type": "code",
   "execution_count": null,
   "id": "v1DmH9_rA2Of",
   "metadata": {
    "id": "v1DmH9_rA2Of"
   },
   "outputs": [],
   "source": [
    "#binning weekday  into labelled bins\n",
    "bin_labels = ['Sunday', 'Monday', 'Tuesday', 'Wednesday','Thursday','Friday','Saturday']\n",
    "bins = [-1,0,1,2,3,4,5,6]\n",
    "df_bikeshare['weekday_binned'] = pd.cut(df_bikeshare['weekday'], bins=bins, labels=bin_labels)"
   ]
  },
  {
   "cell_type": "code",
   "execution_count": null,
   "id": "o1nECSaGBc-w",
   "metadata": {
    "id": "o1nECSaGBc-w"
   },
   "outputs": [],
   "source": [
    "#binning humidity  into labelled bins\n",
    "bin_labels = ['Too_Dry','Much_Dry', 'Dry', 'Near_Perfect', 'Perfect','About_Perfect','Sweaty', 'Too_Humid','Gross']\n",
    "bins = [0, 10, 20, 30, 40, 60, 70, 80, 90, 100]\n",
    "df_bikeshare['hum_binned'] = pd.cut(df_bikeshare['hum'], bins=bins, labels=bin_labels)"
   ]
  },
  {
   "cell_type": "code",
   "execution_count": null,
   "id": "YrEkAYKMQKD3",
   "metadata": {
    "id": "YrEkAYKMQKD3"
   },
   "outputs": [],
   "source": [
    "#binning months into labelled months)\n",
    "bin_labels = ['Jan', 'Feb', 'Mar', 'Apr', 'May', 'Jun', 'Jul', 'Aug', 'Sep', 'Oct', 'Nov', 'Dec']\n",
    "bins = [0, 1, 2, 3, 4, 5, 6, 7, 8, 9, 10, 11, 12]\n",
    "df_bikeshare['mnth_binned'] = pd.cut(df_bikeshare['mnth'], bins=bins, labels=bin_labels)"
   ]
  },
  {
   "cell_type": "code",
   "execution_count": null,
   "id": "D9_T4XdaSKv4",
   "metadata": {
    "id": "D9_T4XdaSKv4"
   },
   "outputs": [],
   "source": [
    "#binning months into labelled months)\n",
    "bin_labels = ['Clear', 'Cloudy', 'Light_RainSnow', 'Heavy_RainSnow']\n",
    "bins = [0, 1, 2, 3, 4]\n",
    "df_bikeshare['weathersit_binned'] = pd.cut(df_bikeshare['weathersit'], bins=bins, labels=bin_labels)"
   ]
  },
  {
   "cell_type": "code",
   "execution_count": null,
   "id": "nX7WIcZilWx7",
   "metadata": {
    "id": "nX7WIcZilWx7"
   },
   "outputs": [],
   "source": [
    "#binning seasons into labelled variables\n",
    "bin_labels = ['Spring', 'Summer', 'Autumn', 'Winter']\n",
    "bins = [0, 1, 2, 3, 4]\n",
    "df_bikeshare['season_binned'] = pd.cut(df_bikeshare['season'], bins=bins, labels=bin_labels)"
   ]
  },
  {
   "cell_type": "markdown",
   "id": "2JKPaSqs2neO",
   "metadata": {
    "id": "2JKPaSqs2neO"
   },
   "source": [
    "### **Step 5: Prelimnary Visualisation**\n",
    "Since all data is numeric, we can use plots to visualise data "
   ]
  },
  {
   "cell_type": "code",
   "execution_count": null,
   "id": "pFNn9knXZuKc",
   "metadata": {
    "colab": {
     "base_uri": "https://localhost:8080/",
     "height": 1000
    },
    "id": "pFNn9knXZuKc",
    "outputId": "84a01274-b806-4b63-d88f-fc47f22e7cef"
   },
   "outputs": [],
   "source": [
    "#plotting pairplot of continious variables\n",
    "#Reference: https://stackoverflow.com/questions/64556501/plot-only-some-columns-with-seaborn-pairplot\n",
    "cols_to_plot = df_bikeshare.columns[8:15].tolist() + ['yr'] # explicitly add the column \"yr\" to your list of columns to plot\n",
    "sns.pairplot(df_bikeshare[cols_to_plot], hue =\"yr\", markers=[\"o\", \"s\"])\n",
    "plt.show()\n"
   ]
  },
  {
   "cell_type": "code",
   "execution_count": null,
   "id": "182e63e0",
   "metadata": {
    "colab": {
     "base_uri": "https://localhost:8080/",
     "height": 682
    },
    "id": "182e63e0",
    "outputId": "81daabb2-c40c-46ad-8ec1-830d50b652db"
   },
   "outputs": [],
   "source": [
    "#plotting data for comparative analysis\n",
    "plt.figure(figsize=(20, 10))\n",
    "plt.subplot(1,3,1)\n",
    "sns.boxplot(x = 'weathersit_binned', y = 'registered', hue = 'yr', data = df_bikeshare)\n",
    "plt.xticks(rotation='vertical')\n",
    "plt.subplot(1,3,2)\n",
    "sns.boxplot(x = 'weathersit_binned', y = 'casual', hue = 'yr', data = df_bikeshare)\n",
    "plt.xticks(rotation='vertical')\n",
    "plt.subplot(1,3,3)\n",
    "sns.boxplot(x = 'weathersit_binned', y = 'cnt', hue = 'yr', data = df_bikeshare)\n",
    "plt.xticks(rotation='vertical')\n",
    "plt.show()"
   ]
  },
  {
   "cell_type": "code",
   "execution_count": null,
   "id": "2527ab05",
   "metadata": {
    "colab": {
     "base_uri": "https://localhost:8080/",
     "height": 606
    },
    "id": "2527ab05",
    "outputId": "780869f7-0f7f-4e36-8922-207f7541a9e6"
   },
   "outputs": [],
   "source": [
    "#plotting data for comparative analysis\n",
    "plt.figure(figsize=(20, 10))\n",
    "plt.subplot(1,3,1)\n",
    "sns.boxplot(x = 'workingday', y = 'registered', hue = 'yr', data = df_bikeshare)\n",
    "plt.subplot(1,3,2)\n",
    "sns.boxplot(x = 'workingday', y = 'casual', hue = 'yr', data = df_bikeshare)\n",
    "plt.subplot(1,3,3)\n",
    "sns.boxplot(x = 'workingday', y = 'cnt', hue = 'yr', data = df_bikeshare)\n",
    "plt.show()"
   ]
  },
  {
   "cell_type": "code",
   "execution_count": null,
   "id": "a1b4e772",
   "metadata": {
    "colab": {
     "base_uri": "https://localhost:8080/",
     "height": 654
    },
    "id": "a1b4e772",
    "outputId": "75d5137b-20dd-438f-feb4-a78f8ef3220a"
   },
   "outputs": [],
   "source": [
    "#plotting data for comparative analysis\n",
    "plt.figure(figsize=(20, 10))\n",
    "plt.subplot(1,3,1)\n",
    "sns.boxplot(x = 'weekday_binned', y = 'registered', hue = 'yr', data = df_bikeshare)\n",
    "plt.xticks(rotation='vertical')\n",
    "plt.subplot(1,3,2)\n",
    "sns.boxplot(x = 'weekday_binned', y = 'casual', hue = 'yr', data = df_bikeshare)\n",
    "plt.xticks(rotation='vertical')\n",
    "plt.subplot(1,3,3)\n",
    "sns.boxplot(x = 'weekday_binned', y = 'cnt', hue = 'yr', data = df_bikeshare)\n",
    "plt.xticks(rotation='vertical')\n",
    "plt.show()"
   ]
  },
  {
   "cell_type": "code",
   "execution_count": null,
   "id": "2b3c073b",
   "metadata": {
    "colab": {
     "base_uri": "https://localhost:8080/",
     "height": 606
    },
    "id": "2b3c073b",
    "outputId": "f98f86a7-6e23-49c1-8c3a-cc61a542c168"
   },
   "outputs": [],
   "source": [
    "#plotting data for comparative analysis\n",
    "plt.figure(figsize=(20, 10))\n",
    "plt.subplot(1,3,1)\n",
    "sns.boxplot(x = 'season_binned', y = 'registered', hue = 'yr', data = df_bikeshare)\n",
    "plt.subplot(1,3,2)\n",
    "sns.boxplot(x = 'season_binned', y = 'casual', hue = 'yr', data = df_bikeshare)\n",
    "plt.subplot(1,3,3)\n",
    "sns.boxplot(x = 'season_binned', y = 'cnt', hue = 'yr', data = df_bikeshare)\n",
    "plt.show()"
   ]
  },
  {
   "cell_type": "code",
   "execution_count": null,
   "id": "576cac17",
   "metadata": {
    "colab": {
     "base_uri": "https://localhost:8080/",
     "height": 683
    },
    "id": "576cac17",
    "outputId": "4e7cdc1b-6bd5-45be-8808-993759b484dd"
   },
   "outputs": [],
   "source": [
    "#plotting data for comparative analysis\n",
    "plt.figure(figsize=(20, 10))\n",
    "plt.subplot(1,3,1)\n",
    "sns.boxplot(x = 'windspeed_binned', y = 'registered', data = df_bikeshare)\n",
    "plt.xticks(rotation='vertical')\n",
    "plt.subplot(1,3,2)\n",
    "sns.boxplot(x = 'windspeed_binned', y = 'casual', data = df_bikeshare)\n",
    "plt.xticks(rotation='vertical')\n",
    "plt.subplot(1,3,3)\n",
    "sns.boxplot(x = 'windspeed_binned', y = 'cnt', data = df_bikeshare)\n",
    "plt.xticks(rotation='vertical')\n",
    "plt.show()"
   ]
  },
  {
   "cell_type": "code",
   "execution_count": null,
   "id": "oT9XxshEPfbk",
   "metadata": {
    "id": "oT9XxshEPfbk"
   },
   "outputs": [],
   "source": []
  },
  {
   "cell_type": "code",
   "execution_count": null,
   "id": "1cb647ed",
   "metadata": {
    "colab": {
     "base_uri": "https://localhost:8080/",
     "height": 669
    },
    "id": "1cb647ed",
    "outputId": "a0b1aeed-a92c-4668-8bd7-55fe249f7d98"
   },
   "outputs": [],
   "source": [
    "#plotting data for comparative analysis\n",
    "plt.figure(figsize=(20, 10))\n",
    "plt.subplot(1,3,1)\n",
    "sns.boxplot(x = 'temp_binned', y = 'registered', data = df_bikeshare)\n",
    "plt.xticks(rotation='vertical')\n",
    "plt.subplot(1,3,2)\n",
    "sns.boxplot(x = 'temp_binned', y = 'casual', data = df_bikeshare)\n",
    "plt.xticks(rotation='vertical')\n",
    "plt.subplot(1,3,3)\n",
    "sns.boxplot(x = 'temp_binned', y = 'cnt', data = df_bikeshare)\n",
    "plt.xticks(rotation='vertical')\n",
    "plt.show()"
   ]
  },
  {
   "cell_type": "code",
   "execution_count": null,
   "id": "OEExPU9dQSua",
   "metadata": {
    "colab": {
     "base_uri": "https://localhost:8080/",
     "height": 666
    },
    "id": "OEExPU9dQSua",
    "outputId": "0716ff6f-80fb-4f3c-b362-703b924b7eba"
   },
   "outputs": [],
   "source": [
    "#plotting data for comparative analysis\n",
    "plt.figure(figsize=(20, 10))\n",
    "plt.subplot(1,3,1)\n",
    "sns.boxplot(x = 'hum_binned', y = 'registered', hue = 'yr', data = df_bikeshare)\n",
    "plt.xticks(rotation='vertical')\n",
    "plt.subplot(1,3,2)\n",
    "sns.boxplot(x = 'hum_binned', y = 'casual', hue = 'yr', data = df_bikeshare)\n",
    "plt.xticks(rotation='vertical')\n",
    "plt.subplot(1,3,3)\n",
    "sns.boxplot(x = 'hum_binned', y = 'cnt', hue = 'yr', data = df_bikeshare)\n",
    "plt.xticks(rotation='vertical')\n",
    "plt.show()"
   ]
  },
  {
   "cell_type": "code",
   "execution_count": null,
   "id": "de7eeca0",
   "metadata": {
    "colab": {
     "base_uri": "https://localhost:8080/",
     "height": 606
    },
    "id": "de7eeca0",
    "outputId": "029eb756-1d8c-4c41-f8e7-a9ce25487c68"
   },
   "outputs": [],
   "source": [
    "#plotting data for comparative analysis\n",
    "plt.figure(figsize=(20, 10))\n",
    "plt.subplot(1,3,1)\n",
    "sns.boxplot(x = 'yr', y = 'registered', data = df_bikeshare)\n",
    "plt.subplot(1,3,2)\n",
    "sns.boxplot(x = 'yr', y = 'casual', data = df_bikeshare)\n",
    "plt.subplot(1,3,3)\n",
    "sns.boxplot(x = 'yr', y = 'cnt', data = df_bikeshare)\n",
    "plt.show()"
   ]
  },
  {
   "cell_type": "code",
   "execution_count": null,
   "id": "u-8MPsdBFCOs",
   "metadata": {
    "id": "u-8MPsdBFCOs"
   },
   "outputs": [],
   "source": [
    "#plot chart per day to find specific days where surge can be expected"
   ]
  },
  {
   "cell_type": "code",
   "execution_count": null,
   "id": "10317735",
   "metadata": {
    "colab": {
     "base_uri": "https://localhost:8080/",
     "height": 291
    },
    "id": "10317735",
    "outputId": "3e22f2fe-8cab-413c-a71a-d38124dc000a"
   },
   "outputs": [],
   "source": [
    "#plot variation across months\n",
    "# perform groupby\n",
    "df = df_bikeshare.groupby(['mnth_binned','yr']).agg(ridership=(\"cnt\", 'sum'))\n",
    "df = df.reset_index()\n",
    "  \n",
    "# plot barplot\n",
    "sns.barplot(x=\"mnth_binned\",y=\"ridership\",hue=\"yr\",data=df)\n",
    "plt.xticks(rotation='vertical')\n",
    "plt.show()"
   ]
  },
  {
   "cell_type": "code",
   "execution_count": null,
   "id": "qJ43hy6Kvucv",
   "metadata": {
    "colab": {
     "base_uri": "https://localhost:8080/",
     "height": 280
    },
    "id": "qJ43hy6Kvucv",
    "outputId": "9435af8a-bf5d-4b9f-abcc-c494199f0f2f"
   },
   "outputs": [],
   "source": [
    "#plot variation across quarters\n",
    "# perform groupby\n",
    "df = df_bikeshare.groupby(['quarter_binned','yr']).agg(ridership=(\"cnt\", 'sum'))\n",
    "df = df.reset_index()\n",
    "  \n",
    "# plot barplot\n",
    "sns.barplot(x=\"quarter_binned\",y=\"ridership\",hue='yr',data=df)\n",
    "\n",
    "plt.show()"
   ]
  },
  {
   "cell_type": "code",
   "execution_count": null,
   "id": "CxgFShZBYBY-",
   "metadata": {
    "colab": {
     "base_uri": "https://localhost:8080/",
     "height": 328
    },
    "id": "CxgFShZBYBY-",
    "outputId": "96a15787-49d4-4e82-ac6d-97d425718367"
   },
   "outputs": [],
   "source": [
    "#plot variation across weekdays\n",
    "# perform groupby\n",
    "df = df_bikeshare.groupby(['weekday_binned','yr']).agg(ridership=(\"cnt\", 'sum'))\n",
    "df = df.reset_index()\n",
    "  \n",
    "# plot barplot\n",
    "sns.barplot(x=\"weekday_binned\",y=\"ridership\",hue='yr',data=df)\n",
    "plt.xticks(rotation='vertical')\n",
    "plt.show()"
   ]
  },
  {
   "cell_type": "code",
   "execution_count": null,
   "id": "SA9dMlAUYMOr",
   "metadata": {
    "colab": {
     "base_uri": "https://localhost:8080/",
     "height": 354
    },
    "id": "SA9dMlAUYMOr",
    "outputId": "e32cca10-4a33-461d-957d-a7df30bb41eb"
   },
   "outputs": [],
   "source": [
    "#plot variation across temperature conditions\n",
    "# perform groupby\n",
    "df = df_bikeshare.groupby(['temp_binned','yr']).agg(ridership=(\"cnt\", 'sum'))\n",
    "df = df.reset_index()\n",
    "  \n",
    "# plot barplot\n",
    "sns.barplot(x=\"temp_binned\",y=\"ridership\",hue='yr',data=df)\n",
    "plt.xticks(rotation='vertical')\n",
    "plt.show()"
   ]
  },
  {
   "cell_type": "code",
   "execution_count": null,
   "id": "WLgqu8WORK0i",
   "metadata": {
    "colab": {
     "base_uri": "https://localhost:8080/",
     "height": 340
    },
    "id": "WLgqu8WORK0i",
    "outputId": "f9a03fa2-6fdc-45e7-fe31-d6894a55f91d"
   },
   "outputs": [],
   "source": [
    "#plot variation across humidity conditions\n",
    "# perform groupby\n",
    "df = df_bikeshare.groupby(['hum_binned','yr']).agg(ridership=(\"cnt\", 'sum'))\n",
    "df = df.reset_index()\n",
    "  \n",
    "# plot barplot\n",
    "sns.barplot(x=\"hum_binned\",y=\"ridership\",hue='yr',data=df)\n",
    "plt.xticks(rotation='vertical')\n",
    "plt.show()"
   ]
  },
  {
   "cell_type": "code",
   "execution_count": null,
   "id": "A_WghlwtlJ8X",
   "metadata": {
    "colab": {
     "base_uri": "https://localhost:8080/",
     "height": 357
    },
    "id": "A_WghlwtlJ8X",
    "outputId": "964f403c-8107-4c51-f8b7-c59dcb6a8b28"
   },
   "outputs": [],
   "source": [
    "#plot variation across wind conditions\n",
    "# perform groupby\n",
    "df = df_bikeshare.groupby(['windspeed_binned','yr']).agg(ridership=(\"cnt\", 'sum'))\n",
    "df = df.reset_index()\n",
    "  \n",
    "# plot barplot\n",
    "sns.barplot(x=\"windspeed_binned\",y=\"ridership\",hue='yr',data=df)\n",
    "plt.xticks(rotation='vertical')\n",
    "plt.show()"
   ]
  },
  {
   "cell_type": "code",
   "execution_count": null,
   "id": "_1yXMx89vo-v",
   "metadata": {
    "colab": {
     "base_uri": "https://localhost:8080/",
     "height": 279
    },
    "id": "_1yXMx89vo-v",
    "outputId": "3ead4ef0-06b6-4331-d411-7e72fcfe3da1"
   },
   "outputs": [],
   "source": [
    "#plot variation across day\n",
    "# perform groupby\n",
    "df = df_bikeshare.groupby(['day','yr']).agg(ridership=(\"cnt\", 'sum'))\n",
    "df = df.reset_index()\n",
    "  \n",
    "#plot barplot\n",
    "sns.barplot(x=\"day\",y=\"ridership\",hue='yr',data=df)\n",
    "\n",
    "plt.show()"
   ]
  },
  {
   "cell_type": "code",
   "execution_count": null,
   "id": "AzfWCQUnv5Pn",
   "metadata": {
    "colab": {
     "base_uri": "https://localhost:8080/"
    },
    "id": "AzfWCQUnv5Pn",
    "outputId": "698c6397-d472-4099-b6a3-3854ba461f7c"
   },
   "outputs": [],
   "source": [
    "print(df_bikeshare.nunique())"
   ]
  },
  {
   "cell_type": "code",
   "execution_count": null,
   "id": "-jgUYFMEgcyF",
   "metadata": {
    "colab": {
     "base_uri": "https://localhost:8080/"
    },
    "id": "-jgUYFMEgcyF",
    "outputId": "3db50d01-d66b-453f-b23a-82266e196aa3"
   },
   "outputs": [],
   "source": [
    "df_bikeshare.columns"
   ]
  },
  {
   "cell_type": "markdown",
   "id": "_l9ypOyd78Kb",
   "metadata": {
    "id": "_l9ypOyd78Kb"
   },
   "source": [
    "### **Step 6: Creating Dummy Variables**"
   ]
  },
  {
   "cell_type": "code",
   "execution_count": null,
   "id": "SzslMl7a-CmF",
   "metadata": {
    "id": "SzslMl7a-CmF"
   },
   "outputs": [],
   "source": [
    "#create dummy variables for binned categorial variables\n",
    "windspeed_dummy = pd.get_dummies(df_bikeshare['windspeed_binned'],drop_first=True)\n",
    "temp_dummy = pd.get_dummies(df_bikeshare['temp_binned'],drop_first=True)\n",
    "quarter_dummy = pd.get_dummies(df_bikeshare['quarter_binned'],drop_first=True)\n",
    "weathersit_dummy = pd.get_dummies(df_bikeshare['weathersit_binned'],drop_first=True)\n",
    "weekday_dummy = pd.get_dummies(df_bikeshare['weekday_binned'],drop_first=True)\n",
    "hum_dummy = pd.get_dummies(df_bikeshare['hum_binned'],drop_first=True)\n",
    "mnth_dummy = pd.get_dummies(df_bikeshare['mnth_binned'],drop_first=True)\n",
    "season_dummy = pd.get_dummies(df_bikeshare['season_binned'],drop_first=True)"
   ]
  },
  {
   "cell_type": "code",
   "execution_count": null,
   "id": "0PdOeyyOS9nn",
   "metadata": {
    "id": "0PdOeyyOS9nn"
   },
   "outputs": [],
   "source": [
    "#drop corresponding categorical variables\n",
    "#Reference: https://stackoverflow.com/questions/19071199/drop-columns-whose-name-contains-a-specific-string-from-pandas-dataframe\n",
    "df_bikeshare.drop(list(df_bikeshare.filter(regex = 'binned')), axis = 1, inplace = True)"
   ]
  },
  {
   "cell_type": "code",
   "execution_count": null,
   "id": "L3u8sBVCSuII",
   "metadata": {
    "colab": {
     "base_uri": "https://localhost:8080/"
    },
    "id": "L3u8sBVCSuII",
    "outputId": "f69f48f1-17d2-480d-f85e-6ccdcc366044"
   },
   "outputs": [],
   "source": [
    "#check dataframe for columns deletion\n",
    "df_bikeshare.columns"
   ]
  },
  {
   "cell_type": "code",
   "execution_count": null,
   "id": "bO7zswOjS7e_",
   "metadata": {
    "colab": {
     "base_uri": "https://localhost:8080/"
    },
    "id": "bO7zswOjS7e_",
    "outputId": "5b42e5f8-30cc-4cae-f0ca-dddc4bb54324"
   },
   "outputs": [],
   "source": [
    "#check variables\n",
    "print(windspeed_dummy.nunique())\n",
    "print(temp_dummy.nunique())\n",
    "print(quarter_dummy.nunique())\n",
    "print(weathersit_dummy.nunique())\n",
    "print(weekday_dummy.nunique())\n",
    "print(hum_dummy.nunique())\n",
    "print(mnth_dummy.nunique())\n",
    "print(season_dummy.nunique())"
   ]
  },
  {
   "cell_type": "code",
   "execution_count": null,
   "id": "EdLJOHYsdXxh",
   "metadata": {
    "id": "EdLJOHYsdXxh"
   },
   "outputs": [],
   "source": [
    "#concat dummy variable dataframe to the main dataframe\n",
    "df_bikeshare = pd.concat([df_bikeshare, windspeed_dummy], axis = 1)\n",
    "df_bikeshare = pd.concat([df_bikeshare, temp_dummy], axis = 1)\n",
    "df_bikeshare = pd.concat([df_bikeshare, weathersit_dummy], axis = 1)\n",
    "df_bikeshare = pd.concat([df_bikeshare, weekday_dummy], axis = 1)                         \n",
    "df_bikeshare = pd.concat([df_bikeshare, hum_dummy], axis = 1)\n",
    "df_bikeshare = pd.concat([df_bikeshare, mnth_dummy], axis = 1)\n",
    "df_bikeshare = pd.concat([df_bikeshare, quarter_dummy], axis = 1)\n",
    "df_bikeshare = pd.concat([df_bikeshare, season_dummy], axis = 1)"
   ]
  },
  {
   "cell_type": "code",
   "execution_count": null,
   "id": "miGZJBhyTlAQ",
   "metadata": {
    "colab": {
     "base_uri": "https://localhost:8080/"
    },
    "id": "miGZJBhyTlAQ",
    "outputId": "34847024-c6f4-42e9-c58e-0cfc1403bb78"
   },
   "outputs": [],
   "source": [
    "#check dataframe for columns concatenation\n",
    "df_bikeshare.columns"
   ]
  },
  {
   "cell_type": "code",
   "execution_count": null,
   "id": "NAuY_DeSTWvm",
   "metadata": {
    "id": "NAuY_DeSTWvm"
   },
   "outputs": [],
   "source": [
    "#drop columns where there is no variable diversity\n",
    "for col in df_bikeshare.columns:\n",
    "    if len(df_bikeshare[col].unique()) == 1:\n",
    "        df_bikeshare.drop(col,inplace=True,axis=1)"
   ]
  },
  {
   "cell_type": "code",
   "execution_count": null,
   "id": "mm8L-R8CewVs",
   "metadata": {
    "colab": {
     "base_uri": "https://localhost:8080/"
    },
    "id": "mm8L-R8CewVs",
    "outputId": "49ebd040-19a5-4ad5-cb5c-b07cf2e46131"
   },
   "outputs": [],
   "source": [
    "#check master dataframe\n",
    "print(df_bikeshare.nunique())\n"
   ]
  },
  {
   "cell_type": "code",
   "execution_count": null,
   "id": "q-cEC5k_fHRG",
   "metadata": {
    "colab": {
     "base_uri": "https://localhost:8080/"
    },
    "id": "q-cEC5k_fHRG",
    "outputId": "0239287b-079f-4079-c1c4-7790dd4579c0"
   },
   "outputs": [],
   "source": [
    "df_bikeshare.columns.tolist()"
   ]
  },
  {
   "cell_type": "code",
   "execution_count": null,
   "id": "jyI2rp5CUmDG",
   "metadata": {
    "colab": {
     "base_uri": "https://localhost:8080/",
     "height": 456
    },
    "id": "jyI2rp5CUmDG",
    "outputId": "bc8f596c-bbff-4a78-ceba-e001b0b656e4"
   },
   "outputs": [],
   "source": [
    "#drop original categorical and redundant columns\n",
    "df_bikeshare.drop(['instant',\n",
    " 'dteday',\n",
    " 'season',\n",
    " 'mnth',\n",
    " 'weekday',\n",
    " 'weathersit',\n",
    " 'temp',\n",
    " 'atemp',\n",
    " 'hum',\n",
    " 'windspeed',\n",
    " 'casual',\n",
    " 'registered'], axis = 1, inplace = True)\n",
    "df_bikeshare.head(10)"
   ]
  },
  {
   "cell_type": "markdown",
   "id": "iZeSVEkrfNx4",
   "metadata": {
    "id": "iZeSVEkrfNx4"
   },
   "source": [
    "### **Step 7: Splitting and Scaling data**"
   ]
  },
  {
   "cell_type": "code",
   "execution_count": null,
   "id": "5w-rb4AwWJVC",
   "metadata": {
    "colab": {
     "base_uri": "https://localhost:8080/"
    },
    "id": "5w-rb4AwWJVC",
    "outputId": "9adca063-31dd-42d2-d3c4-49ea43082f58"
   },
   "outputs": [],
   "source": [
    "#check dataframe\n",
    "print(df_bikeshare.nunique())"
   ]
  },
  {
   "cell_type": "code",
   "execution_count": null,
   "id": "BNGuF1stzKP-",
   "metadata": {
    "id": "BNGuF1stzKP-"
   },
   "outputs": [],
   "source": [
    "## before we split the data we are going to copy the data in three dataframes for 3 modelling strategies\n",
    "\n",
    "#copy dataframe\n",
    "s1_df=df_bikeshare.copy()\n",
    "# s2_df=df_bikeshare.copy()\n",
    "# s3_df=df_bikeshare.copy()"
   ]
  },
  {
   "cell_type": "code",
   "execution_count": null,
   "id": "Aufyw6EihRxE",
   "metadata": {
    "id": "Aufyw6EihRxE"
   },
   "outputs": [],
   "source": [
    "#splitting data\n",
    "# We specify this so that the train and test data set always have the same rows, respectively\n",
    "np.random.seed(564)\n",
    "s1_train, s1_test = train_test_split(s1_df, train_size = 0.7, test_size = 0.3, random_state = 100)"
   ]
  },
  {
   "cell_type": "code",
   "execution_count": null,
   "id": "xCYvkDxgid9I",
   "metadata": {
    "colab": {
     "base_uri": "https://localhost:8080/"
    },
    "id": "xCYvkDxgid9I",
    "outputId": "0292bed4-6c99-416e-e39a-6891385bc395"
   },
   "outputs": [],
   "source": [
    "s1_train.columns"
   ]
  },
  {
   "cell_type": "code",
   "execution_count": null,
   "id": "QR_8AdlsiSez",
   "metadata": {
    "id": "QR_8AdlsiSez"
   },
   "outputs": [],
   "source": [
    "#set up scaler\n",
    "scaler = MinMaxScaler()\n",
    "# Apply scaler() to all the columns except  'cnt' variable\n",
    "num_vars=s1_train.columns.tolist()\n",
    "num_vars.remove('cnt')\n",
    "s1_train[num_vars] = scaler.fit_transform(s1_train[num_vars])"
   ]
  },
  {
   "cell_type": "code",
   "execution_count": null,
   "id": "qdj940HNizM7",
   "metadata": {
    "colab": {
     "base_uri": "https://localhost:8080/",
     "height": 456
    },
    "id": "qdj940HNizM7",
    "outputId": "36b9fdf7-8eb2-40c7-e379-910f84da308d"
   },
   "outputs": [],
   "source": [
    "s1_train.head(10)"
   ]
  },
  {
   "cell_type": "code",
   "execution_count": null,
   "id": "V8YyYIJFi6Va",
   "metadata": {
    "colab": {
     "base_uri": "https://localhost:8080/",
     "height": 1000
    },
    "id": "V8YyYIJFi6Va",
    "outputId": "1ffa45cd-5d2e-485c-e474-56aa8bf7a846"
   },
   "outputs": [],
   "source": [
    "# Checking the correlation coefficients to see which variables are highly correlated\n",
    "\n",
    "plt.figure(figsize = (32, 32))\n",
    "sns.heatmap(s1_train.corr(), annot = True, cmap=\"YlGnBu\")\n",
    "plt.show()"
   ]
  },
  {
   "cell_type": "code",
   "execution_count": null,
   "id": "VtFEgd3eXy3i",
   "metadata": {
    "colab": {
     "base_uri": "https://localhost:8080/"
    },
    "id": "VtFEgd3eXy3i",
    "outputId": "29651738-d9d2-499b-9b6d-34ebd9b0ada8"
   },
   "outputs": [],
   "source": [
    "#check column dtypes\n",
    "s1_train.corr()"
   ]
  },
  {
   "cell_type": "markdown",
   "id": "O7QhBjm0hqNu",
   "metadata": {
    "id": "O7QhBjm0hqNu"
   },
   "source": [
    "###### **Checking for Multicollinearity using recursive method**"
   ]
  },
  {
   "cell_type": "markdown",
   "id": "bTjv0WfamEJ7",
   "metadata": {
    "id": "bTjv0WfamEJ7"
   },
   "source": [
    "#### Splitting into sub set"
   ]
  },
  {
   "cell_type": "code",
   "execution_count": null,
   "id": "rLUfok11lIIJ",
   "metadata": {
    "id": "rLUfok11lIIJ"
   },
   "outputs": [],
   "source": [
    "y_train = s1_train.pop('cnt')\n",
    "X_train = s1_train"
   ]
  },
  {
   "cell_type": "markdown",
   "id": "tgeK2mmWmhJ9",
   "metadata": {
    "id": "tgeK2mmWmhJ9"
   },
   "source": [
    "### Step 8: Building a linear regression model"
   ]
  },
  {
   "cell_type": "markdown",
   "id": "FRMZ397JohPc",
   "metadata": {
    "id": "FRMZ397JohPc"
   },
   "source": [
    "***Function to Undertake Recursive VIF analysis of a dataframe***"
   ]
  },
  {
   "cell_type": "code",
   "execution_count": null,
   "id": "SPulFhIyhpx4",
   "metadata": {
    "colab": {
     "base_uri": "https://localhost:8080/"
    },
    "id": "SPulFhIyhpx4",
    "outputId": "285cbb7d-020a-4301-f984-9ef3acef3f54"
   },
   "outputs": [],
   "source": [
    "##reference: https://www.geeksforgeeks.org/multicollinearity-in-data/\n",
    "def recursive_VIF(X_df,y_df):\n",
    "    #create a test dataframe\n",
    "    vif_df=X_df.copy()\n",
    "    #empty list to hold results\n",
    "    dropped_features=[]\n",
    "    selected_features=[]\n",
    "    dropped_VIF_df=pd.DataFrame(columns=['Feature', 'VIF_Value'])\n",
    "    #shuffle the column ordering\n",
    "    #import random\n",
    "    #column_shuffle=vif_df.columns.tolist() #convert pandas index to list\n",
    "    #random.shuffle(column_shuffle) #shuffle list\n",
    "    #shuffle dataframe columns\n",
    "    #set_column_sequence(vif_df, column_shuffle, front=True) #not required\n",
    "    Y = y_df\n",
    "    features = vif_df.columns\n",
    "    X = vif_df[features]\n",
    "    #reference: https://github.com/statsmodels/statsmodels/issues/2376\n",
    "    #add constant prior calculating VIF\n",
    "    X = sm.add_constant(X)\n",
    "    # calculate the variance inflation factor\n",
    "    from statsmodels.stats.outliers_influence import variance_inflation_factor as vif\n",
    "     # compare with each column\n",
    "    [vif(vif_df[features].values, index) for index in range(len(features))]\n",
    "    # compare with each columns\n",
    "    for i in range(len(features)):\n",
    "        vif_list = [vif(vif_df[features].values, index) for index in range(len(features))]\n",
    "        maxvif = max(vif_list)\n",
    "        drop_index = vif_list.index(maxvif)\n",
    "        dropped_VIF_df.loc[len(dropped_VIF_df.index)] = [features[drop_index], maxvif]\n",
    "        #print(\"Max VIF value is {} for independent variable {} at index {}.\".format(maxvif,features[drop_index],drop_index))  \n",
    "        if maxvif > 4.99:\n",
    "            #print(\"Deleting\", features[drop_index])\n",
    "            dropped_features.append(features[drop_index])\n",
    "            features = features.delete(drop_index)\n",
    "    #print(\"Final Independent_variables are {}\\n\".format(features))\n",
    "    selected_features=features\n",
    "    return dropped_features,selected_features,dropped_VIF_df"
   ]
  },
  {
   "cell_type": "code",
   "execution_count": null,
   "id": "24c4e882",
   "metadata": {},
   "outputs": [],
   "source": [
    "VIF_drop,VIF_select,dropped_VIF_df=recursive_VIF(X_train,y_train)"
   ]
  },
  {
   "cell_type": "code",
   "execution_count": null,
   "id": "ed821e53",
   "metadata": {},
   "outputs": [],
   "source": [
    "#print (dropped_VIF_df)"
   ]
  },
  {
   "cell_type": "markdown",
   "id": "DreR5gV8bdH2",
   "metadata": {
    "id": "DreR5gV8bdH2"
   },
   "source": [
    "### ***Adding Variables that are correlated based on VIF analysis***"
   ]
  },
  {
   "cell_type": "markdown",
   "id": "snqzWsad6DbK",
   "metadata": {
    "id": "snqzWsad6DbK"
   },
   "source": [
    "##### ***Extracting Results from regression model***"
   ]
  },
  {
   "cell_type": "code",
   "execution_count": null,
   "id": "A7S24Sj04ueq",
   "metadata": {
    "id": "A7S24Sj04ueq"
   },
   "outputs": [],
   "source": [
    "#References:-\n",
    "#https://stackoverflow.com/questions/48522609/how-to-retrieve-model-estimates-from-statsmodels\n",
    "#https://www.statsmodels.org/devel/generated/statsmodels.regression.linear_model.RegressionResults.html\n",
    "#https://stackoverflow.com/questions/37508158/how-to-extract-a-particular-value-from-the-ols-summary-in-pandas\n",
    "#https://gist.github.com/zhiyzuo/972b8b95e115c44d6805c929b7b4e2ca\n",
    "#https://stackoverflow.com/questions/47388258/how-to-extract-the-regression-coefficient-from-statsmodels-api\n",
    "#https://stackoverflow.com/questions/51734180/converting-statsmodels-summary-object-to-pandas-dataframe/52976810"
   ]
  },
  {
   "cell_type": "markdown",
   "id": "ef1db206",
   "metadata": {},
   "source": [
    "#### ***Function for comparative analysis with RFE***"
   ]
  },
  {
   "cell_type": "code",
   "execution_count": null,
   "id": "ef17679f",
   "metadata": {},
   "outputs": [],
   "source": [
    "def RFE_compare(X_df,y_df,features2compare):\n",
    "    lm = LinearRegression()\n",
    "    lm.fit(X_df, y_df)\n",
    "     #for starts limit the no of features selected to that gereated in recursive VIF\n",
    "    rfe = RFE(lm, n_features_to_select=len(features2compare))\n",
    "    rfe = rfe.fit(X_df, y_df)\n",
    "    list(zip(X_df.columns,rfe.support_,rfe.ranking_))\n",
    "    support_col = X_df.columns[rfe.support_]\n",
    "    unsuport_col=X_df.columns[~rfe.support_]\n",
    "    #get common columns between features2compare and RFE top features\n",
    "    RFE_list=features2compare\n",
    "    common_features=list(set(feature_list) & set(RFE_list))\n",
    "    #get diffirece if features\n",
    "    feature_rejected=list(set(X_df.columns.tolist())-set(feature_list))\n",
    "    RFE_rejected=X_df.columns[~rfe.support_]\n",
    "    common_rejected=list(set(feature_rejected) & set(RFE_rejected))\n",
    "    return common_features,common_rejected"
   ]
  },
  {
   "cell_type": "code",
   "execution_count": null,
   "id": "453754e4",
   "metadata": {},
   "outputs": [],
   "source": []
  },
  {
   "cell_type": "code",
   "execution_count": null,
   "id": "TJGWVTLz7Mbb",
   "metadata": {
    "id": "TJGWVTLz7Mbb"
   },
   "outputs": [],
   "source": [
    " #Obtain regression model coefficients from statsmodels \n",
    " #Reference: https://gist.github.com/zhiyzuo/972b8b95e115c44d6805c929b7b4e2ca\n",
    "def get_coef_table(lin_reg):\n",
    "    ''' lin_reg is a fitted statsmodels regression model\n",
    "    Return a dataframe containing coefficients, pvalues, and the confidence intervals\n",
    "    '''\n",
    "    err_series = lin_reg.params - lin_reg.conf_int()[0]\n",
    "    coef_df = pd.DataFrame({'coef': lin_reg.params.values[1:],\n",
    "                            'ci_err': err_series.values[1:],\n",
    "                            'pvalue': lin_reg.pvalues.round(4).values[1:],\n",
    "                            'varname': err_series.index.values[1:]\n",
    "                           })\n",
    "    return coef_df"
   ]
  },
  {
   "cell_type": "code",
   "execution_count": null,
   "id": "cm_37-5N591c",
   "metadata": {
    "id": "cm_37-5N591c"
   },
   "outputs": [],
   "source": [
    "def results_summary_to_dataframe(results):\n",
    "    '''take the result of an statsmodel results table and transforms it into a dataframe'''\n",
    "    pvals = results.pvalues\n",
    "    coeff = results.params\n",
    "    conf_lower = results.conf_int()[0]\n",
    "    conf_higher = results.conf_int()[1]\n",
    "\n",
    "    results_df = pd.DataFrame({\"pvals\":pvals,\n",
    "                               \"coeff\":coeff,\n",
    "                               \"conf_lower\":conf_lower,\n",
    "                               \"conf_higher\":conf_higher\n",
    "                                })\n",
    "\n",
    "    #Reordering...\n",
    "    results_df = results_df[[\"coeff\",\"pvals\",\"conf_lower\",\"conf_higher\"]]\n",
    "    return results_df"
   ]
  },
  {
   "cell_type": "code",
   "execution_count": null,
   "id": "L97eVCwPYfPP",
   "metadata": {
    "id": "L97eVCwPYfPP"
   },
   "outputs": [],
   "source": [
    "#create a function to undertake linear_regression and undertake analysis\n",
    "def linear_regression(df_indices,df_Xtrain,df_ytrain):\n",
    "    #undertake regression\n",
    "    X_train_lm = df_Xtrain[df_indices]\n",
    "    X_train_lm = sm.add_constant(X_train_lm)\n",
    "    lr_results = sm.OLS(df_ytrain, X_train_lm).fit() #create model\n",
    "    #calculate VIF\n",
    "    vif = pd.DataFrame()\n",
    "    vif['varname'] = X_train_lm.columns\n",
    "    vif['VIF'] = [variance_inflation_factor(X_train_lm.values, i) for i in range(X_train_lm.shape[1])]\n",
    "    vif['VIF'] = round(vif['VIF'], 2)\n",
    "    vif = vif.sort_values(by = \"VIF\", ascending = False) \n",
    "    vif=vif.set_index('varname')#change df index to varname\n",
    "    #process lr summary results\n",
    "    df_lr_sum=get_coef_table(lr_results)#This works better :-)!\n",
    "    df_lr_sum.set_index('varname')#change df index to varname\n",
    "    df_lr_sum = df_lr_sum.sort_values(by=['pvalue'], ascending=False)#sort the dataframe by p value and in descending order\n",
    "    #to undertake holistic analysis look at VIF and P values\n",
    "    lr_sum=df_lr_sum.merge(vif, on='varname', how='left')#join both dataframes \n",
    "    lr_sum=lr_sum.set_index('varname')\n",
    "    return lr_results, vif, lr_sum"
   ]
  },
  {
   "cell_type": "code",
   "execution_count": null,
   "id": "tNSZuUeYoUDv",
   "metadata": {
    "id": "tNSZuUeYoUDv"
   },
   "outputs": [],
   "source": [
    "def iterate_recursion(feature_index,Xtrain,ytrain):\n",
    "    lr,vif,lr_summary =linear_regression(feature_index,Xtrain,ytrain)\n",
    "    print (\"Length of index is {}\\n\\r\".format(len(feature_index)))\n",
    "    lr_summary.sort_values(by=['VIF'], ascending=False, inplace=True)#sort the dataframe by vif and in descending order\n",
    "    ##testing recursive modelling to save time\n",
    "    lr_summary=lr_summary.reset_index()\n",
    "    print(lr_summary)\n",
    "    top_feature=lr_summary.varname.iloc[0]\n",
    "    feature_pvalue=lr_summary.pvalue.iloc[0]\n",
    "    feature_vif=lr_summary.VIF.iloc[0]\n",
    "    if (feature_vif>=4):\n",
    "        print(\"VIF of {} is {}(>4)\".format(top_feature,feature_vif))\n",
    "        print(\"dropping feature {} and redoing regression..\".format(top_feature))\n",
    "        #drop feature from index\n",
    "        feature_index=feature_index.drop(top_feature)\n",
    "        #recurse regression\n",
    "        lr,vif,lr_summary,feature_index=iterate_recursion(feature_index,Xtrain,ytrain)\n",
    "    \n",
    "    lr_summary.sort_values(by=['pvalue'], ascending=False, inplace=True)#sort the dataframe by vif and in descending order\n",
    "    ##testing recursive modelling to save time\n",
    "    top_feature=lr_summary.varname.iloc[0]\n",
    "    feature_pvalue=lr_summary.pvalue.iloc[0]\n",
    "    if (feature_pvalue>=0.05):\n",
    "        print(\"p value of {} is {}(>0.05)\".format(top_feature,feature_pvalue))\n",
    "        print(\"dropping feature {} and redoing regression..\".format(top_feature))\n",
    "        #drop feature from index\n",
    "        feature_index=feature_index.drop(top_feature)\n",
    "        #recurse regression\n",
    "        lr,vif,lr_summary,feature_index=iterate_recursion(feature_index,Xtrain,ytrain)\n",
    "    print (\"Final feature count is {}\".format(len(feature_index)))\n",
    "    return lr,vif,lr_summary,feature_index\n",
    "\n"
   ]
  },
  {
   "cell_type": "code",
   "execution_count": null,
   "id": "SW2QNxpWo4uV",
   "metadata": {
    "colab": {
     "base_uri": "https://localhost:8080/"
    },
    "id": "SW2QNxpWo4uV",
    "outputId": "3ee5d20b-d5f1-486b-d492-befb22473573"
   },
   "outputs": [],
   "source": [
    "iv=s1_train.columns\n",
    "regression_summary,VIF,feature_summary,feature_list =iterate_recursion(iv,X_train,y_train)\n",
    "print (VIF)"
   ]
  },
  {
   "cell_type": "markdown",
   "id": "ba2f98e4",
   "metadata": {},
   "source": [
    "### ***Undertake a comparative feature analysis with RFE***"
   ]
  },
  {
   "cell_type": "code",
   "execution_count": null,
   "id": "ec9060a1",
   "metadata": {},
   "outputs": [],
   "source": [
    "fea2comp=VIF.index.tolist()\n",
    "feature_common,feature_rejected=RFE_compare(X_train,y_train,fea2comp)\n",
    "print (\"Common features are:{}\".format(feature_common))\n",
    "print (\"UnCommon features are:{}\".format(feature_rejected))"
   ]
  },
  {
   "cell_type": "code",
   "execution_count": null,
   "id": "0c55d706",
   "metadata": {
    "scrolled": false
   },
   "outputs": [],
   "source": [
    "regression_summary,VIF,feature_summary,feature_list =iterate_recursion(VIF_select,X_train,y_train)\n",
    "fea2comp=VIF.index.tolist()\n",
    "feature_common1,feature_rejected1=RFE_compare(X_train,y_train,fea2comp)\n",
    "print (\"Common features are:{}\".format(feature_common1))\n",
    "print (\"UnCommon features are:{}\".format(feature_rejected1))"
   ]
  },
  {
   "cell_type": "code",
   "execution_count": null,
   "id": "9d2bt-me0cUw",
   "metadata": {
    "colab": {
     "base_uri": "https://localhost:8080/",
     "height": 708
    },
    "id": "9d2bt-me0cUw",
    "outputId": "ed754886-a4fe-4ff7-f1e5-2624b26928b6",
    "scrolled": true
   },
   "outputs": [],
   "source": [
    "#build final fitted model\n",
    "X_train_lm = X_train[feature_list]\n",
    "X_train_lm = sm.add_constant(X_train_lm)\n",
    "lr_final = sm.OLS(y_train, X_train_lm).fit()\n",
    "y_train_cnt = lr_final.predict(X_train_lm)\n",
    "lr_final.summary()\n"
   ]
  },
  {
   "cell_type": "code",
   "execution_count": null,
   "id": "69a87658",
   "metadata": {
    "scrolled": true
   },
   "outputs": [],
   "source": [
    "#build  model based on RFE common analysis\n",
    "X_train_lm_RFE_eval = X_train[feature_common]\n",
    "X_train_lm_RFE_eval = sm.add_constant(X_train_lm_RFE_eval)\n",
    "lr_final_RFE_eval = sm.OLS(y_train, X_train_lm_RFE_eval).fit()\n",
    "y_train_cnt_RFE_eval = lr_final_RFE_eval.predict(X_train_lm_RFE_eval)\n",
    "lr_final_RFE_eval.summary()"
   ]
  },
  {
   "cell_type": "code",
   "execution_count": null,
   "id": "af523350",
   "metadata": {},
   "outputs": [],
   "source": [
    "#build  model based on RFE common analysis\n",
    "X_train_lm_RFE_eval1 = X_train[feature_common1]\n",
    "X_train_lm_RFE_eval1 = sm.add_constant(X_train_lm_RFE_eval)\n",
    "lr_final_RFE_eval1 = sm.OLS(y_train, X_train_lm_RFE_eval1).fit()\n",
    "y_train_cnt_RFE_eval1 = lr_final_RFE_eval1.predict(X_train_lm_RFE_eval1)\n",
    "lr_final_RFE_eval1.summary()"
   ]
  },
  {
   "cell_type": "code",
   "execution_count": null,
   "id": "fntlHmms0qwh",
   "metadata": {
    "colab": {
     "base_uri": "https://localhost:8080/",
     "height": 316
    },
    "id": "fntlHmms0qwh",
    "outputId": "6c5535a6-ba35-4fa3-a4a4-469dc03b95a6",
    "scrolled": true
   },
   "outputs": [],
   "source": [
    "# Plot the histogram of the error terms\n",
    "fig = plt.figure()\n",
    "sns.distplot((y_train - y_train_cnt), bins = 20)\n",
    "fig.suptitle('Error Terms', fontsize = 20)                  # Plot heading \n",
    "plt.xlabel('Errors', fontsize = 18)                         # X-label\n",
    "plt.show()"
   ]
  },
  {
   "cell_type": "code",
   "execution_count": null,
   "id": "c38df1a3",
   "metadata": {
    "colab": {
     "base_uri": "https://localhost:8080/",
     "height": 316
    },
    "id": "fntlHmms0qwh",
    "outputId": "6c5535a6-ba35-4fa3-a4a4-469dc03b95a6",
    "scrolled": true
   },
   "outputs": [],
   "source": [
    "# Plot the histogram of the error terms\n",
    "fig = plt.figure()\n",
    "sns.distplot((y_train - y_train_cnt_RFE_eval), bins = 20)\n",
    "fig.suptitle('Error Terms', fontsize = 20)                  # Plot heading \n",
    "plt.xlabel('Errors', fontsize = 18)                         # X-label\n",
    "plt.show()"
   ]
  },
  {
   "cell_type": "code",
   "execution_count": null,
   "id": "u-xEGPM07cI4",
   "metadata": {
    "colab": {
     "base_uri": "https://localhost:8080/",
     "height": 283
    },
    "id": "u-xEGPM07cI4",
    "outputId": "fbeac127-d038-4b78-ea4c-a0ae87d0d89b",
    "scrolled": false
   },
   "outputs": [],
   "source": [
    "#Reference: https://stats.stackexchange.com/questions/101274/how-to-interpret-a-qq-plot\n",
    "#           https://stats.stackexchange.com/questions/111010/interpreting-qqplot-is-there-any-rule-of-thumb-to-decide-for-non-normality/111013#111013\n",
    "\n",
    "sm.qqplot((y_train - y_train_cnt), fit=True, line='45')\n",
    "plt.show()"
   ]
  },
  {
   "cell_type": "code",
   "execution_count": null,
   "id": "1fb093bf",
   "metadata": {
    "colab": {
     "base_uri": "https://localhost:8080/",
     "height": 283
    },
    "id": "u-xEGPM07cI4",
    "outputId": "fbeac127-d038-4b78-ea4c-a0ae87d0d89b",
    "scrolled": true
   },
   "outputs": [],
   "source": [
    "#Reference: https://stats.stackexchange.com/questions/101274/how-to-interpret-a-qq-plot\n",
    "#           https://stats.stackexchange.com/questions/111010/interpreting-qqplot-is-there-any-rule-of-thumb-to-decide-for-non-normality/111013#111013\n",
    "\n",
    "sm.qqplot((y_train - y_train_cnt_RFE_eval), fit=True, line='45')\n",
    "plt.show()"
   ]
  },
  {
   "cell_type": "markdown",
   "id": "eKfeRCvedFGG",
   "metadata": {
    "id": "eKfeRCvedFGG"
   },
   "source": [
    "### **Step 9: Making prediction based on model coeff.**"
   ]
  },
  {
   "cell_type": "markdown",
   "id": "TcFQUNtDeJx7",
   "metadata": {
    "id": "TcFQUNtDeJx7"
   },
   "source": [
    "###### ***Scaling Test Set***"
   ]
  },
  {
   "cell_type": "code",
   "execution_count": null,
   "id": "CSCNTfGT08ww",
   "metadata": {
    "id": "CSCNTfGT08ww"
   },
   "outputs": [],
   "source": [
    "num_vars=s1_test.columns.tolist()\n",
    "num_vars.remove('cnt')\n",
    "s1_test[num_vars] = scaler.transform(s1_test[num_vars])\n"
   ]
  },
  {
   "cell_type": "code",
   "execution_count": null,
   "id": "RgxH4zjoekc-",
   "metadata": {
    "colab": {
     "base_uri": "https://localhost:8080/",
     "height": 394
    },
    "id": "RgxH4zjoekc-",
    "outputId": "ddff0697-b23a-47d4-882d-3a411ff95375"
   },
   "outputs": [],
   "source": [
    "s1_test.describe()"
   ]
  },
  {
   "cell_type": "markdown",
   "id": "3XT2W4iAfMyA",
   "metadata": {
    "id": "3XT2W4iAfMyA"
   },
   "source": [
    "###### ***Splitting Test Data***"
   ]
  },
  {
   "cell_type": "code",
   "execution_count": null,
   "id": "ZA_Oo7EzenwN",
   "metadata": {
    "id": "ZA_Oo7EzenwN"
   },
   "outputs": [],
   "source": [
    "y_test = s1_test.pop('cnt')\n",
    "X_test = s1_test"
   ]
  },
  {
   "cell_type": "code",
   "execution_count": null,
   "id": "cZ4uPwQ1s0-a",
   "metadata": {
    "colab": {
     "base_uri": "https://localhost:8080/"
    },
    "id": "cZ4uPwQ1s0-a",
    "outputId": "938ff227-9e34-4a0c-cc75-d2040fe688f1"
   },
   "outputs": [],
   "source": [
    "X_test.columns"
   ]
  },
  {
   "cell_type": "code",
   "execution_count": null,
   "id": "SRbrYWdMfZ9n",
   "metadata": {
    "id": "SRbrYWdMfZ9n"
   },
   "outputs": [],
   "source": [
    "#adding constant\n",
    "X_test = X_test[feature_list]\n",
    "X_test = sm.add_constant(X_test)"
   ]
  },
  {
   "cell_type": "code",
   "execution_count": null,
   "id": "163e3e7f",
   "metadata": {
    "colab": {
     "base_uri": "https://localhost:8080/"
    },
    "id": "163e3e7f",
    "outputId": "573102ff-456c-43c7-8f45-5d52eefd0064"
   },
   "outputs": [],
   "source": [
    "##get diffirence between two lists\n",
    "set(X_test.columns.tolist())-set(feature_list)\n",
    "len(feature_list)"
   ]
  },
  {
   "cell_type": "code",
   "execution_count": null,
   "id": "6CxEXj3pgEo6",
   "metadata": {
    "id": "6CxEXj3pgEo6"
   },
   "outputs": [],
   "source": [
    "# Making predictions using model\n",
    "\n",
    "y_pred = lr_final.predict(X_test)"
   ]
  },
  {
   "cell_type": "markdown",
   "id": "4wAXT16mhNDX",
   "metadata": {
    "id": "4wAXT16mhNDX"
   },
   "source": [
    "### **Step 10: Model Evaluation**\n",
    "\n",
    "```\n",
    "Reference:\n",
    "https://www.analyticsvidhya.com/blog/2021/05/know-the-best-evaluation-metrics-for-your-regression-model/\n",
    "```\n",
    "\n"
   ]
  },
  {
   "cell_type": "code",
   "execution_count": null,
   "id": "3Akyl1dXgOmN",
   "metadata": {
    "colab": {
     "base_uri": "https://localhost:8080/",
     "height": 333
    },
    "id": "3Akyl1dXgOmN",
    "outputId": "6c32f74b-8e0e-4e08-b2f3-e96622ec5dbf"
   },
   "outputs": [],
   "source": [
    "# Plotting y_test and y_pred to understand the spread\n",
    "\n",
    "fig = plt.figure()\n",
    "plt.scatter(y_test, y_pred)\n",
    "fig.suptitle('y_test vs y_pred', fontsize = 20)              # Plot heading \n",
    "plt.xlabel('y_test', fontsize = 18)                          # X-label\n",
    "plt.ylabel('y_pred', fontsize = 16)      \n"
   ]
  },
  {
   "cell_type": "code",
   "execution_count": null,
   "id": "dzNK2D4lhW81",
   "metadata": {
    "colab": {
     "base_uri": "https://localhost:8080/",
     "height": 279
    },
    "id": "dzNK2D4lhW81",
    "outputId": "ab45465a-55d4-4c0a-e0fe-f499262c0bac"
   },
   "outputs": [],
   "source": [
    "#Reference: https://stats.stackexchange.com/questions/101274/how-to-interpret-a-qq-plot\n",
    "#           https://stats.stackexchange.com/questions/111010/interpreting-qqplot-is-there-any-rule-of-thumb-to-decide-for-non-normality/111013#111013\n",
    "\n",
    "sm.qqplot((y_test - y_pred), fit=True, line='45')\n",
    "plt.show()"
   ]
  },
  {
   "cell_type": "code",
   "execution_count": null,
   "id": "2Vx3Bd5wrudB",
   "metadata": {
    "colab": {
     "base_uri": "https://localhost:8080/",
     "height": 333
    },
    "id": "2Vx3Bd5wrudB",
    "outputId": "7da598de-e261-45e8-a6b7-dc166f543e86"
   },
   "outputs": [],
   "source": [
    "# Plot the histogram of the error terms\n",
    "fig = plt.figure()\n",
    "sns.distplot((y_test - y_pred), bins = 20)\n",
    "fig.suptitle('Error Terms', fontsize = 20)                  # Plot heading \n",
    "plt.xlabel('Errors', fontsize = 18)    "
   ]
  },
  {
   "cell_type": "code",
   "execution_count": null,
   "id": "DavGUNG4sCAa",
   "metadata": {
    "colab": {
     "base_uri": "https://localhost:8080/",
     "height": 265
    },
    "id": "DavGUNG4sCAa",
    "outputId": "9875cfcc-274d-4c55-f2ee-6adc21ed888d"
   },
   "outputs": [],
   "source": [
    "#plt.scatter(y_pred,(y_test - y_pred))\n",
    "#plt.show()\n",
    "sns.regplot(y_pred,y_test-y_pred,'r')\n",
    "plt.show()"
   ]
  },
  {
   "cell_type": "code",
   "execution_count": null,
   "id": "lnlozi4xvVmb",
   "metadata": {
    "colab": {
     "base_uri": "https://localhost:8080/",
     "height": 485
    },
    "id": "lnlozi4xvVmb",
    "outputId": "1d148235-39ee-49f5-ff1c-25a13c86cc72"
   },
   "outputs": [],
   "source": [
    "# Plotting Actual vs Predicted No of Shares \n",
    "fig,ax = plt.subplots()\n",
    "fig.set_figheight(8)\n",
    "fig.set_figwidth(20)\n",
    "l1,=ax.plot(range(len(y_test)),y_test)\n",
    "l2, = ax.plot(range(len(y_pred)),y_pred)\n",
    "plt.legend([l1,l2],['Actual','Predicted'])\n",
    "plt.title('Predicted vs Actual No of Bike Sharing Counts');\n",
    "plt.ylabel('No of Bike Rentals')\n",
    "plt.xticks([])\n",
    "plt.show()\n"
   ]
  },
  {
   "cell_type": "markdown",
   "id": "bHnqZDyi1WQq",
   "metadata": {
    "id": "bHnqZDyi1WQq"
   },
   "source": [
    "### ***Regression Metrics***"
   ]
  },
  {
   "cell_type": "code",
   "execution_count": null,
   "id": "X-jcr4DyFMfo",
   "metadata": {
    "colab": {
     "base_uri": "https://localhost:8080/"
    },
    "id": "X-jcr4DyFMfo",
    "outputId": "421780f1-0622-410b-fcb9-58372da096f5"
   },
   "outputs": [],
   "source": [
    "from sklearn.metrics import mean_squared_error,r2_score, mean_absolute_error\n",
    "mse_train = mean_squared_error(y_train, y_train_cnt)\n",
    "mae_train = mean_absolute_error(y_train, y_train_cnt)\n",
    "mse_test = mean_squared_error(y_test, y_pred)\n",
    "mae_test = mean_absolute_error(y_test, y_pred)\n",
    "r2_test = r2_score(y_test, y_pred)\n",
    "r2_train = r2_score(y_train, y_train_cnt)\n",
    "MAPE_test = np.mean(np.abs(y_pred - y_test) / (y_test + 1e-5))\n",
    "MAPE_train = np.mean(np.abs(y_train_cnt - y_train) / (y_train + 1e-5))\n",
    "print('R-squared for train data:',round(r2_train,2))\n",
    "print('R-squared for test data:',round(r2_test,2))\n",
    "print('Mean Squared Error for train data',round(mse_train,3))\n",
    "print('Mean Absolute Error for train data',round(mae_train,3))\n",
    "print('Mean Squared Error for test data',round(mse_test,3))\n",
    "print('Mean Absolute Error for test data',round(mae_test,3))\n",
    "print('Mean Absolute Percentage Error for test data',round(MAPE_test,3))\n",
    "print('Mean Absolute Percentage Error for train data',round(MAPE_train,3))"
   ]
  },
  {
   "cell_type": "code",
   "execution_count": null,
   "id": "84fa59c8",
   "metadata": {
    "id": "84fa59c8"
   },
   "outputs": [],
   "source": []
  }
 ],
 "metadata": {
  "colab": {
   "include_colab_link": true,
   "name": "Bike Sharing.ipynb",
   "provenance": []
  },
  "kernelspec": {
   "display_name": "Python 3 (ipykernel)",
   "language": "python",
   "name": "python3"
  },
  "language_info": {
   "codemirror_mode": {
    "name": "ipython",
    "version": 3
   },
   "file_extension": ".py",
   "mimetype": "text/x-python",
   "name": "python",
   "nbconvert_exporter": "python",
   "pygments_lexer": "ipython3",
   "version": "3.10.1"
  }
 },
 "nbformat": 4,
 "nbformat_minor": 5
}
