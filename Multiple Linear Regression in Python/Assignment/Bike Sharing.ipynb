{
  "cells": [
    {
      "cell_type": "markdown",
      "metadata": {
        "id": "view-in-github",
        "colab_type": "text"
      },
      "source": [
        "<a href=\"https://colab.research.google.com/github/ishankarve/Linear-Regression/blob/main/Multiple%20Linear%20Regression%20in%20Python/Assignment/Bike%20Sharing.ipynb\" target=\"_parent\"><img src=\"https://colab.research.google.com/assets/colab-badge.svg\" alt=\"Open In Colab\"/></a>"
      ]
    },
    {
      "cell_type": "markdown",
      "source": [
        "### **Objective**\n",
        "Build a multiple linear regression model for the prediction of demand for shared bikes. "
      ],
      "metadata": {
        "id": "b_VG-5Olq5dU"
      },
      "id": "b_VG-5Olq5dU"
    },
    {
      "cell_type": "markdown",
      "source": [
        "### **Problem Statement**\n",
        "\n",
        "A US bike-sharing provider **BoomBikes** has recently suffered considerable dips in their revenues due to the ongoing Corona pandemic. The company is finding it very difficult to sustain in the current market scenario. So, it has decided to come up with a mindful business plan to be able to accelerate its revenue as soon as the ongoing lockdown comes to an end, and the economy restores to a healthy state. \n",
        "\n",
        "In such an attempt, BoomBikes aspires to understand the demand for shared bikes among the people after this ongoing quarantine situation ends across the nation due to Covid-19. \n"
      ],
      "metadata": {
        "id": "WaIRRUrZrPpr"
      },
      "id": "WaIRRUrZrPpr"
    },
    {
      "cell_type": "markdown",
      "source": [
        "### **Business Goal**\n",
        "\n",
        "Find variables are significant in predicting the demand for shared bikes and how well those variables describe the bike demands\n",
        "Based on various **meteorological surveys** and people's styles, the service provider firm has gathered a large dataset on daily bike demands across the American market based on some factors. \n",
        "\n",
        "Based on the goal mentioned above, model the demand for shared bikes with the available independent variables."
      ],
      "metadata": {
        "id": "lxOJfPdkruVw"
      },
      "id": "lxOJfPdkruVw"
    },
    {
      "cell_type": "markdown",
      "source": [
        "### **Data Caveats**\n",
        "\n",
        "1.   In the dataset that some of the variables like 'weathersit' and 'season' have values as 1, 2, 3, 4 which have specific labels associated with them (as described in the data dictionary). These numeric values associated with the labels may indicate that there is some order to them - which is actually not the case. So, it is advisable to convert such feature values into categorical string values before proceeding with model building.\n",
        "\n",
        "2.  The column 'yr' has two values 0 and 1 indicating the years 2018 and 2019 respectively. Since these bike-sharing systems are slowly gaining popularity, the demand for these bikes is increasing every year proving that the column 'yr' might be a good variable for prediction. So think twice before dropping it. \n"
      ],
      "metadata": {
        "id": "Ub-N2bKNsHjN"
      },
      "id": "Ub-N2bKNsHjN"
    },
    {
      "cell_type": "markdown",
      "source": [
        "### **Model Building**\n",
        "\n",
        "In the dataset provided,there are three columns named 'casual', 'registered', and 'cnt'. The variable 'casual' indicates the number casual users who have made a rental. The variable 'registered' on the other hand shows the total number of registered users who have made a booking on a given day. Finally, the 'cnt' variable indicates the total number of bike rentals, including both casual and registered. ***The model should be built taking this 'cnt' as the target variable.***"
      ],
      "metadata": {
        "id": "KOt0RHQBtJ31"
      },
      "id": "KOt0RHQBtJ31"
    },
    {
      "cell_type": "markdown",
      "source": [
        "### **Step 1: Import Libraries**\n"
      ],
      "metadata": {
        "id": "Vf4xgMYGurn0"
      },
      "id": "Vf4xgMYGurn0"
    },
    {
      "cell_type": "code",
      "source": [
        "import pandas as pd\n",
        "import numpy as np\n",
        "import seaborn as sns\n",
        "import matplotlib.pyplot as plt\n",
        "from sklearn.model_selection import train_test_split\n",
        "from sklearn.preprocessing import MinMaxScaler\n",
        "import statsmodels.api as sm\n",
        "from statsmodels.stats.outliers_influence import variance_inflation_factor\n"
      ],
      "metadata": {
        "id": "vwwbhT8LrMpN"
      },
      "id": "vwwbhT8LrMpN",
      "execution_count": 4,
      "outputs": []
    },
    {
      "cell_type": "code",
      "source": [
        "# Supress Warnings\n",
        "import warnings\n",
        "warnings.filterwarnings('ignore')"
      ],
      "metadata": {
        "id": "eAMQL2kdu_FL"
      },
      "id": "eAMQL2kdu_FL",
      "execution_count": 5,
      "outputs": []
    },
    {
      "cell_type": "markdown",
      "source": [
        "### **Step 2: Import Data**"
      ],
      "metadata": {
        "id": "F0Ruu2jnvnsf"
      },
      "id": "F0Ruu2jnvnsf"
    },
    {
      "cell_type": "code",
      "source": [
        "#import data from gihub link\n",
        "df_bikeshare=pd.read_csv(\"https://raw.githubusercontent.com/ishankarve/Linear-Regression/main/Multiple%20Linear%20Regression%20in%20Python/Assignment/day.csv\")"
      ],
      "metadata": {
        "id": "swiTOr5EvMZC"
      },
      "id": "swiTOr5EvMZC",
      "execution_count": 7,
      "outputs": []
    },
    {
      "cell_type": "code",
      "source": [
        "df_bikeshare.head()"
      ],
      "metadata": {
        "id": "-JBs9HxrwImf",
        "outputId": "e4c9bb20-99d0-432c-a8fd-80c074f0c662",
        "colab": {
          "base_uri": "https://localhost:8080/",
          "height": 357
        }
      },
      "id": "-JBs9HxrwImf",
      "execution_count": 8,
      "outputs": [
        {
          "output_type": "execute_result",
          "data": {
            "text/plain": [
              "   instant      dteday  season  yr  mnth  holiday  weekday  workingday  \\\n",
              "0        1  01-01-2018       1   0     1        0        6           0   \n",
              "1        2  02-01-2018       1   0     1        0        0           0   \n",
              "2        3  03-01-2018       1   0     1        0        1           1   \n",
              "3        4  04-01-2018       1   0     1        0        2           1   \n",
              "4        5  05-01-2018       1   0     1        0        3           1   \n",
              "\n",
              "   weathersit       temp     atemp      hum  windspeed  casual  registered  \\\n",
              "0           2  14.110847  18.18125  80.5833  10.749882     331         654   \n",
              "1           2  14.902598  17.68695  69.6087  16.652113     131         670   \n",
              "2           1   8.050924   9.47025  43.7273  16.636703     120        1229   \n",
              "3           1   8.200000  10.60610  59.0435  10.739832     108        1454   \n",
              "4           1   9.305237  11.46350  43.6957  12.522300      82        1518   \n",
              "\n",
              "    cnt  \n",
              "0   985  \n",
              "1   801  \n",
              "2  1349  \n",
              "3  1562  \n",
              "4  1600  "
            ],
            "text/html": [
              "\n",
              "  <div id=\"df-c34ed9f9-68ca-4e4a-a721-d997608e4ad7\">\n",
              "    <div class=\"colab-df-container\">\n",
              "      <div>\n",
              "<style scoped>\n",
              "    .dataframe tbody tr th:only-of-type {\n",
              "        vertical-align: middle;\n",
              "    }\n",
              "\n",
              "    .dataframe tbody tr th {\n",
              "        vertical-align: top;\n",
              "    }\n",
              "\n",
              "    .dataframe thead th {\n",
              "        text-align: right;\n",
              "    }\n",
              "</style>\n",
              "<table border=\"1\" class=\"dataframe\">\n",
              "  <thead>\n",
              "    <tr style=\"text-align: right;\">\n",
              "      <th></th>\n",
              "      <th>instant</th>\n",
              "      <th>dteday</th>\n",
              "      <th>season</th>\n",
              "      <th>yr</th>\n",
              "      <th>mnth</th>\n",
              "      <th>holiday</th>\n",
              "      <th>weekday</th>\n",
              "      <th>workingday</th>\n",
              "      <th>weathersit</th>\n",
              "      <th>temp</th>\n",
              "      <th>atemp</th>\n",
              "      <th>hum</th>\n",
              "      <th>windspeed</th>\n",
              "      <th>casual</th>\n",
              "      <th>registered</th>\n",
              "      <th>cnt</th>\n",
              "    </tr>\n",
              "  </thead>\n",
              "  <tbody>\n",
              "    <tr>\n",
              "      <th>0</th>\n",
              "      <td>1</td>\n",
              "      <td>01-01-2018</td>\n",
              "      <td>1</td>\n",
              "      <td>0</td>\n",
              "      <td>1</td>\n",
              "      <td>0</td>\n",
              "      <td>6</td>\n",
              "      <td>0</td>\n",
              "      <td>2</td>\n",
              "      <td>14.110847</td>\n",
              "      <td>18.18125</td>\n",
              "      <td>80.5833</td>\n",
              "      <td>10.749882</td>\n",
              "      <td>331</td>\n",
              "      <td>654</td>\n",
              "      <td>985</td>\n",
              "    </tr>\n",
              "    <tr>\n",
              "      <th>1</th>\n",
              "      <td>2</td>\n",
              "      <td>02-01-2018</td>\n",
              "      <td>1</td>\n",
              "      <td>0</td>\n",
              "      <td>1</td>\n",
              "      <td>0</td>\n",
              "      <td>0</td>\n",
              "      <td>0</td>\n",
              "      <td>2</td>\n",
              "      <td>14.902598</td>\n",
              "      <td>17.68695</td>\n",
              "      <td>69.6087</td>\n",
              "      <td>16.652113</td>\n",
              "      <td>131</td>\n",
              "      <td>670</td>\n",
              "      <td>801</td>\n",
              "    </tr>\n",
              "    <tr>\n",
              "      <th>2</th>\n",
              "      <td>3</td>\n",
              "      <td>03-01-2018</td>\n",
              "      <td>1</td>\n",
              "      <td>0</td>\n",
              "      <td>1</td>\n",
              "      <td>0</td>\n",
              "      <td>1</td>\n",
              "      <td>1</td>\n",
              "      <td>1</td>\n",
              "      <td>8.050924</td>\n",
              "      <td>9.47025</td>\n",
              "      <td>43.7273</td>\n",
              "      <td>16.636703</td>\n",
              "      <td>120</td>\n",
              "      <td>1229</td>\n",
              "      <td>1349</td>\n",
              "    </tr>\n",
              "    <tr>\n",
              "      <th>3</th>\n",
              "      <td>4</td>\n",
              "      <td>04-01-2018</td>\n",
              "      <td>1</td>\n",
              "      <td>0</td>\n",
              "      <td>1</td>\n",
              "      <td>0</td>\n",
              "      <td>2</td>\n",
              "      <td>1</td>\n",
              "      <td>1</td>\n",
              "      <td>8.200000</td>\n",
              "      <td>10.60610</td>\n",
              "      <td>59.0435</td>\n",
              "      <td>10.739832</td>\n",
              "      <td>108</td>\n",
              "      <td>1454</td>\n",
              "      <td>1562</td>\n",
              "    </tr>\n",
              "    <tr>\n",
              "      <th>4</th>\n",
              "      <td>5</td>\n",
              "      <td>05-01-2018</td>\n",
              "      <td>1</td>\n",
              "      <td>0</td>\n",
              "      <td>1</td>\n",
              "      <td>0</td>\n",
              "      <td>3</td>\n",
              "      <td>1</td>\n",
              "      <td>1</td>\n",
              "      <td>9.305237</td>\n",
              "      <td>11.46350</td>\n",
              "      <td>43.6957</td>\n",
              "      <td>12.522300</td>\n",
              "      <td>82</td>\n",
              "      <td>1518</td>\n",
              "      <td>1600</td>\n",
              "    </tr>\n",
              "  </tbody>\n",
              "</table>\n",
              "</div>\n",
              "      <button class=\"colab-df-convert\" onclick=\"convertToInteractive('df-c34ed9f9-68ca-4e4a-a721-d997608e4ad7')\"\n",
              "              title=\"Convert this dataframe to an interactive table.\"\n",
              "              style=\"display:none;\">\n",
              "        \n",
              "  <svg xmlns=\"http://www.w3.org/2000/svg\" height=\"24px\"viewBox=\"0 0 24 24\"\n",
              "       width=\"24px\">\n",
              "    <path d=\"M0 0h24v24H0V0z\" fill=\"none\"/>\n",
              "    <path d=\"M18.56 5.44l.94 2.06.94-2.06 2.06-.94-2.06-.94-.94-2.06-.94 2.06-2.06.94zm-11 1L8.5 8.5l.94-2.06 2.06-.94-2.06-.94L8.5 2.5l-.94 2.06-2.06.94zm10 10l.94 2.06.94-2.06 2.06-.94-2.06-.94-.94-2.06-.94 2.06-2.06.94z\"/><path d=\"M17.41 7.96l-1.37-1.37c-.4-.4-.92-.59-1.43-.59-.52 0-1.04.2-1.43.59L10.3 9.45l-7.72 7.72c-.78.78-.78 2.05 0 2.83L4 21.41c.39.39.9.59 1.41.59.51 0 1.02-.2 1.41-.59l7.78-7.78 2.81-2.81c.8-.78.8-2.07 0-2.86zM5.41 20L4 18.59l7.72-7.72 1.47 1.35L5.41 20z\"/>\n",
              "  </svg>\n",
              "      </button>\n",
              "      \n",
              "  <style>\n",
              "    .colab-df-container {\n",
              "      display:flex;\n",
              "      flex-wrap:wrap;\n",
              "      gap: 12px;\n",
              "    }\n",
              "\n",
              "    .colab-df-convert {\n",
              "      background-color: #E8F0FE;\n",
              "      border: none;\n",
              "      border-radius: 50%;\n",
              "      cursor: pointer;\n",
              "      display: none;\n",
              "      fill: #1967D2;\n",
              "      height: 32px;\n",
              "      padding: 0 0 0 0;\n",
              "      width: 32px;\n",
              "    }\n",
              "\n",
              "    .colab-df-convert:hover {\n",
              "      background-color: #E2EBFA;\n",
              "      box-shadow: 0px 1px 2px rgba(60, 64, 67, 0.3), 0px 1px 3px 1px rgba(60, 64, 67, 0.15);\n",
              "      fill: #174EA6;\n",
              "    }\n",
              "\n",
              "    [theme=dark] .colab-df-convert {\n",
              "      background-color: #3B4455;\n",
              "      fill: #D2E3FC;\n",
              "    }\n",
              "\n",
              "    [theme=dark] .colab-df-convert:hover {\n",
              "      background-color: #434B5C;\n",
              "      box-shadow: 0px 1px 3px 1px rgba(0, 0, 0, 0.15);\n",
              "      filter: drop-shadow(0px 1px 2px rgba(0, 0, 0, 0.3));\n",
              "      fill: #FFFFFF;\n",
              "    }\n",
              "  </style>\n",
              "\n",
              "      <script>\n",
              "        const buttonEl =\n",
              "          document.querySelector('#df-c34ed9f9-68ca-4e4a-a721-d997608e4ad7 button.colab-df-convert');\n",
              "        buttonEl.style.display =\n",
              "          google.colab.kernel.accessAllowed ? 'block' : 'none';\n",
              "\n",
              "        async function convertToInteractive(key) {\n",
              "          const element = document.querySelector('#df-c34ed9f9-68ca-4e4a-a721-d997608e4ad7');\n",
              "          const dataTable =\n",
              "            await google.colab.kernel.invokeFunction('convertToInteractive',\n",
              "                                                     [key], {});\n",
              "          if (!dataTable) return;\n",
              "\n",
              "          const docLinkHtml = 'Like what you see? Visit the ' +\n",
              "            '<a target=\"_blank\" href=https://colab.research.google.com/notebooks/data_table.ipynb>data table notebook</a>'\n",
              "            + ' to learn more about interactive tables.';\n",
              "          element.innerHTML = '';\n",
              "          dataTable['output_type'] = 'display_data';\n",
              "          await google.colab.output.renderOutput(dataTable, element);\n",
              "          const docLink = document.createElement('div');\n",
              "          docLink.innerHTML = docLinkHtml;\n",
              "          element.appendChild(docLink);\n",
              "        }\n",
              "      </script>\n",
              "    </div>\n",
              "  </div>\n",
              "  "
            ]
          },
          "metadata": {},
          "execution_count": 8
        }
      ]
    },
    {
      "cell_type": "markdown",
      "source": [
        "### **Data Dictionary**\n",
        "- instant: record index\n",
        "- dteday : date\n",
        "- season : season (1:spring, 2:summer, 3:fall, 4:winter)\n",
        "- yr : year (0: 2018, 1:2019)\n",
        "- mnth : month ( 1 to 12)\n",
        "- holiday : weather day is a holiday or not (extracted from http://dchr.dc.gov/page/holiday-schedule)\n",
        "- weekday : day of the week\n",
        "- workingday : if day is neither weekend nor holiday is 1, otherwise is 0.\n",
        "+ weathersit : \n",
        "\t\t- 1: Clear, Few clouds, Partly cloudy, Partly cloudy\n",
        "\t\t- 2: Mist + Cloudy, Mist + Broken clouds, Mist + Few clouds, Mist\n",
        "\t\t- 3: Light Snow, Light Rain + Thunderstorm + Scattered clouds, Light Rain + Scattered clouds\n",
        "\t\t- 4: Heavy Rain + Ice Pallets + Thunderstorm + Mist, Snow + Fog\n",
        "- temp : temperature in Celsius\n",
        "- atemp: feeling temperature in Celsius\n",
        "- hum: humidity\n",
        "- windspeed: wind speed\n",
        "- casual: count of casual users\n",
        "- registered: count of registered users\n",
        "- cnt: count of total rental bikes including both casual and registered"
      ],
      "metadata": {
        "id": "pnWDtyigwVOt"
      },
      "id": "pnWDtyigwVOt"
    },
    {
      "cell_type": "markdown",
      "source": [
        "### **Step 3: Undertake sanity checks on data**"
      ],
      "metadata": {
        "id": "Q3bhnm3CxHZu"
      },
      "id": "Q3bhnm3CxHZu"
    },
    {
      "cell_type": "code",
      "source": [
        "#get shape of the dataframe\n",
        "df_bikeshare.shape"
      ],
      "metadata": {
        "id": "I3ZMrjszxVhp",
        "outputId": "1aafbca9-4b59-47ff-f2c6-4855ef822fa3",
        "colab": {
          "base_uri": "https://localhost:8080/"
        }
      },
      "id": "I3ZMrjszxVhp",
      "execution_count": 12,
      "outputs": [
        {
          "output_type": "execute_result",
          "data": {
            "text/plain": [
              "(730, 16)"
            ]
          },
          "metadata": {},
          "execution_count": 12
        }
      ]
    },
    {
      "cell_type": "code",
      "source": [
        "#check column dtypes\n",
        "df_bikeshare.info()"
      ],
      "metadata": {
        "id": "TLHrx4IbwR5A",
        "outputId": "68922b96-d48e-4433-858a-66dccd123308",
        "colab": {
          "base_uri": "https://localhost:8080/"
        }
      },
      "id": "TLHrx4IbwR5A",
      "execution_count": 11,
      "outputs": [
        {
          "output_type": "stream",
          "name": "stdout",
          "text": [
            "<class 'pandas.core.frame.DataFrame'>\n",
            "RangeIndex: 730 entries, 0 to 729\n",
            "Data columns (total 16 columns):\n",
            " #   Column      Non-Null Count  Dtype  \n",
            "---  ------      --------------  -----  \n",
            " 0   instant     730 non-null    int64  \n",
            " 1   dteday      730 non-null    object \n",
            " 2   season      730 non-null    int64  \n",
            " 3   yr          730 non-null    int64  \n",
            " 4   mnth        730 non-null    int64  \n",
            " 5   holiday     730 non-null    int64  \n",
            " 6   weekday     730 non-null    int64  \n",
            " 7   workingday  730 non-null    int64  \n",
            " 8   weathersit  730 non-null    int64  \n",
            " 9   temp        730 non-null    float64\n",
            " 10  atemp       730 non-null    float64\n",
            " 11  hum         730 non-null    float64\n",
            " 12  windspeed   730 non-null    float64\n",
            " 13  casual      730 non-null    int64  \n",
            " 14  registered  730 non-null    int64  \n",
            " 15  cnt         730 non-null    int64  \n",
            "dtypes: float64(4), int64(11), object(1)\n",
            "memory usage: 91.4+ KB\n"
          ]
        }
      ]
    },
    {
      "cell_type": "code",
      "source": [
        "#get list of unique variables per column\n",
        "print(df_bikeshare.nunique())"
      ],
      "metadata": {
        "id": "bbw9KCcqx6BX",
        "outputId": "46645d14-c9f2-4794-ff14-8d0a678d8735",
        "colab": {
          "base_uri": "https://localhost:8080/"
        }
      },
      "id": "bbw9KCcqx6BX",
      "execution_count": 13,
      "outputs": [
        {
          "output_type": "stream",
          "name": "stdout",
          "text": [
            "instant       730\n",
            "dteday        730\n",
            "season          4\n",
            "yr              2\n",
            "mnth           12\n",
            "holiday         2\n",
            "weekday         7\n",
            "workingday      2\n",
            "weathersit      3\n",
            "temp          498\n",
            "atemp         689\n",
            "hum           594\n",
            "windspeed     649\n",
            "casual        605\n",
            "registered    678\n",
            "cnt           695\n",
            "dtype: int64\n"
          ]
        }
      ]
    },
    {
      "cell_type": "code",
      "source": [
        "# get count of non-na values across all columns\n",
        "df_bikeshare.apply(lambda x: x.count(), axis=0)"
      ],
      "metadata": {
        "id": "1NhV8r64yHHH",
        "outputId": "0ea7bc3c-6d15-4e1b-c3bd-0c5069415a83",
        "colab": {
          "base_uri": "https://localhost:8080/"
        }
      },
      "id": "1NhV8r64yHHH",
      "execution_count": 14,
      "outputs": [
        {
          "output_type": "execute_result",
          "data": {
            "text/plain": [
              "instant       730\n",
              "dteday        730\n",
              "season        730\n",
              "yr            730\n",
              "mnth          730\n",
              "holiday       730\n",
              "weekday       730\n",
              "workingday    730\n",
              "weathersit    730\n",
              "temp          730\n",
              "atemp         730\n",
              "hum           730\n",
              "windspeed     730\n",
              "casual        730\n",
              "registered    730\n",
              "cnt           730\n",
              "dtype: int64"
            ]
          },
          "metadata": {},
          "execution_count": 14
        }
      ]
    },
    {
      "cell_type": "code",
      "source": [
        "# convert 'dteday' from 'object' to 'datetime'\n",
        "df_bikeshare['dteday'] = pd.to_datetime(df_bikeshare['dteday'], format='%d-%m-%Y') #date is in 01-01-2018 format"
      ],
      "metadata": {
        "id": "-F5tMULqyrH4"
      },
      "id": "-F5tMULqyrH4",
      "execution_count": 17,
      "outputs": []
    },
    {
      "cell_type": "code",
      "source": [
        ""
      ],
      "metadata": {
        "id": "xUYDeKrU0auO"
      },
      "id": "xUYDeKrU0auO",
      "execution_count": null,
      "outputs": []
    }
  ],
  "metadata": {
    "kernelspec": {
      "display_name": "Python 3 (ipykernel)",
      "language": "python",
      "name": "python3"
    },
    "language_info": {
      "codemirror_mode": {
        "name": "ipython",
        "version": 3
      },
      "file_extension": ".py",
      "mimetype": "text/x-python",
      "name": "python",
      "nbconvert_exporter": "python",
      "pygments_lexer": "ipython3",
      "version": "3.10.1"
    },
    "colab": {
      "name": "Bike Sharing.ipynb",
      "provenance": [],
      "include_colab_link": true
    }
  },
  "nbformat": 4,
  "nbformat_minor": 5
}